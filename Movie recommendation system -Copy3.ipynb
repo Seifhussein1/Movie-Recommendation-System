{
 "cells": [
  {
   "cell_type": "markdown",
   "metadata": {},
   "source": [
    "# Movie Recommendation System and Sentiment Analysis\n",
    "\n",
    "## Overview\n",
    "This paper introduces a movie recommendation system that leverages the Cosine Similarity algorithm to provide personalized movie recommendations. The system takes into account various factors, including:\n",
    "\n",
    "- Genre: Recommends movies related to the user's input movie.\n",
    "- Overview: Considers movie summaries.\n",
    "- Cast: Takes into account the actors and actresses.\n",
    "- Ratings: Incorporates user ratings.\n",
    "\n",
    "## Cosine Similarity Algorithm\n",
    "The Cosine Similarity algorithm has proven effective in tests and accurately suggests relevant movies based on the user's preferences.\n",
    "\n",
    "## Sentiment Analysis\n",
    "In addition to movie recommendations, the study explores sentiment analysis to classify reviews as either positive or negative. Two algorithms are employed for this task:\n",
    "\n",
    "1. Naive Bayes (NB): A probabilistic classifier.\n",
    "2. Support Vector Machine (SVM): Used for performance comparison.\n",
    "\n",
    "The diversity of reviews requires careful consideration in choosing the right algorithm. Experimental results slightly favor SVM.\n",
    "\n",
    "--- "
   ]
  },
  {
   "cell_type": "markdown",
   "metadata": {},
   "source": [
    "# Python Libraries\n",
    "## Importing necessary libraries for data preprocessing, NLP, machine learning, and model evaluation.\n"
   ]
  },
  {
   "cell_type": "code",
   "execution_count": 1,
   "metadata": {},
   "outputs": [],
   "source": [
    "import numpy as np # Linear Algebra and lists\n",
    "import pandas as pd # data processing, CSV file I/O (e.g. pd.read_csv)\n",
    "import matplotlib.pyplot as plt\n",
    "import seaborn as sns\n",
    "import nltk #Used for NLP\n",
    "from nltk.corpus import stopwords #MLP\n",
    "\n",
    "from sklearn.feature_extraction.text import TfidfVectorizer #list to vector\n",
    "\n",
    "from sklearn.model_selection import train_test_split\n",
    "\n",
    "from sklearn.metrics import accuracy_score, f1_score, precision_score, recall_score, classification_report, confusion_matrix,auc\n",
    "import pickle\n",
    "import warnings\n",
    "\n",
    "# Suppress all warnings\n",
    "warnings.filterwarnings(\"ignore\")\n"
   ]
  },
  {
   "cell_type": "markdown",
   "metadata": {},
   "source": [
    "# Read  from CSV files into Pandas DataFrames."
   ]
  },
  {
   "cell_type": "code",
   "execution_count": 2,
   "metadata": {},
   "outputs": [],
   "source": [
    "movies = pd.read_csv('tmdb_5000_movies.csv')\n",
    "credits = pd.read_csv('tmdb_5000_credits.csv') "
   ]
  },
  {
   "cell_type": "markdown",
   "metadata": {},
   "source": [
    "# Before making anything like feature selection,feature extraction and classification.\n",
    "## firstly we start with basic data analysis.\n",
    "### Lets look at the first few rows of the first dataset.\n",
    "\n"
   ]
  },
  {
   "cell_type": "code",
   "execution_count": 3,
   "metadata": {
    "colab": {
     "base_uri": "https://localhost:8080/",
     "height": 774
    },
    "execution": {
     "iopub.execute_input": "2021-06-21T12:36:33.757778Z",
     "iopub.status.busy": "2021-06-21T12:36:33.757346Z",
     "iopub.status.idle": "2021-06-21T12:36:33.781729Z",
     "shell.execute_reply": "2021-06-21T12:36:33.780738Z",
     "shell.execute_reply.started": "2021-06-21T12:36:33.757743Z"
    },
    "executionInfo": {
     "elapsed": 32,
     "status": "ok",
     "timestamp": 1641196300284,
     "user": {
      "displayName": "PUNGLIYA VITHIKA",
      "photoUrl": "https://lh3.googleusercontent.com/a-/AOh14Gh1kW9SCW3-ClSjFJuicIgYeSjD8zCIJ6g8DIu_CQ=s64",
      "userId": "10245521390697241014"
     },
     "user_tz": -330
    },
    "id": "i8T6JInhzQs5",
    "outputId": "72e6cbc4-407f-46d6-d9d4-3ba1332d6511",
    "scrolled": true
   },
   "outputs": [
    {
     "data": {
      "text/html": [
       "<div>\n",
       "<style scoped>\n",
       "    .dataframe tbody tr th:only-of-type {\n",
       "        vertical-align: middle;\n",
       "    }\n",
       "\n",
       "    .dataframe tbody tr th {\n",
       "        vertical-align: top;\n",
       "    }\n",
       "\n",
       "    .dataframe thead th {\n",
       "        text-align: right;\n",
       "    }\n",
       "</style>\n",
       "<table border=\"1\" class=\"dataframe\">\n",
       "  <thead>\n",
       "    <tr style=\"text-align: right;\">\n",
       "      <th></th>\n",
       "      <th>budget</th>\n",
       "      <th>genres</th>\n",
       "      <th>homepage</th>\n",
       "      <th>id</th>\n",
       "      <th>keywords</th>\n",
       "      <th>original_language</th>\n",
       "      <th>original_title</th>\n",
       "      <th>overview</th>\n",
       "      <th>popularity</th>\n",
       "      <th>production_companies</th>\n",
       "      <th>production_countries</th>\n",
       "      <th>release_date</th>\n",
       "      <th>revenue</th>\n",
       "      <th>runtime</th>\n",
       "      <th>spoken_languages</th>\n",
       "      <th>status</th>\n",
       "      <th>tagline</th>\n",
       "      <th>title</th>\n",
       "      <th>vote_average</th>\n",
       "      <th>vote_count</th>\n",
       "    </tr>\n",
       "  </thead>\n",
       "  <tbody>\n",
       "    <tr>\n",
       "      <th>0</th>\n",
       "      <td>237000000</td>\n",
       "      <td>[{\"id\": 28, \"name\": \"Action\"}, {\"id\": 12, \"nam...</td>\n",
       "      <td>http://www.avatarmovie.com/</td>\n",
       "      <td>19995</td>\n",
       "      <td>[{\"id\": 1463, \"name\": \"culture clash\"}, {\"id\":...</td>\n",
       "      <td>en</td>\n",
       "      <td>Avatar</td>\n",
       "      <td>In the 22nd century, a paraplegic Marine is di...</td>\n",
       "      <td>150.437577</td>\n",
       "      <td>[{\"name\": \"Ingenious Film Partners\", \"id\": 289...</td>\n",
       "      <td>[{\"iso_3166_1\": \"US\", \"name\": \"United States o...</td>\n",
       "      <td>2009-12-10</td>\n",
       "      <td>2787965087</td>\n",
       "      <td>162.0</td>\n",
       "      <td>[{\"iso_639_1\": \"en\", \"name\": \"English\"}, {\"iso...</td>\n",
       "      <td>Released</td>\n",
       "      <td>Enter the World of Pandora.</td>\n",
       "      <td>Avatar</td>\n",
       "      <td>7.2</td>\n",
       "      <td>11800</td>\n",
       "    </tr>\n",
       "    <tr>\n",
       "      <th>1</th>\n",
       "      <td>300000000</td>\n",
       "      <td>[{\"id\": 12, \"name\": \"Adventure\"}, {\"id\": 14, \"...</td>\n",
       "      <td>http://disney.go.com/disneypictures/pirates/</td>\n",
       "      <td>285</td>\n",
       "      <td>[{\"id\": 270, \"name\": \"ocean\"}, {\"id\": 726, \"na...</td>\n",
       "      <td>en</td>\n",
       "      <td>Pirates of the Caribbean: At World's End</td>\n",
       "      <td>Captain Barbossa, long believed to be dead, ha...</td>\n",
       "      <td>139.082615</td>\n",
       "      <td>[{\"name\": \"Walt Disney Pictures\", \"id\": 2}, {\"...</td>\n",
       "      <td>[{\"iso_3166_1\": \"US\", \"name\": \"United States o...</td>\n",
       "      <td>2007-05-19</td>\n",
       "      <td>961000000</td>\n",
       "      <td>169.0</td>\n",
       "      <td>[{\"iso_639_1\": \"en\", \"name\": \"English\"}]</td>\n",
       "      <td>Released</td>\n",
       "      <td>At the end of the world, the adventure begins.</td>\n",
       "      <td>Pirates of the Caribbean: At World's End</td>\n",
       "      <td>6.9</td>\n",
       "      <td>4500</td>\n",
       "    </tr>\n",
       "    <tr>\n",
       "      <th>2</th>\n",
       "      <td>245000000</td>\n",
       "      <td>[{\"id\": 28, \"name\": \"Action\"}, {\"id\": 12, \"nam...</td>\n",
       "      <td>http://www.sonypictures.com/movies/spectre/</td>\n",
       "      <td>206647</td>\n",
       "      <td>[{\"id\": 470, \"name\": \"spy\"}, {\"id\": 818, \"name...</td>\n",
       "      <td>en</td>\n",
       "      <td>Spectre</td>\n",
       "      <td>A cryptic message from Bond’s past sends him o...</td>\n",
       "      <td>107.376788</td>\n",
       "      <td>[{\"name\": \"Columbia Pictures\", \"id\": 5}, {\"nam...</td>\n",
       "      <td>[{\"iso_3166_1\": \"GB\", \"name\": \"United Kingdom\"...</td>\n",
       "      <td>2015-10-26</td>\n",
       "      <td>880674609</td>\n",
       "      <td>148.0</td>\n",
       "      <td>[{\"iso_639_1\": \"fr\", \"name\": \"Fran\\u00e7ais\"},...</td>\n",
       "      <td>Released</td>\n",
       "      <td>A Plan No One Escapes</td>\n",
       "      <td>Spectre</td>\n",
       "      <td>6.3</td>\n",
       "      <td>4466</td>\n",
       "    </tr>\n",
       "    <tr>\n",
       "      <th>3</th>\n",
       "      <td>250000000</td>\n",
       "      <td>[{\"id\": 28, \"name\": \"Action\"}, {\"id\": 80, \"nam...</td>\n",
       "      <td>http://www.thedarkknightrises.com/</td>\n",
       "      <td>49026</td>\n",
       "      <td>[{\"id\": 849, \"name\": \"dc comics\"}, {\"id\": 853,...</td>\n",
       "      <td>en</td>\n",
       "      <td>The Dark Knight Rises</td>\n",
       "      <td>Following the death of District Attorney Harve...</td>\n",
       "      <td>112.312950</td>\n",
       "      <td>[{\"name\": \"Legendary Pictures\", \"id\": 923}, {\"...</td>\n",
       "      <td>[{\"iso_3166_1\": \"US\", \"name\": \"United States o...</td>\n",
       "      <td>2012-07-16</td>\n",
       "      <td>1084939099</td>\n",
       "      <td>165.0</td>\n",
       "      <td>[{\"iso_639_1\": \"en\", \"name\": \"English\"}]</td>\n",
       "      <td>Released</td>\n",
       "      <td>The Legend Ends</td>\n",
       "      <td>The Dark Knight Rises</td>\n",
       "      <td>7.6</td>\n",
       "      <td>9106</td>\n",
       "    </tr>\n",
       "    <tr>\n",
       "      <th>4</th>\n",
       "      <td>260000000</td>\n",
       "      <td>[{\"id\": 28, \"name\": \"Action\"}, {\"id\": 12, \"nam...</td>\n",
       "      <td>http://movies.disney.com/john-carter</td>\n",
       "      <td>49529</td>\n",
       "      <td>[{\"id\": 818, \"name\": \"based on novel\"}, {\"id\":...</td>\n",
       "      <td>en</td>\n",
       "      <td>John Carter</td>\n",
       "      <td>John Carter is a war-weary, former military ca...</td>\n",
       "      <td>43.926995</td>\n",
       "      <td>[{\"name\": \"Walt Disney Pictures\", \"id\": 2}]</td>\n",
       "      <td>[{\"iso_3166_1\": \"US\", \"name\": \"United States o...</td>\n",
       "      <td>2012-03-07</td>\n",
       "      <td>284139100</td>\n",
       "      <td>132.0</td>\n",
       "      <td>[{\"iso_639_1\": \"en\", \"name\": \"English\"}]</td>\n",
       "      <td>Released</td>\n",
       "      <td>Lost in our world, found in another.</td>\n",
       "      <td>John Carter</td>\n",
       "      <td>6.1</td>\n",
       "      <td>2124</td>\n",
       "    </tr>\n",
       "  </tbody>\n",
       "</table>\n",
       "</div>"
      ],
      "text/plain": [
       "      budget                                             genres  \\\n",
       "0  237000000  [{\"id\": 28, \"name\": \"Action\"}, {\"id\": 12, \"nam...   \n",
       "1  300000000  [{\"id\": 12, \"name\": \"Adventure\"}, {\"id\": 14, \"...   \n",
       "2  245000000  [{\"id\": 28, \"name\": \"Action\"}, {\"id\": 12, \"nam...   \n",
       "3  250000000  [{\"id\": 28, \"name\": \"Action\"}, {\"id\": 80, \"nam...   \n",
       "4  260000000  [{\"id\": 28, \"name\": \"Action\"}, {\"id\": 12, \"nam...   \n",
       "\n",
       "                                       homepage      id  \\\n",
       "0                   http://www.avatarmovie.com/   19995   \n",
       "1  http://disney.go.com/disneypictures/pirates/     285   \n",
       "2   http://www.sonypictures.com/movies/spectre/  206647   \n",
       "3            http://www.thedarkknightrises.com/   49026   \n",
       "4          http://movies.disney.com/john-carter   49529   \n",
       "\n",
       "                                            keywords original_language  \\\n",
       "0  [{\"id\": 1463, \"name\": \"culture clash\"}, {\"id\":...                en   \n",
       "1  [{\"id\": 270, \"name\": \"ocean\"}, {\"id\": 726, \"na...                en   \n",
       "2  [{\"id\": 470, \"name\": \"spy\"}, {\"id\": 818, \"name...                en   \n",
       "3  [{\"id\": 849, \"name\": \"dc comics\"}, {\"id\": 853,...                en   \n",
       "4  [{\"id\": 818, \"name\": \"based on novel\"}, {\"id\":...                en   \n",
       "\n",
       "                             original_title  \\\n",
       "0                                    Avatar   \n",
       "1  Pirates of the Caribbean: At World's End   \n",
       "2                                   Spectre   \n",
       "3                     The Dark Knight Rises   \n",
       "4                               John Carter   \n",
       "\n",
       "                                            overview  popularity  \\\n",
       "0  In the 22nd century, a paraplegic Marine is di...  150.437577   \n",
       "1  Captain Barbossa, long believed to be dead, ha...  139.082615   \n",
       "2  A cryptic message from Bond’s past sends him o...  107.376788   \n",
       "3  Following the death of District Attorney Harve...  112.312950   \n",
       "4  John Carter is a war-weary, former military ca...   43.926995   \n",
       "\n",
       "                                production_companies  \\\n",
       "0  [{\"name\": \"Ingenious Film Partners\", \"id\": 289...   \n",
       "1  [{\"name\": \"Walt Disney Pictures\", \"id\": 2}, {\"...   \n",
       "2  [{\"name\": \"Columbia Pictures\", \"id\": 5}, {\"nam...   \n",
       "3  [{\"name\": \"Legendary Pictures\", \"id\": 923}, {\"...   \n",
       "4        [{\"name\": \"Walt Disney Pictures\", \"id\": 2}]   \n",
       "\n",
       "                                production_countries release_date     revenue  \\\n",
       "0  [{\"iso_3166_1\": \"US\", \"name\": \"United States o...   2009-12-10  2787965087   \n",
       "1  [{\"iso_3166_1\": \"US\", \"name\": \"United States o...   2007-05-19   961000000   \n",
       "2  [{\"iso_3166_1\": \"GB\", \"name\": \"United Kingdom\"...   2015-10-26   880674609   \n",
       "3  [{\"iso_3166_1\": \"US\", \"name\": \"United States o...   2012-07-16  1084939099   \n",
       "4  [{\"iso_3166_1\": \"US\", \"name\": \"United States o...   2012-03-07   284139100   \n",
       "\n",
       "   runtime                                   spoken_languages    status  \\\n",
       "0    162.0  [{\"iso_639_1\": \"en\", \"name\": \"English\"}, {\"iso...  Released   \n",
       "1    169.0           [{\"iso_639_1\": \"en\", \"name\": \"English\"}]  Released   \n",
       "2    148.0  [{\"iso_639_1\": \"fr\", \"name\": \"Fran\\u00e7ais\"},...  Released   \n",
       "3    165.0           [{\"iso_639_1\": \"en\", \"name\": \"English\"}]  Released   \n",
       "4    132.0           [{\"iso_639_1\": \"en\", \"name\": \"English\"}]  Released   \n",
       "\n",
       "                                          tagline  \\\n",
       "0                     Enter the World of Pandora.   \n",
       "1  At the end of the world, the adventure begins.   \n",
       "2                           A Plan No One Escapes   \n",
       "3                                 The Legend Ends   \n",
       "4            Lost in our world, found in another.   \n",
       "\n",
       "                                      title  vote_average  vote_count  \n",
       "0                                    Avatar           7.2       11800  \n",
       "1  Pirates of the Caribbean: At World's End           6.9        4500  \n",
       "2                                   Spectre           6.3        4466  \n",
       "3                     The Dark Knight Rises           7.6        9106  \n",
       "4                               John Carter           6.1        2124  "
      ]
     },
     "execution_count": 3,
     "metadata": {},
     "output_type": "execute_result"
    }
   ],
   "source": [
    "movies.head()"
   ]
  },
  {
   "cell_type": "markdown",
   "metadata": {},
   "source": [
    "### Showing the dimensions (number of rows and columns) of the 'movies' DataFrame."
   ]
  },
  {
   "cell_type": "code",
   "execution_count": 4,
   "metadata": {
    "colab": {
     "base_uri": "https://localhost:8080/"
    },
    "execution": {
     "iopub.execute_input": "2021-06-21T12:33:06.308311Z",
     "iopub.status.busy": "2021-06-21T12:33:06.307921Z",
     "iopub.status.idle": "2021-06-21T12:33:06.316052Z",
     "shell.execute_reply": "2021-06-21T12:33:06.314903Z",
     "shell.execute_reply.started": "2021-06-21T12:33:06.308279Z"
    },
    "executionInfo": {
     "elapsed": 31,
     "status": "ok",
     "timestamp": 1641196300285,
     "user": {
      "displayName": "PUNGLIYA VITHIKA",
      "photoUrl": "https://lh3.googleusercontent.com/a-/AOh14Gh1kW9SCW3-ClSjFJuicIgYeSjD8zCIJ6g8DIu_CQ=s64",
      "userId": "10245521390697241014"
     },
     "user_tz": -330
    },
    "id": "6C8O8LJyzQs7",
    "outputId": "e5240b21-9003-4348-fc68-60b7710198d9"
   },
   "outputs": [
    {
     "data": {
      "text/plain": [
       "(4803, 20)"
      ]
     },
     "execution_count": 4,
     "metadata": {},
     "output_type": "execute_result"
    }
   ],
   "source": [
    "movies.shape"
   ]
  },
  {
   "cell_type": "markdown",
   "metadata": {},
   "source": [
    "### Lets look at the first few rows of the seconde dataset."
   ]
  },
  {
   "cell_type": "code",
   "execution_count": 5,
   "metadata": {
    "colab": {
     "base_uri": "https://localhost:8080/",
     "height": 206
    },
    "execution": {
     "iopub.execute_input": "2021-06-21T12:33:08.787791Z",
     "iopub.status.busy": "2021-06-21T12:33:08.787389Z",
     "iopub.status.idle": "2021-06-21T12:33:08.800864Z",
     "shell.execute_reply": "2021-06-21T12:33:08.799834Z",
     "shell.execute_reply.started": "2021-06-21T12:33:08.787758Z"
    },
    "executionInfo": {
     "elapsed": 25,
     "status": "ok",
     "timestamp": 1641196300285,
     "user": {
      "displayName": "PUNGLIYA VITHIKA",
      "photoUrl": "https://lh3.googleusercontent.com/a-/AOh14Gh1kW9SCW3-ClSjFJuicIgYeSjD8zCIJ6g8DIu_CQ=s64",
      "userId": "10245521390697241014"
     },
     "user_tz": -330
    },
    "id": "MQyCv-EAzQs8",
    "outputId": "9c5e464f-def7-4ca2-b178-80314d0efcd1"
   },
   "outputs": [
    {
     "data": {
      "text/html": [
       "<div>\n",
       "<style scoped>\n",
       "    .dataframe tbody tr th:only-of-type {\n",
       "        vertical-align: middle;\n",
       "    }\n",
       "\n",
       "    .dataframe tbody tr th {\n",
       "        vertical-align: top;\n",
       "    }\n",
       "\n",
       "    .dataframe thead th {\n",
       "        text-align: right;\n",
       "    }\n",
       "</style>\n",
       "<table border=\"1\" class=\"dataframe\">\n",
       "  <thead>\n",
       "    <tr style=\"text-align: right;\">\n",
       "      <th></th>\n",
       "      <th>movie_id</th>\n",
       "      <th>title</th>\n",
       "      <th>cast</th>\n",
       "      <th>crew</th>\n",
       "    </tr>\n",
       "  </thead>\n",
       "  <tbody>\n",
       "    <tr>\n",
       "      <th>0</th>\n",
       "      <td>19995</td>\n",
       "      <td>Avatar</td>\n",
       "      <td>[{\"cast_id\": 242, \"character\": \"Jake Sully\", \"...</td>\n",
       "      <td>[{\"credit_id\": \"52fe48009251416c750aca23\", \"de...</td>\n",
       "    </tr>\n",
       "    <tr>\n",
       "      <th>1</th>\n",
       "      <td>285</td>\n",
       "      <td>Pirates of the Caribbean: At World's End</td>\n",
       "      <td>[{\"cast_id\": 4, \"character\": \"Captain Jack Spa...</td>\n",
       "      <td>[{\"credit_id\": \"52fe4232c3a36847f800b579\", \"de...</td>\n",
       "    </tr>\n",
       "    <tr>\n",
       "      <th>2</th>\n",
       "      <td>206647</td>\n",
       "      <td>Spectre</td>\n",
       "      <td>[{\"cast_id\": 1, \"character\": \"James Bond\", \"cr...</td>\n",
       "      <td>[{\"credit_id\": \"54805967c3a36829b5002c41\", \"de...</td>\n",
       "    </tr>\n",
       "    <tr>\n",
       "      <th>3</th>\n",
       "      <td>49026</td>\n",
       "      <td>The Dark Knight Rises</td>\n",
       "      <td>[{\"cast_id\": 2, \"character\": \"Bruce Wayne / Ba...</td>\n",
       "      <td>[{\"credit_id\": \"52fe4781c3a36847f81398c3\", \"de...</td>\n",
       "    </tr>\n",
       "    <tr>\n",
       "      <th>4</th>\n",
       "      <td>49529</td>\n",
       "      <td>John Carter</td>\n",
       "      <td>[{\"cast_id\": 5, \"character\": \"John Carter\", \"c...</td>\n",
       "      <td>[{\"credit_id\": \"52fe479ac3a36847f813eaa3\", \"de...</td>\n",
       "    </tr>\n",
       "  </tbody>\n",
       "</table>\n",
       "</div>"
      ],
      "text/plain": [
       "   movie_id                                     title  \\\n",
       "0     19995                                    Avatar   \n",
       "1       285  Pirates of the Caribbean: At World's End   \n",
       "2    206647                                   Spectre   \n",
       "3     49026                     The Dark Knight Rises   \n",
       "4     49529                               John Carter   \n",
       "\n",
       "                                                cast  \\\n",
       "0  [{\"cast_id\": 242, \"character\": \"Jake Sully\", \"...   \n",
       "1  [{\"cast_id\": 4, \"character\": \"Captain Jack Spa...   \n",
       "2  [{\"cast_id\": 1, \"character\": \"James Bond\", \"cr...   \n",
       "3  [{\"cast_id\": 2, \"character\": \"Bruce Wayne / Ba...   \n",
       "4  [{\"cast_id\": 5, \"character\": \"John Carter\", \"c...   \n",
       "\n",
       "                                                crew  \n",
       "0  [{\"credit_id\": \"52fe48009251416c750aca23\", \"de...  \n",
       "1  [{\"credit_id\": \"52fe4232c3a36847f800b579\", \"de...  \n",
       "2  [{\"credit_id\": \"54805967c3a36829b5002c41\", \"de...  \n",
       "3  [{\"credit_id\": \"52fe4781c3a36847f81398c3\", \"de...  \n",
       "4  [{\"credit_id\": \"52fe479ac3a36847f813eaa3\", \"de...  "
      ]
     },
     "execution_count": 5,
     "metadata": {},
     "output_type": "execute_result"
    }
   ],
   "source": [
    "credits.head()"
   ]
  },
  {
   "cell_type": "markdown",
   "metadata": {},
   "source": [
    "##  merging the two datasets"
   ]
  },
  {
   "cell_type": "code",
   "execution_count": 6,
   "metadata": {
    "execution": {
     "iopub.execute_input": "2021-06-21T12:36:38.687005Z",
     "iopub.status.busy": "2021-06-21T12:36:38.686521Z",
     "iopub.status.idle": "2021-06-21T12:36:38.713343Z",
     "shell.execute_reply": "2021-06-21T12:36:38.711939Z",
     "shell.execute_reply.started": "2021-06-21T12:36:38.686963Z"
    },
    "id": "S289rnGtzQs9"
   },
   "outputs": [],
   "source": [
    "movies = movies.merge(credits,on='title')\n",
    "#merging the two datasets in movies, according to the title"
   ]
  },
  {
   "cell_type": "markdown",
   "metadata": {},
   "source": [
    "## Display after merging"
   ]
  },
  {
   "cell_type": "code",
   "execution_count": 7,
   "metadata": {
    "colab": {
     "base_uri": "https://localhost:8080/",
     "height": 774
    },
    "execution": {
     "iopub.execute_input": "2021-06-19T12:48:23.470754Z",
     "iopub.status.busy": "2021-06-19T12:48:23.470187Z",
     "iopub.status.idle": "2021-06-19T12:48:23.5041Z",
     "shell.execute_reply": "2021-06-19T12:48:23.503327Z",
     "shell.execute_reply.started": "2021-06-19T12:48:23.470724Z"
    },
    "executionInfo": {
     "elapsed": 25,
     "status": "ok",
     "timestamp": 1641196300287,
     "user": {
      "displayName": "PUNGLIYA VITHIKA",
      "photoUrl": "https://lh3.googleusercontent.com/a-/AOh14Gh1kW9SCW3-ClSjFJuicIgYeSjD8zCIJ6g8DIu_CQ=s64",
      "userId": "10245521390697241014"
     },
     "user_tz": -330
    },
    "id": "ZF-pcUxzzQs-",
    "outputId": "90f40ee9-2520-4fb1-a247-b84e86f772dc"
   },
   "outputs": [
    {
     "data": {
      "text/html": [
       "<div>\n",
       "<style scoped>\n",
       "    .dataframe tbody tr th:only-of-type {\n",
       "        vertical-align: middle;\n",
       "    }\n",
       "\n",
       "    .dataframe tbody tr th {\n",
       "        vertical-align: top;\n",
       "    }\n",
       "\n",
       "    .dataframe thead th {\n",
       "        text-align: right;\n",
       "    }\n",
       "</style>\n",
       "<table border=\"1\" class=\"dataframe\">\n",
       "  <thead>\n",
       "    <tr style=\"text-align: right;\">\n",
       "      <th></th>\n",
       "      <th>budget</th>\n",
       "      <th>genres</th>\n",
       "      <th>homepage</th>\n",
       "      <th>id</th>\n",
       "      <th>keywords</th>\n",
       "      <th>original_language</th>\n",
       "      <th>original_title</th>\n",
       "      <th>overview</th>\n",
       "      <th>popularity</th>\n",
       "      <th>production_companies</th>\n",
       "      <th>...</th>\n",
       "      <th>runtime</th>\n",
       "      <th>spoken_languages</th>\n",
       "      <th>status</th>\n",
       "      <th>tagline</th>\n",
       "      <th>title</th>\n",
       "      <th>vote_average</th>\n",
       "      <th>vote_count</th>\n",
       "      <th>movie_id</th>\n",
       "      <th>cast</th>\n",
       "      <th>crew</th>\n",
       "    </tr>\n",
       "  </thead>\n",
       "  <tbody>\n",
       "    <tr>\n",
       "      <th>0</th>\n",
       "      <td>237000000</td>\n",
       "      <td>[{\"id\": 28, \"name\": \"Action\"}, {\"id\": 12, \"nam...</td>\n",
       "      <td>http://www.avatarmovie.com/</td>\n",
       "      <td>19995</td>\n",
       "      <td>[{\"id\": 1463, \"name\": \"culture clash\"}, {\"id\":...</td>\n",
       "      <td>en</td>\n",
       "      <td>Avatar</td>\n",
       "      <td>In the 22nd century, a paraplegic Marine is di...</td>\n",
       "      <td>150.437577</td>\n",
       "      <td>[{\"name\": \"Ingenious Film Partners\", \"id\": 289...</td>\n",
       "      <td>...</td>\n",
       "      <td>162.0</td>\n",
       "      <td>[{\"iso_639_1\": \"en\", \"name\": \"English\"}, {\"iso...</td>\n",
       "      <td>Released</td>\n",
       "      <td>Enter the World of Pandora.</td>\n",
       "      <td>Avatar</td>\n",
       "      <td>7.2</td>\n",
       "      <td>11800</td>\n",
       "      <td>19995</td>\n",
       "      <td>[{\"cast_id\": 242, \"character\": \"Jake Sully\", \"...</td>\n",
       "      <td>[{\"credit_id\": \"52fe48009251416c750aca23\", \"de...</td>\n",
       "    </tr>\n",
       "    <tr>\n",
       "      <th>1</th>\n",
       "      <td>300000000</td>\n",
       "      <td>[{\"id\": 12, \"name\": \"Adventure\"}, {\"id\": 14, \"...</td>\n",
       "      <td>http://disney.go.com/disneypictures/pirates/</td>\n",
       "      <td>285</td>\n",
       "      <td>[{\"id\": 270, \"name\": \"ocean\"}, {\"id\": 726, \"na...</td>\n",
       "      <td>en</td>\n",
       "      <td>Pirates of the Caribbean: At World's End</td>\n",
       "      <td>Captain Barbossa, long believed to be dead, ha...</td>\n",
       "      <td>139.082615</td>\n",
       "      <td>[{\"name\": \"Walt Disney Pictures\", \"id\": 2}, {\"...</td>\n",
       "      <td>...</td>\n",
       "      <td>169.0</td>\n",
       "      <td>[{\"iso_639_1\": \"en\", \"name\": \"English\"}]</td>\n",
       "      <td>Released</td>\n",
       "      <td>At the end of the world, the adventure begins.</td>\n",
       "      <td>Pirates of the Caribbean: At World's End</td>\n",
       "      <td>6.9</td>\n",
       "      <td>4500</td>\n",
       "      <td>285</td>\n",
       "      <td>[{\"cast_id\": 4, \"character\": \"Captain Jack Spa...</td>\n",
       "      <td>[{\"credit_id\": \"52fe4232c3a36847f800b579\", \"de...</td>\n",
       "    </tr>\n",
       "    <tr>\n",
       "      <th>2</th>\n",
       "      <td>245000000</td>\n",
       "      <td>[{\"id\": 28, \"name\": \"Action\"}, {\"id\": 12, \"nam...</td>\n",
       "      <td>http://www.sonypictures.com/movies/spectre/</td>\n",
       "      <td>206647</td>\n",
       "      <td>[{\"id\": 470, \"name\": \"spy\"}, {\"id\": 818, \"name...</td>\n",
       "      <td>en</td>\n",
       "      <td>Spectre</td>\n",
       "      <td>A cryptic message from Bond’s past sends him o...</td>\n",
       "      <td>107.376788</td>\n",
       "      <td>[{\"name\": \"Columbia Pictures\", \"id\": 5}, {\"nam...</td>\n",
       "      <td>...</td>\n",
       "      <td>148.0</td>\n",
       "      <td>[{\"iso_639_1\": \"fr\", \"name\": \"Fran\\u00e7ais\"},...</td>\n",
       "      <td>Released</td>\n",
       "      <td>A Plan No One Escapes</td>\n",
       "      <td>Spectre</td>\n",
       "      <td>6.3</td>\n",
       "      <td>4466</td>\n",
       "      <td>206647</td>\n",
       "      <td>[{\"cast_id\": 1, \"character\": \"James Bond\", \"cr...</td>\n",
       "      <td>[{\"credit_id\": \"54805967c3a36829b5002c41\", \"de...</td>\n",
       "    </tr>\n",
       "    <tr>\n",
       "      <th>3</th>\n",
       "      <td>250000000</td>\n",
       "      <td>[{\"id\": 28, \"name\": \"Action\"}, {\"id\": 80, \"nam...</td>\n",
       "      <td>http://www.thedarkknightrises.com/</td>\n",
       "      <td>49026</td>\n",
       "      <td>[{\"id\": 849, \"name\": \"dc comics\"}, {\"id\": 853,...</td>\n",
       "      <td>en</td>\n",
       "      <td>The Dark Knight Rises</td>\n",
       "      <td>Following the death of District Attorney Harve...</td>\n",
       "      <td>112.312950</td>\n",
       "      <td>[{\"name\": \"Legendary Pictures\", \"id\": 923}, {\"...</td>\n",
       "      <td>...</td>\n",
       "      <td>165.0</td>\n",
       "      <td>[{\"iso_639_1\": \"en\", \"name\": \"English\"}]</td>\n",
       "      <td>Released</td>\n",
       "      <td>The Legend Ends</td>\n",
       "      <td>The Dark Knight Rises</td>\n",
       "      <td>7.6</td>\n",
       "      <td>9106</td>\n",
       "      <td>49026</td>\n",
       "      <td>[{\"cast_id\": 2, \"character\": \"Bruce Wayne / Ba...</td>\n",
       "      <td>[{\"credit_id\": \"52fe4781c3a36847f81398c3\", \"de...</td>\n",
       "    </tr>\n",
       "    <tr>\n",
       "      <th>4</th>\n",
       "      <td>260000000</td>\n",
       "      <td>[{\"id\": 28, \"name\": \"Action\"}, {\"id\": 12, \"nam...</td>\n",
       "      <td>http://movies.disney.com/john-carter</td>\n",
       "      <td>49529</td>\n",
       "      <td>[{\"id\": 818, \"name\": \"based on novel\"}, {\"id\":...</td>\n",
       "      <td>en</td>\n",
       "      <td>John Carter</td>\n",
       "      <td>John Carter is a war-weary, former military ca...</td>\n",
       "      <td>43.926995</td>\n",
       "      <td>[{\"name\": \"Walt Disney Pictures\", \"id\": 2}]</td>\n",
       "      <td>...</td>\n",
       "      <td>132.0</td>\n",
       "      <td>[{\"iso_639_1\": \"en\", \"name\": \"English\"}]</td>\n",
       "      <td>Released</td>\n",
       "      <td>Lost in our world, found in another.</td>\n",
       "      <td>John Carter</td>\n",
       "      <td>6.1</td>\n",
       "      <td>2124</td>\n",
       "      <td>49529</td>\n",
       "      <td>[{\"cast_id\": 5, \"character\": \"John Carter\", \"c...</td>\n",
       "      <td>[{\"credit_id\": \"52fe479ac3a36847f813eaa3\", \"de...</td>\n",
       "    </tr>\n",
       "  </tbody>\n",
       "</table>\n",
       "<p>5 rows × 23 columns</p>\n",
       "</div>"
      ],
      "text/plain": [
       "      budget                                             genres  \\\n",
       "0  237000000  [{\"id\": 28, \"name\": \"Action\"}, {\"id\": 12, \"nam...   \n",
       "1  300000000  [{\"id\": 12, \"name\": \"Adventure\"}, {\"id\": 14, \"...   \n",
       "2  245000000  [{\"id\": 28, \"name\": \"Action\"}, {\"id\": 12, \"nam...   \n",
       "3  250000000  [{\"id\": 28, \"name\": \"Action\"}, {\"id\": 80, \"nam...   \n",
       "4  260000000  [{\"id\": 28, \"name\": \"Action\"}, {\"id\": 12, \"nam...   \n",
       "\n",
       "                                       homepage      id  \\\n",
       "0                   http://www.avatarmovie.com/   19995   \n",
       "1  http://disney.go.com/disneypictures/pirates/     285   \n",
       "2   http://www.sonypictures.com/movies/spectre/  206647   \n",
       "3            http://www.thedarkknightrises.com/   49026   \n",
       "4          http://movies.disney.com/john-carter   49529   \n",
       "\n",
       "                                            keywords original_language  \\\n",
       "0  [{\"id\": 1463, \"name\": \"culture clash\"}, {\"id\":...                en   \n",
       "1  [{\"id\": 270, \"name\": \"ocean\"}, {\"id\": 726, \"na...                en   \n",
       "2  [{\"id\": 470, \"name\": \"spy\"}, {\"id\": 818, \"name...                en   \n",
       "3  [{\"id\": 849, \"name\": \"dc comics\"}, {\"id\": 853,...                en   \n",
       "4  [{\"id\": 818, \"name\": \"based on novel\"}, {\"id\":...                en   \n",
       "\n",
       "                             original_title  \\\n",
       "0                                    Avatar   \n",
       "1  Pirates of the Caribbean: At World's End   \n",
       "2                                   Spectre   \n",
       "3                     The Dark Knight Rises   \n",
       "4                               John Carter   \n",
       "\n",
       "                                            overview  popularity  \\\n",
       "0  In the 22nd century, a paraplegic Marine is di...  150.437577   \n",
       "1  Captain Barbossa, long believed to be dead, ha...  139.082615   \n",
       "2  A cryptic message from Bond’s past sends him o...  107.376788   \n",
       "3  Following the death of District Attorney Harve...  112.312950   \n",
       "4  John Carter is a war-weary, former military ca...   43.926995   \n",
       "\n",
       "                                production_companies  ... runtime  \\\n",
       "0  [{\"name\": \"Ingenious Film Partners\", \"id\": 289...  ...   162.0   \n",
       "1  [{\"name\": \"Walt Disney Pictures\", \"id\": 2}, {\"...  ...   169.0   \n",
       "2  [{\"name\": \"Columbia Pictures\", \"id\": 5}, {\"nam...  ...   148.0   \n",
       "3  [{\"name\": \"Legendary Pictures\", \"id\": 923}, {\"...  ...   165.0   \n",
       "4        [{\"name\": \"Walt Disney Pictures\", \"id\": 2}]  ...   132.0   \n",
       "\n",
       "                                    spoken_languages    status  \\\n",
       "0  [{\"iso_639_1\": \"en\", \"name\": \"English\"}, {\"iso...  Released   \n",
       "1           [{\"iso_639_1\": \"en\", \"name\": \"English\"}]  Released   \n",
       "2  [{\"iso_639_1\": \"fr\", \"name\": \"Fran\\u00e7ais\"},...  Released   \n",
       "3           [{\"iso_639_1\": \"en\", \"name\": \"English\"}]  Released   \n",
       "4           [{\"iso_639_1\": \"en\", \"name\": \"English\"}]  Released   \n",
       "\n",
       "                                          tagline  \\\n",
       "0                     Enter the World of Pandora.   \n",
       "1  At the end of the world, the adventure begins.   \n",
       "2                           A Plan No One Escapes   \n",
       "3                                 The Legend Ends   \n",
       "4            Lost in our world, found in another.   \n",
       "\n",
       "                                      title vote_average vote_count movie_id  \\\n",
       "0                                    Avatar          7.2      11800    19995   \n",
       "1  Pirates of the Caribbean: At World's End          6.9       4500      285   \n",
       "2                                   Spectre          6.3       4466   206647   \n",
       "3                     The Dark Knight Rises          7.6       9106    49026   \n",
       "4                               John Carter          6.1       2124    49529   \n",
       "\n",
       "                                                cast  \\\n",
       "0  [{\"cast_id\": 242, \"character\": \"Jake Sully\", \"...   \n",
       "1  [{\"cast_id\": 4, \"character\": \"Captain Jack Spa...   \n",
       "2  [{\"cast_id\": 1, \"character\": \"James Bond\", \"cr...   \n",
       "3  [{\"cast_id\": 2, \"character\": \"Bruce Wayne / Ba...   \n",
       "4  [{\"cast_id\": 5, \"character\": \"John Carter\", \"c...   \n",
       "\n",
       "                                                crew  \n",
       "0  [{\"credit_id\": \"52fe48009251416c750aca23\", \"de...  \n",
       "1  [{\"credit_id\": \"52fe4232c3a36847f800b579\", \"de...  \n",
       "2  [{\"credit_id\": \"54805967c3a36829b5002c41\", \"de...  \n",
       "3  [{\"credit_id\": \"52fe4781c3a36847f81398c3\", \"de...  \n",
       "4  [{\"credit_id\": \"52fe479ac3a36847f813eaa3\", \"de...  \n",
       "\n",
       "[5 rows x 23 columns]"
      ]
     },
     "execution_count": 7,
     "metadata": {},
     "output_type": "execute_result"
    }
   ],
   "source": [
    "movies.head()"
   ]
  },
  {
   "cell_type": "code",
   "execution_count": 8,
   "metadata": {
    "colab": {
     "base_uri": "https://localhost:8080/"
    },
    "executionInfo": {
     "elapsed": 24,
     "status": "ok",
     "timestamp": 1641196300287,
     "user": {
      "displayName": "PUNGLIYA VITHIKA",
      "photoUrl": "https://lh3.googleusercontent.com/a-/AOh14Gh1kW9SCW3-ClSjFJuicIgYeSjD8zCIJ6g8DIu_CQ=s64",
      "userId": "10245521390697241014"
     },
     "user_tz": -330
    },
    "id": "v7jtWfJj7mTL",
    "outputId": "666d3d7c-c618-4812-8f12-a10ff9770522"
   },
   "outputs": [
    {
     "name": "stdout",
     "output_type": "stream",
     "text": [
      "Index(['budget', 'genres', 'homepage', 'id', 'keywords', 'original_language',\n",
      "       'original_title', 'overview', 'popularity', 'production_companies',\n",
      "       'production_countries', 'release_date', 'revenue', 'runtime',\n",
      "       'spoken_languages', 'status', 'tagline', 'title', 'vote_average',\n",
      "       'vote_count', 'movie_id', 'cast', 'crew'],\n",
      "      dtype='object')\n"
     ]
    }
   ],
   "source": [
    "#Printing the column names of the 'movies' DataFrame.\n",
    "print(movies.columns)"
   ]
  },
  {
   "cell_type": "markdown",
   "metadata": {},
   "source": [
    "# Data Preprocessing\n",
    "## Selecting specific columns from the 'movies' DataFrame"
   ]
  },
  {
   "cell_type": "code",
   "execution_count": 9,
   "metadata": {},
   "outputs": [],
   "source": [
    "movies = movies[['movie_id','title','overview','genres','keywords','cast','crew']]\n",
    "#only kept essential coulums, dropped only the ones required"
   ]
  },
  {
   "cell_type": "code",
   "execution_count": 10,
   "metadata": {
    "colab": {
     "base_uri": "https://localhost:8080/",
     "height": 337
    },
    "execution": {
     "iopub.execute_input": "2021-06-21T12:33:39.517061Z",
     "iopub.status.busy": "2021-06-21T12:33:39.516481Z",
     "iopub.status.idle": "2021-06-21T12:33:39.532499Z",
     "shell.execute_reply": "2021-06-21T12:33:39.531584Z",
     "shell.execute_reply.started": "2021-06-21T12:33:39.517012Z"
    },
    "executionInfo": {
     "elapsed": 21,
     "status": "ok",
     "timestamp": 1641196300288,
     "user": {
      "displayName": "PUNGLIYA VITHIKA",
      "photoUrl": "https://lh3.googleusercontent.com/a-/AOh14Gh1kW9SCW3-ClSjFJuicIgYeSjD8zCIJ6g8DIu_CQ=s64",
      "userId": "10245521390697241014"
     },
     "user_tz": -330
    },
    "id": "RXPIGBtrzQtA",
    "outputId": "177d0625-0991-4305-b160-9044b4f6f173"
   },
   "outputs": [
    {
     "data": {
      "text/html": [
       "<div>\n",
       "<style scoped>\n",
       "    .dataframe tbody tr th:only-of-type {\n",
       "        vertical-align: middle;\n",
       "    }\n",
       "\n",
       "    .dataframe tbody tr th {\n",
       "        vertical-align: top;\n",
       "    }\n",
       "\n",
       "    .dataframe thead th {\n",
       "        text-align: right;\n",
       "    }\n",
       "</style>\n",
       "<table border=\"1\" class=\"dataframe\">\n",
       "  <thead>\n",
       "    <tr style=\"text-align: right;\">\n",
       "      <th></th>\n",
       "      <th>movie_id</th>\n",
       "      <th>title</th>\n",
       "      <th>overview</th>\n",
       "      <th>genres</th>\n",
       "      <th>keywords</th>\n",
       "      <th>cast</th>\n",
       "      <th>crew</th>\n",
       "    </tr>\n",
       "  </thead>\n",
       "  <tbody>\n",
       "    <tr>\n",
       "      <th>0</th>\n",
       "      <td>19995</td>\n",
       "      <td>Avatar</td>\n",
       "      <td>In the 22nd century, a paraplegic Marine is di...</td>\n",
       "      <td>[{\"id\": 28, \"name\": \"Action\"}, {\"id\": 12, \"nam...</td>\n",
       "      <td>[{\"id\": 1463, \"name\": \"culture clash\"}, {\"id\":...</td>\n",
       "      <td>[{\"cast_id\": 242, \"character\": \"Jake Sully\", \"...</td>\n",
       "      <td>[{\"credit_id\": \"52fe48009251416c750aca23\", \"de...</td>\n",
       "    </tr>\n",
       "    <tr>\n",
       "      <th>1</th>\n",
       "      <td>285</td>\n",
       "      <td>Pirates of the Caribbean: At World's End</td>\n",
       "      <td>Captain Barbossa, long believed to be dead, ha...</td>\n",
       "      <td>[{\"id\": 12, \"name\": \"Adventure\"}, {\"id\": 14, \"...</td>\n",
       "      <td>[{\"id\": 270, \"name\": \"ocean\"}, {\"id\": 726, \"na...</td>\n",
       "      <td>[{\"cast_id\": 4, \"character\": \"Captain Jack Spa...</td>\n",
       "      <td>[{\"credit_id\": \"52fe4232c3a36847f800b579\", \"de...</td>\n",
       "    </tr>\n",
       "    <tr>\n",
       "      <th>2</th>\n",
       "      <td>206647</td>\n",
       "      <td>Spectre</td>\n",
       "      <td>A cryptic message from Bond’s past sends him o...</td>\n",
       "      <td>[{\"id\": 28, \"name\": \"Action\"}, {\"id\": 12, \"nam...</td>\n",
       "      <td>[{\"id\": 470, \"name\": \"spy\"}, {\"id\": 818, \"name...</td>\n",
       "      <td>[{\"cast_id\": 1, \"character\": \"James Bond\", \"cr...</td>\n",
       "      <td>[{\"credit_id\": \"54805967c3a36829b5002c41\", \"de...</td>\n",
       "    </tr>\n",
       "    <tr>\n",
       "      <th>3</th>\n",
       "      <td>49026</td>\n",
       "      <td>The Dark Knight Rises</td>\n",
       "      <td>Following the death of District Attorney Harve...</td>\n",
       "      <td>[{\"id\": 28, \"name\": \"Action\"}, {\"id\": 80, \"nam...</td>\n",
       "      <td>[{\"id\": 849, \"name\": \"dc comics\"}, {\"id\": 853,...</td>\n",
       "      <td>[{\"cast_id\": 2, \"character\": \"Bruce Wayne / Ba...</td>\n",
       "      <td>[{\"credit_id\": \"52fe4781c3a36847f81398c3\", \"de...</td>\n",
       "    </tr>\n",
       "    <tr>\n",
       "      <th>4</th>\n",
       "      <td>49529</td>\n",
       "      <td>John Carter</td>\n",
       "      <td>John Carter is a war-weary, former military ca...</td>\n",
       "      <td>[{\"id\": 28, \"name\": \"Action\"}, {\"id\": 12, \"nam...</td>\n",
       "      <td>[{\"id\": 818, \"name\": \"based on novel\"}, {\"id\":...</td>\n",
       "      <td>[{\"cast_id\": 5, \"character\": \"John Carter\", \"c...</td>\n",
       "      <td>[{\"credit_id\": \"52fe479ac3a36847f813eaa3\", \"de...</td>\n",
       "    </tr>\n",
       "  </tbody>\n",
       "</table>\n",
       "</div>"
      ],
      "text/plain": [
       "   movie_id                                     title  \\\n",
       "0     19995                                    Avatar   \n",
       "1       285  Pirates of the Caribbean: At World's End   \n",
       "2    206647                                   Spectre   \n",
       "3     49026                     The Dark Knight Rises   \n",
       "4     49529                               John Carter   \n",
       "\n",
       "                                            overview  \\\n",
       "0  In the 22nd century, a paraplegic Marine is di...   \n",
       "1  Captain Barbossa, long believed to be dead, ha...   \n",
       "2  A cryptic message from Bond’s past sends him o...   \n",
       "3  Following the death of District Attorney Harve...   \n",
       "4  John Carter is a war-weary, former military ca...   \n",
       "\n",
       "                                              genres  \\\n",
       "0  [{\"id\": 28, \"name\": \"Action\"}, {\"id\": 12, \"nam...   \n",
       "1  [{\"id\": 12, \"name\": \"Adventure\"}, {\"id\": 14, \"...   \n",
       "2  [{\"id\": 28, \"name\": \"Action\"}, {\"id\": 12, \"nam...   \n",
       "3  [{\"id\": 28, \"name\": \"Action\"}, {\"id\": 80, \"nam...   \n",
       "4  [{\"id\": 28, \"name\": \"Action\"}, {\"id\": 12, \"nam...   \n",
       "\n",
       "                                            keywords  \\\n",
       "0  [{\"id\": 1463, \"name\": \"culture clash\"}, {\"id\":...   \n",
       "1  [{\"id\": 270, \"name\": \"ocean\"}, {\"id\": 726, \"na...   \n",
       "2  [{\"id\": 470, \"name\": \"spy\"}, {\"id\": 818, \"name...   \n",
       "3  [{\"id\": 849, \"name\": \"dc comics\"}, {\"id\": 853,...   \n",
       "4  [{\"id\": 818, \"name\": \"based on novel\"}, {\"id\":...   \n",
       "\n",
       "                                                cast  \\\n",
       "0  [{\"cast_id\": 242, \"character\": \"Jake Sully\", \"...   \n",
       "1  [{\"cast_id\": 4, \"character\": \"Captain Jack Spa...   \n",
       "2  [{\"cast_id\": 1, \"character\": \"James Bond\", \"cr...   \n",
       "3  [{\"cast_id\": 2, \"character\": \"Bruce Wayne / Ba...   \n",
       "4  [{\"cast_id\": 5, \"character\": \"John Carter\", \"c...   \n",
       "\n",
       "                                                crew  \n",
       "0  [{\"credit_id\": \"52fe48009251416c750aca23\", \"de...  \n",
       "1  [{\"credit_id\": \"52fe4232c3a36847f800b579\", \"de...  \n",
       "2  [{\"credit_id\": \"54805967c3a36829b5002c41\", \"de...  \n",
       "3  [{\"credit_id\": \"52fe4781c3a36847f81398c3\", \"de...  \n",
       "4  [{\"credit_id\": \"52fe479ac3a36847f813eaa3\", \"de...  "
      ]
     },
     "execution_count": 10,
     "metadata": {},
     "output_type": "execute_result"
    }
   ],
   "source": [
    "movies.head()"
   ]
  },
  {
   "cell_type": "markdown",
   "metadata": {},
   "source": [
    "## Importing the 'ast' module (Abstract Syntax Trees) for literal_eval function."
   ]
  },
  {
   "cell_type": "code",
   "execution_count": 11,
   "metadata": {
    "execution": {
     "iopub.execute_input": "2021-06-21T12:34:19.382856Z",
     "iopub.status.busy": "2021-06-21T12:34:19.382331Z",
     "iopub.status.idle": "2021-06-21T12:34:19.387416Z",
     "shell.execute_reply": "2021-06-21T12:34:19.386451Z",
     "shell.execute_reply.started": "2021-06-21T12:34:19.382822Z"
    },
    "id": "Emq0C_2LzQtB"
   },
   "outputs": [],
   "source": [
    "import ast\n",
    "#abstract syntax trees"
   ]
  },
  {
   "cell_type": "code",
   "execution_count": 12,
   "metadata": {
    "execution": {
     "iopub.execute_input": "2021-06-21T12:36:47.540453Z",
     "iopub.status.busy": "2021-06-21T12:36:47.539904Z",
     "iopub.status.idle": "2021-06-21T12:36:47.545014Z",
     "shell.execute_reply": "2021-06-21T12:36:47.544243Z",
     "shell.execute_reply.started": "2021-06-21T12:36:47.540418Z"
    },
    "id": "UiacmNNGzQtC"
   },
   "outputs": [],
   "source": [
    "def convert(text):\n",
    "    L = []\n",
    "    for i in ast.literal_eval(text):\n",
    "        L.append(i['name']) \n",
    "    return L \n",
    "#The literal_eval safely evaluate an expression node or a string containing a Python literal or container display.\n",
    "#Reads input in the form of a dictionary and appends name only."
   ]
  },
  {
   "cell_type": "markdown",
   "metadata": {},
   "source": [
    "### Removing rows with missing values (NaN) from the 'movies' DataFrame in-place."
   ]
  },
  {
   "cell_type": "code",
   "execution_count": 13,
   "metadata": {
    "execution": {
     "iopub.execute_input": "2021-06-21T12:36:50.059538Z",
     "iopub.status.busy": "2021-06-21T12:36:50.059006Z",
     "iopub.status.idle": "2021-06-21T12:36:50.073095Z",
     "shell.execute_reply": "2021-06-21T12:36:50.071577Z",
     "shell.execute_reply.started": "2021-06-21T12:36:50.059504Z"
    },
    "id": "yG4fS6o7zQtD"
   },
   "outputs": [],
   "source": [
    "movies.dropna(inplace=True)"
   ]
  },
  {
   "cell_type": "code",
   "execution_count": 14,
   "metadata": {
    "colab": {
     "base_uri": "https://localhost:8080/",
     "height": 337
    },
    "execution": {
     "iopub.execute_input": "2021-06-21T12:36:52.344121Z",
     "iopub.status.busy": "2021-06-21T12:36:52.343645Z",
     "iopub.status.idle": "2021-06-21T12:36:52.523910Z",
     "shell.execute_reply": "2021-06-21T12:36:52.522805Z",
     "shell.execute_reply.started": "2021-06-21T12:36:52.344082Z"
    },
    "executionInfo": {
     "elapsed": 1442,
     "status": "ok",
     "timestamp": 1641196301712,
     "user": {
      "displayName": "PUNGLIYA VITHIKA",
      "photoUrl": "https://lh3.googleusercontent.com/a-/AOh14Gh1kW9SCW3-ClSjFJuicIgYeSjD8zCIJ6g8DIu_CQ=s64",
      "userId": "10245521390697241014"
     },
     "user_tz": -330
    },
    "id": "3VafSMmSzQtE",
    "outputId": "289a1fcc-1ac8-4482-9071-4fcd821120ef"
   },
   "outputs": [
    {
     "data": {
      "text/html": [
       "<div>\n",
       "<style scoped>\n",
       "    .dataframe tbody tr th:only-of-type {\n",
       "        vertical-align: middle;\n",
       "    }\n",
       "\n",
       "    .dataframe tbody tr th {\n",
       "        vertical-align: top;\n",
       "    }\n",
       "\n",
       "    .dataframe thead th {\n",
       "        text-align: right;\n",
       "    }\n",
       "</style>\n",
       "<table border=\"1\" class=\"dataframe\">\n",
       "  <thead>\n",
       "    <tr style=\"text-align: right;\">\n",
       "      <th></th>\n",
       "      <th>movie_id</th>\n",
       "      <th>title</th>\n",
       "      <th>overview</th>\n",
       "      <th>genres</th>\n",
       "      <th>keywords</th>\n",
       "      <th>cast</th>\n",
       "      <th>crew</th>\n",
       "    </tr>\n",
       "  </thead>\n",
       "  <tbody>\n",
       "    <tr>\n",
       "      <th>0</th>\n",
       "      <td>19995</td>\n",
       "      <td>Avatar</td>\n",
       "      <td>In the 22nd century, a paraplegic Marine is di...</td>\n",
       "      <td>[Action, Adventure, Fantasy, Science Fiction]</td>\n",
       "      <td>[{\"id\": 1463, \"name\": \"culture clash\"}, {\"id\":...</td>\n",
       "      <td>[{\"cast_id\": 242, \"character\": \"Jake Sully\", \"...</td>\n",
       "      <td>[{\"credit_id\": \"52fe48009251416c750aca23\", \"de...</td>\n",
       "    </tr>\n",
       "    <tr>\n",
       "      <th>1</th>\n",
       "      <td>285</td>\n",
       "      <td>Pirates of the Caribbean: At World's End</td>\n",
       "      <td>Captain Barbossa, long believed to be dead, ha...</td>\n",
       "      <td>[Adventure, Fantasy, Action]</td>\n",
       "      <td>[{\"id\": 270, \"name\": \"ocean\"}, {\"id\": 726, \"na...</td>\n",
       "      <td>[{\"cast_id\": 4, \"character\": \"Captain Jack Spa...</td>\n",
       "      <td>[{\"credit_id\": \"52fe4232c3a36847f800b579\", \"de...</td>\n",
       "    </tr>\n",
       "    <tr>\n",
       "      <th>2</th>\n",
       "      <td>206647</td>\n",
       "      <td>Spectre</td>\n",
       "      <td>A cryptic message from Bond’s past sends him o...</td>\n",
       "      <td>[Action, Adventure, Crime]</td>\n",
       "      <td>[{\"id\": 470, \"name\": \"spy\"}, {\"id\": 818, \"name...</td>\n",
       "      <td>[{\"cast_id\": 1, \"character\": \"James Bond\", \"cr...</td>\n",
       "      <td>[{\"credit_id\": \"54805967c3a36829b5002c41\", \"de...</td>\n",
       "    </tr>\n",
       "    <tr>\n",
       "      <th>3</th>\n",
       "      <td>49026</td>\n",
       "      <td>The Dark Knight Rises</td>\n",
       "      <td>Following the death of District Attorney Harve...</td>\n",
       "      <td>[Action, Crime, Drama, Thriller]</td>\n",
       "      <td>[{\"id\": 849, \"name\": \"dc comics\"}, {\"id\": 853,...</td>\n",
       "      <td>[{\"cast_id\": 2, \"character\": \"Bruce Wayne / Ba...</td>\n",
       "      <td>[{\"credit_id\": \"52fe4781c3a36847f81398c3\", \"de...</td>\n",
       "    </tr>\n",
       "    <tr>\n",
       "      <th>4</th>\n",
       "      <td>49529</td>\n",
       "      <td>John Carter</td>\n",
       "      <td>John Carter is a war-weary, former military ca...</td>\n",
       "      <td>[Action, Adventure, Science Fiction]</td>\n",
       "      <td>[{\"id\": 818, \"name\": \"based on novel\"}, {\"id\":...</td>\n",
       "      <td>[{\"cast_id\": 5, \"character\": \"John Carter\", \"c...</td>\n",
       "      <td>[{\"credit_id\": \"52fe479ac3a36847f813eaa3\", \"de...</td>\n",
       "    </tr>\n",
       "  </tbody>\n",
       "</table>\n",
       "</div>"
      ],
      "text/plain": [
       "   movie_id                                     title  \\\n",
       "0     19995                                    Avatar   \n",
       "1       285  Pirates of the Caribbean: At World's End   \n",
       "2    206647                                   Spectre   \n",
       "3     49026                     The Dark Knight Rises   \n",
       "4     49529                               John Carter   \n",
       "\n",
       "                                            overview  \\\n",
       "0  In the 22nd century, a paraplegic Marine is di...   \n",
       "1  Captain Barbossa, long believed to be dead, ha...   \n",
       "2  A cryptic message from Bond’s past sends him o...   \n",
       "3  Following the death of District Attorney Harve...   \n",
       "4  John Carter is a war-weary, former military ca...   \n",
       "\n",
       "                                          genres  \\\n",
       "0  [Action, Adventure, Fantasy, Science Fiction]   \n",
       "1                   [Adventure, Fantasy, Action]   \n",
       "2                     [Action, Adventure, Crime]   \n",
       "3               [Action, Crime, Drama, Thriller]   \n",
       "4           [Action, Adventure, Science Fiction]   \n",
       "\n",
       "                                            keywords  \\\n",
       "0  [{\"id\": 1463, \"name\": \"culture clash\"}, {\"id\":...   \n",
       "1  [{\"id\": 270, \"name\": \"ocean\"}, {\"id\": 726, \"na...   \n",
       "2  [{\"id\": 470, \"name\": \"spy\"}, {\"id\": 818, \"name...   \n",
       "3  [{\"id\": 849, \"name\": \"dc comics\"}, {\"id\": 853,...   \n",
       "4  [{\"id\": 818, \"name\": \"based on novel\"}, {\"id\":...   \n",
       "\n",
       "                                                cast  \\\n",
       "0  [{\"cast_id\": 242, \"character\": \"Jake Sully\", \"...   \n",
       "1  [{\"cast_id\": 4, \"character\": \"Captain Jack Spa...   \n",
       "2  [{\"cast_id\": 1, \"character\": \"James Bond\", \"cr...   \n",
       "3  [{\"cast_id\": 2, \"character\": \"Bruce Wayne / Ba...   \n",
       "4  [{\"cast_id\": 5, \"character\": \"John Carter\", \"c...   \n",
       "\n",
       "                                                crew  \n",
       "0  [{\"credit_id\": \"52fe48009251416c750aca23\", \"de...  \n",
       "1  [{\"credit_id\": \"52fe4232c3a36847f800b579\", \"de...  \n",
       "2  [{\"credit_id\": \"54805967c3a36829b5002c41\", \"de...  \n",
       "3  [{\"credit_id\": \"52fe4781c3a36847f81398c3\", \"de...  \n",
       "4  [{\"credit_id\": \"52fe479ac3a36847f813eaa3\", \"de...  "
      ]
     },
     "execution_count": 14,
     "metadata": {},
     "output_type": "execute_result"
    }
   ],
   "source": [
    "movies['genres'] = movies['genres'].apply(convert)\n",
    "movies.head()\n",
    "#calling function convert and doing the function for genres"
   ]
  },
  {
   "cell_type": "code",
   "execution_count": 15,
   "metadata": {
    "colab": {
     "base_uri": "https://localhost:8080/",
     "height": 337
    },
    "execution": {
     "iopub.execute_input": "2021-06-21T12:36:55.304439Z",
     "iopub.status.busy": "2021-06-21T12:36:55.304070Z",
     "iopub.status.idle": "2021-06-21T12:36:55.738525Z",
     "shell.execute_reply": "2021-06-21T12:36:55.737123Z",
     "shell.execute_reply.started": "2021-06-21T12:36:55.304408Z"
    },
    "executionInfo": {
     "elapsed": 1035,
     "status": "ok",
     "timestamp": 1641196302741,
     "user": {
      "displayName": "PUNGLIYA VITHIKA",
      "photoUrl": "https://lh3.googleusercontent.com/a-/AOh14Gh1kW9SCW3-ClSjFJuicIgYeSjD8zCIJ6g8DIu_CQ=s64",
      "userId": "10245521390697241014"
     },
     "user_tz": -330
    },
    "id": "6lCeMoktzQtF",
    "outputId": "e7001039-01cd-46d9-c468-92409e8287c9"
   },
   "outputs": [
    {
     "data": {
      "text/html": [
       "<div>\n",
       "<style scoped>\n",
       "    .dataframe tbody tr th:only-of-type {\n",
       "        vertical-align: middle;\n",
       "    }\n",
       "\n",
       "    .dataframe tbody tr th {\n",
       "        vertical-align: top;\n",
       "    }\n",
       "\n",
       "    .dataframe thead th {\n",
       "        text-align: right;\n",
       "    }\n",
       "</style>\n",
       "<table border=\"1\" class=\"dataframe\">\n",
       "  <thead>\n",
       "    <tr style=\"text-align: right;\">\n",
       "      <th></th>\n",
       "      <th>movie_id</th>\n",
       "      <th>title</th>\n",
       "      <th>overview</th>\n",
       "      <th>genres</th>\n",
       "      <th>keywords</th>\n",
       "      <th>cast</th>\n",
       "      <th>crew</th>\n",
       "    </tr>\n",
       "  </thead>\n",
       "  <tbody>\n",
       "    <tr>\n",
       "      <th>0</th>\n",
       "      <td>19995</td>\n",
       "      <td>Avatar</td>\n",
       "      <td>In the 22nd century, a paraplegic Marine is di...</td>\n",
       "      <td>[Action, Adventure, Fantasy, Science Fiction]</td>\n",
       "      <td>[culture clash, future, space war, space colon...</td>\n",
       "      <td>[{\"cast_id\": 242, \"character\": \"Jake Sully\", \"...</td>\n",
       "      <td>[{\"credit_id\": \"52fe48009251416c750aca23\", \"de...</td>\n",
       "    </tr>\n",
       "    <tr>\n",
       "      <th>1</th>\n",
       "      <td>285</td>\n",
       "      <td>Pirates of the Caribbean: At World's End</td>\n",
       "      <td>Captain Barbossa, long believed to be dead, ha...</td>\n",
       "      <td>[Adventure, Fantasy, Action]</td>\n",
       "      <td>[ocean, drug abuse, exotic island, east india ...</td>\n",
       "      <td>[{\"cast_id\": 4, \"character\": \"Captain Jack Spa...</td>\n",
       "      <td>[{\"credit_id\": \"52fe4232c3a36847f800b579\", \"de...</td>\n",
       "    </tr>\n",
       "    <tr>\n",
       "      <th>2</th>\n",
       "      <td>206647</td>\n",
       "      <td>Spectre</td>\n",
       "      <td>A cryptic message from Bond’s past sends him o...</td>\n",
       "      <td>[Action, Adventure, Crime]</td>\n",
       "      <td>[spy, based on novel, secret agent, sequel, mi...</td>\n",
       "      <td>[{\"cast_id\": 1, \"character\": \"James Bond\", \"cr...</td>\n",
       "      <td>[{\"credit_id\": \"54805967c3a36829b5002c41\", \"de...</td>\n",
       "    </tr>\n",
       "    <tr>\n",
       "      <th>3</th>\n",
       "      <td>49026</td>\n",
       "      <td>The Dark Knight Rises</td>\n",
       "      <td>Following the death of District Attorney Harve...</td>\n",
       "      <td>[Action, Crime, Drama, Thriller]</td>\n",
       "      <td>[dc comics, crime fighter, terrorist, secret i...</td>\n",
       "      <td>[{\"cast_id\": 2, \"character\": \"Bruce Wayne / Ba...</td>\n",
       "      <td>[{\"credit_id\": \"52fe4781c3a36847f81398c3\", \"de...</td>\n",
       "    </tr>\n",
       "    <tr>\n",
       "      <th>4</th>\n",
       "      <td>49529</td>\n",
       "      <td>John Carter</td>\n",
       "      <td>John Carter is a war-weary, former military ca...</td>\n",
       "      <td>[Action, Adventure, Science Fiction]</td>\n",
       "      <td>[based on novel, mars, medallion, space travel...</td>\n",
       "      <td>[{\"cast_id\": 5, \"character\": \"John Carter\", \"c...</td>\n",
       "      <td>[{\"credit_id\": \"52fe479ac3a36847f813eaa3\", \"de...</td>\n",
       "    </tr>\n",
       "  </tbody>\n",
       "</table>\n",
       "</div>"
      ],
      "text/plain": [
       "   movie_id                                     title  \\\n",
       "0     19995                                    Avatar   \n",
       "1       285  Pirates of the Caribbean: At World's End   \n",
       "2    206647                                   Spectre   \n",
       "3     49026                     The Dark Knight Rises   \n",
       "4     49529                               John Carter   \n",
       "\n",
       "                                            overview  \\\n",
       "0  In the 22nd century, a paraplegic Marine is di...   \n",
       "1  Captain Barbossa, long believed to be dead, ha...   \n",
       "2  A cryptic message from Bond’s past sends him o...   \n",
       "3  Following the death of District Attorney Harve...   \n",
       "4  John Carter is a war-weary, former military ca...   \n",
       "\n",
       "                                          genres  \\\n",
       "0  [Action, Adventure, Fantasy, Science Fiction]   \n",
       "1                   [Adventure, Fantasy, Action]   \n",
       "2                     [Action, Adventure, Crime]   \n",
       "3               [Action, Crime, Drama, Thriller]   \n",
       "4           [Action, Adventure, Science Fiction]   \n",
       "\n",
       "                                            keywords  \\\n",
       "0  [culture clash, future, space war, space colon...   \n",
       "1  [ocean, drug abuse, exotic island, east india ...   \n",
       "2  [spy, based on novel, secret agent, sequel, mi...   \n",
       "3  [dc comics, crime fighter, terrorist, secret i...   \n",
       "4  [based on novel, mars, medallion, space travel...   \n",
       "\n",
       "                                                cast  \\\n",
       "0  [{\"cast_id\": 242, \"character\": \"Jake Sully\", \"...   \n",
       "1  [{\"cast_id\": 4, \"character\": \"Captain Jack Spa...   \n",
       "2  [{\"cast_id\": 1, \"character\": \"James Bond\", \"cr...   \n",
       "3  [{\"cast_id\": 2, \"character\": \"Bruce Wayne / Ba...   \n",
       "4  [{\"cast_id\": 5, \"character\": \"John Carter\", \"c...   \n",
       "\n",
       "                                                crew  \n",
       "0  [{\"credit_id\": \"52fe48009251416c750aca23\", \"de...  \n",
       "1  [{\"credit_id\": \"52fe4232c3a36847f800b579\", \"de...  \n",
       "2  [{\"credit_id\": \"54805967c3a36829b5002c41\", \"de...  \n",
       "3  [{\"credit_id\": \"52fe4781c3a36847f81398c3\", \"de...  \n",
       "4  [{\"credit_id\": \"52fe479ac3a36847f813eaa3\", \"de...  "
      ]
     },
     "execution_count": 15,
     "metadata": {},
     "output_type": "execute_result"
    }
   ],
   "source": [
    "movies['keywords'] = movies['keywords'].apply(convert)\n",
    "movies.head()\n",
    "#same thing for key words"
   ]
  },
  {
   "cell_type": "markdown",
   "metadata": {},
   "source": [
    "### Using ast.literal_eval to convert a string representation of a list of dictionaries to an actual list of dictionaries."
   ]
  },
  {
   "cell_type": "code",
   "execution_count": 16,
   "metadata": {
    "colab": {
     "base_uri": "https://localhost:8080/"
    },
    "execution": {
     "iopub.execute_input": "2021-06-19T13:07:21.572473Z",
     "iopub.status.busy": "2021-06-19T13:07:21.572154Z",
     "iopub.status.idle": "2021-06-19T13:07:21.578686Z",
     "shell.execute_reply": "2021-06-19T13:07:21.577661Z",
     "shell.execute_reply.started": "2021-06-19T13:07:21.572446Z"
    },
    "executionInfo": {
     "elapsed": 12,
     "status": "ok",
     "timestamp": 1641196302742,
     "user": {
      "displayName": "PUNGLIYA VITHIKA",
      "photoUrl": "https://lh3.googleusercontent.com/a-/AOh14Gh1kW9SCW3-ClSjFJuicIgYeSjD8zCIJ6g8DIu_CQ=s64",
      "userId": "10245521390697241014"
     },
     "user_tz": -330
    },
    "id": "zm_CBxLLzQtG",
    "outputId": "ea4b1118-a4f6-4337-e6d6-b7686ab01947"
   },
   "outputs": [
    {
     "data": {
      "text/plain": [
       "[{'id': 28, 'name': 'Action'},\n",
       " {'id': 12, 'name': 'Adventure'},\n",
       " {'id': 14, 'name': 'Fantasy'},\n",
       " {'id': 878, 'name': 'Science Fiction'}]"
      ]
     },
     "execution_count": 16,
     "metadata": {},
     "output_type": "execute_result"
    }
   ],
   "source": [
    "import ast\n",
    "ast.literal_eval('[{\"id\": 28, \"name\": \"Action\"}, {\"id\": 12, \"name\": \"Adventure\"}, {\"id\": 14, \"name\": \"Fantasy\"}, {\"id\": 878, \"name\": \"Science Fiction\"}]')"
   ]
  },
  {
   "cell_type": "code",
   "execution_count": 17,
   "metadata": {
    "execution": {
     "iopub.execute_input": "2021-06-21T12:36:59.511226Z",
     "iopub.status.busy": "2021-06-21T12:36:59.510859Z",
     "iopub.status.idle": "2021-06-21T12:36:59.517043Z",
     "shell.execute_reply": "2021-06-21T12:36:59.515878Z",
     "shell.execute_reply.started": "2021-06-21T12:36:59.511192Z"
    },
    "id": "-KeKK9OizQtH"
   },
   "outputs": [],
   "source": [
    "# Function 'convert3' extracts the names of the first three genres from a string representation of a list of dictionaries.\n",
    "def convert3(text):\n",
    "    L = []\n",
    "    counter = 0\n",
    "    for i in ast.literal_eval(text):\n",
    "        if counter < 3:\n",
    "            L.append(i['name'])\n",
    "        counter+=1\n",
    "    return L "
   ]
  },
  {
   "cell_type": "code",
   "execution_count": 18,
   "metadata": {
    "colab": {
     "base_uri": "https://localhost:8080/",
     "height": 337
    },
    "execution": {
     "iopub.execute_input": "2021-06-21T12:37:00.829409Z",
     "iopub.status.busy": "2021-06-21T12:37:00.828661Z",
     "iopub.status.idle": "2021-06-21T12:37:04.117090Z",
     "shell.execute_reply": "2021-06-21T12:37:04.115822Z",
     "shell.execute_reply.started": "2021-06-21T12:37:00.829355Z"
    },
    "executionInfo": {
     "elapsed": 11687,
     "status": "ok",
     "timestamp": 1641196314423,
     "user": {
      "displayName": "PUNGLIYA VITHIKA",
      "photoUrl": "https://lh3.googleusercontent.com/a-/AOh14Gh1kW9SCW3-ClSjFJuicIgYeSjD8zCIJ6g8DIu_CQ=s64",
      "userId": "10245521390697241014"
     },
     "user_tz": -330
    },
    "id": "yBgX4-KYzQtI",
    "outputId": "8fcb13e3-5086-4f0a-9881-f9282edb278f"
   },
   "outputs": [
    {
     "data": {
      "text/html": [
       "<div>\n",
       "<style scoped>\n",
       "    .dataframe tbody tr th:only-of-type {\n",
       "        vertical-align: middle;\n",
       "    }\n",
       "\n",
       "    .dataframe tbody tr th {\n",
       "        vertical-align: top;\n",
       "    }\n",
       "\n",
       "    .dataframe thead th {\n",
       "        text-align: right;\n",
       "    }\n",
       "</style>\n",
       "<table border=\"1\" class=\"dataframe\">\n",
       "  <thead>\n",
       "    <tr style=\"text-align: right;\">\n",
       "      <th></th>\n",
       "      <th>movie_id</th>\n",
       "      <th>title</th>\n",
       "      <th>overview</th>\n",
       "      <th>genres</th>\n",
       "      <th>keywords</th>\n",
       "      <th>cast</th>\n",
       "      <th>crew</th>\n",
       "    </tr>\n",
       "  </thead>\n",
       "  <tbody>\n",
       "    <tr>\n",
       "      <th>0</th>\n",
       "      <td>19995</td>\n",
       "      <td>Avatar</td>\n",
       "      <td>In the 22nd century, a paraplegic Marine is di...</td>\n",
       "      <td>[Action, Adventure, Fantasy, Science Fiction]</td>\n",
       "      <td>[culture clash, future, space war, space colon...</td>\n",
       "      <td>[Sam Worthington, Zoe Saldana, Sigourney Weave...</td>\n",
       "      <td>[{\"credit_id\": \"52fe48009251416c750aca23\", \"de...</td>\n",
       "    </tr>\n",
       "    <tr>\n",
       "      <th>1</th>\n",
       "      <td>285</td>\n",
       "      <td>Pirates of the Caribbean: At World's End</td>\n",
       "      <td>Captain Barbossa, long believed to be dead, ha...</td>\n",
       "      <td>[Adventure, Fantasy, Action]</td>\n",
       "      <td>[ocean, drug abuse, exotic island, east india ...</td>\n",
       "      <td>[Johnny Depp, Orlando Bloom, Keira Knightley, ...</td>\n",
       "      <td>[{\"credit_id\": \"52fe4232c3a36847f800b579\", \"de...</td>\n",
       "    </tr>\n",
       "    <tr>\n",
       "      <th>2</th>\n",
       "      <td>206647</td>\n",
       "      <td>Spectre</td>\n",
       "      <td>A cryptic message from Bond’s past sends him o...</td>\n",
       "      <td>[Action, Adventure, Crime]</td>\n",
       "      <td>[spy, based on novel, secret agent, sequel, mi...</td>\n",
       "      <td>[Daniel Craig, Christoph Waltz, Léa Seydoux, R...</td>\n",
       "      <td>[{\"credit_id\": \"54805967c3a36829b5002c41\", \"de...</td>\n",
       "    </tr>\n",
       "    <tr>\n",
       "      <th>3</th>\n",
       "      <td>49026</td>\n",
       "      <td>The Dark Knight Rises</td>\n",
       "      <td>Following the death of District Attorney Harve...</td>\n",
       "      <td>[Action, Crime, Drama, Thriller]</td>\n",
       "      <td>[dc comics, crime fighter, terrorist, secret i...</td>\n",
       "      <td>[Christian Bale, Michael Caine, Gary Oldman, A...</td>\n",
       "      <td>[{\"credit_id\": \"52fe4781c3a36847f81398c3\", \"de...</td>\n",
       "    </tr>\n",
       "    <tr>\n",
       "      <th>4</th>\n",
       "      <td>49529</td>\n",
       "      <td>John Carter</td>\n",
       "      <td>John Carter is a war-weary, former military ca...</td>\n",
       "      <td>[Action, Adventure, Science Fiction]</td>\n",
       "      <td>[based on novel, mars, medallion, space travel...</td>\n",
       "      <td>[Taylor Kitsch, Lynn Collins, Samantha Morton,...</td>\n",
       "      <td>[{\"credit_id\": \"52fe479ac3a36847f813eaa3\", \"de...</td>\n",
       "    </tr>\n",
       "  </tbody>\n",
       "</table>\n",
       "</div>"
      ],
      "text/plain": [
       "   movie_id                                     title  \\\n",
       "0     19995                                    Avatar   \n",
       "1       285  Pirates of the Caribbean: At World's End   \n",
       "2    206647                                   Spectre   \n",
       "3     49026                     The Dark Knight Rises   \n",
       "4     49529                               John Carter   \n",
       "\n",
       "                                            overview  \\\n",
       "0  In the 22nd century, a paraplegic Marine is di...   \n",
       "1  Captain Barbossa, long believed to be dead, ha...   \n",
       "2  A cryptic message from Bond’s past sends him o...   \n",
       "3  Following the death of District Attorney Harve...   \n",
       "4  John Carter is a war-weary, former military ca...   \n",
       "\n",
       "                                          genres  \\\n",
       "0  [Action, Adventure, Fantasy, Science Fiction]   \n",
       "1                   [Adventure, Fantasy, Action]   \n",
       "2                     [Action, Adventure, Crime]   \n",
       "3               [Action, Crime, Drama, Thriller]   \n",
       "4           [Action, Adventure, Science Fiction]   \n",
       "\n",
       "                                            keywords  \\\n",
       "0  [culture clash, future, space war, space colon...   \n",
       "1  [ocean, drug abuse, exotic island, east india ...   \n",
       "2  [spy, based on novel, secret agent, sequel, mi...   \n",
       "3  [dc comics, crime fighter, terrorist, secret i...   \n",
       "4  [based on novel, mars, medallion, space travel...   \n",
       "\n",
       "                                                cast  \\\n",
       "0  [Sam Worthington, Zoe Saldana, Sigourney Weave...   \n",
       "1  [Johnny Depp, Orlando Bloom, Keira Knightley, ...   \n",
       "2  [Daniel Craig, Christoph Waltz, Léa Seydoux, R...   \n",
       "3  [Christian Bale, Michael Caine, Gary Oldman, A...   \n",
       "4  [Taylor Kitsch, Lynn Collins, Samantha Morton,...   \n",
       "\n",
       "                                                crew  \n",
       "0  [{\"credit_id\": \"52fe48009251416c750aca23\", \"de...  \n",
       "1  [{\"credit_id\": \"52fe4232c3a36847f800b579\", \"de...  \n",
       "2  [{\"credit_id\": \"54805967c3a36829b5002c41\", \"de...  \n",
       "3  [{\"credit_id\": \"52fe4781c3a36847f81398c3\", \"de...  \n",
       "4  [{\"credit_id\": \"52fe479ac3a36847f813eaa3\", \"de...  "
      ]
     },
     "execution_count": 18,
     "metadata": {},
     "output_type": "execute_result"
    }
   ],
   "source": [
    "movies['cast'] = movies['cast'].apply(convert)\n",
    "movies.head()\n",
    "#same thing for cast"
   ]
  },
  {
   "cell_type": "code",
   "execution_count": 19,
   "metadata": {
    "execution": {
     "iopub.execute_input": "2021-06-21T12:37:07.352886Z",
     "iopub.status.busy": "2021-06-21T12:37:07.352464Z",
     "iopub.status.idle": "2021-06-21T12:37:07.367808Z",
     "shell.execute_reply": "2021-06-21T12:37:07.366250Z",
     "shell.execute_reply.started": "2021-06-21T12:37:07.352854Z"
    },
    "id": "dOBpd7HhzQtJ"
   },
   "outputs": [],
   "source": [
    "movies['cast'] = movies['cast'].apply(lambda x:x[0:3])"
   ]
  },
  {
   "cell_type": "code",
   "execution_count": 20,
   "metadata": {
    "execution": {
     "iopub.execute_input": "2021-06-21T12:37:09.763317Z",
     "iopub.status.busy": "2021-06-21T12:37:09.762909Z",
     "iopub.status.idle": "2021-06-21T12:37:09.770917Z",
     "shell.execute_reply": "2021-06-21T12:37:09.770002Z",
     "shell.execute_reply.started": "2021-06-21T12:37:09.763278Z"
    },
    "id": "dpXoQNpVzQtK"
   },
   "outputs": [],
   "source": [
    "def fetch_director(text):\n",
    "    L = []\n",
    "    for i in ast.literal_eval(text):\n",
    "        if i['job'] == 'Director':\n",
    "            L.append(i['name'])\n",
    "    return L \n",
    "\n",
    "#only if job is director then append"
   ]
  },
  {
   "cell_type": "code",
   "execution_count": 21,
   "metadata": {
    "execution": {
     "iopub.execute_input": "2021-06-21T12:37:12.190468Z",
     "iopub.status.busy": "2021-06-21T12:37:12.189921Z",
     "iopub.status.idle": "2021-06-21T12:37:15.825662Z",
     "shell.execute_reply": "2021-06-21T12:37:15.824562Z",
     "shell.execute_reply.started": "2021-06-21T12:37:12.190407Z"
    },
    "id": "VWZ9nP3-zQtL"
   },
   "outputs": [],
   "source": [
    "movies['crew'] = movies['crew'].apply(fetch_director)"
   ]
  },
  {
   "cell_type": "code",
   "execution_count": 22,
   "metadata": {
    "colab": {
     "base_uri": "https://localhost:8080/",
     "height": 337
    },
    "execution": {
     "iopub.execute_input": "2021-06-21T12:34:54.994779Z",
     "iopub.status.busy": "2021-06-21T12:34:54.994397Z",
     "iopub.status.idle": "2021-06-21T12:34:55.019276Z",
     "shell.execute_reply": "2021-06-21T12:34:55.017718Z",
     "shell.execute_reply.started": "2021-06-21T12:34:54.994738Z"
    },
    "executionInfo": {
     "elapsed": 43,
     "status": "ok",
     "timestamp": 1641196318329,
     "user": {
      "displayName": "PUNGLIYA VITHIKA",
      "photoUrl": "https://lh3.googleusercontent.com/a-/AOh14Gh1kW9SCW3-ClSjFJuicIgYeSjD8zCIJ6g8DIu_CQ=s64",
      "userId": "10245521390697241014"
     },
     "user_tz": -330
    },
    "id": "w-mOYnh3zQtM",
    "outputId": "d5a327da-dad0-41c2-d5e2-4408ef776fc8"
   },
   "outputs": [
    {
     "data": {
      "text/html": [
       "<div>\n",
       "<style scoped>\n",
       "    .dataframe tbody tr th:only-of-type {\n",
       "        vertical-align: middle;\n",
       "    }\n",
       "\n",
       "    .dataframe tbody tr th {\n",
       "        vertical-align: top;\n",
       "    }\n",
       "\n",
       "    .dataframe thead th {\n",
       "        text-align: right;\n",
       "    }\n",
       "</style>\n",
       "<table border=\"1\" class=\"dataframe\">\n",
       "  <thead>\n",
       "    <tr style=\"text-align: right;\">\n",
       "      <th></th>\n",
       "      <th>movie_id</th>\n",
       "      <th>title</th>\n",
       "      <th>overview</th>\n",
       "      <th>genres</th>\n",
       "      <th>keywords</th>\n",
       "      <th>cast</th>\n",
       "      <th>crew</th>\n",
       "    </tr>\n",
       "  </thead>\n",
       "  <tbody>\n",
       "    <tr>\n",
       "      <th>166</th>\n",
       "      <td>72559</td>\n",
       "      <td>G.I. Joe: Retaliation</td>\n",
       "      <td>Framed for crimes against the country, the G.I...</td>\n",
       "      <td>[Adventure, Action, Science Fiction, Thriller]</td>\n",
       "      <td>[terror, assassin, secret, technology, missile...</td>\n",
       "      <td>[Dwayne Johnson, D.J. Cotrona, Adrianne Palicki]</td>\n",
       "      <td>[Jon M. Chu]</td>\n",
       "    </tr>\n",
       "    <tr>\n",
       "      <th>3179</th>\n",
       "      <td>1621</td>\n",
       "      <td>Trading Places</td>\n",
       "      <td>A snobbish investor and a wily street con-arti...</td>\n",
       "      <td>[Comedy]</td>\n",
       "      <td>[christmas tree, from rags to riches, broker, ...</td>\n",
       "      <td>[Eddie Murphy, Dan Aykroyd, Jamie Lee Curtis]</td>\n",
       "      <td>[John Landis]</td>\n",
       "    </tr>\n",
       "    <tr>\n",
       "      <th>3999</th>\n",
       "      <td>346081</td>\n",
       "      <td>Sardaarji</td>\n",
       "      <td>A ghost hunter uses bottles to capture trouble...</td>\n",
       "      <td>[]</td>\n",
       "      <td>[]</td>\n",
       "      <td>[]</td>\n",
       "      <td>[Rohit Jugraj]</td>\n",
       "    </tr>\n",
       "    <tr>\n",
       "      <th>320</th>\n",
       "      <td>855</td>\n",
       "      <td>Black Hawk Down</td>\n",
       "      <td>When U.S. Rangers and an elite Delta Force tea...</td>\n",
       "      <td>[Action, History, War]</td>\n",
       "      <td>[prisoners of war, wound, somalia, warlord, fa...</td>\n",
       "      <td>[Josh Hartnett, Ewan McGregor, Jason Isaacs]</td>\n",
       "      <td>[Ridley Scott]</td>\n",
       "    </tr>\n",
       "    <tr>\n",
       "      <th>520</th>\n",
       "      <td>38365</td>\n",
       "      <td>Grown Ups</td>\n",
       "      <td>After their high school basketball coach passe...</td>\n",
       "      <td>[Comedy]</td>\n",
       "      <td>[overweight, swing, foot, convertible, arrow]</td>\n",
       "      <td>[Adam Sandler, Salma Hayek, Maria Bello]</td>\n",
       "      <td>[Dennis Dugan]</td>\n",
       "    </tr>\n",
       "  </tbody>\n",
       "</table>\n",
       "</div>"
      ],
      "text/plain": [
       "      movie_id                  title  \\\n",
       "166      72559  G.I. Joe: Retaliation   \n",
       "3179      1621         Trading Places   \n",
       "3999    346081              Sardaarji   \n",
       "320        855        Black Hawk Down   \n",
       "520      38365              Grown Ups   \n",
       "\n",
       "                                               overview  \\\n",
       "166   Framed for crimes against the country, the G.I...   \n",
       "3179  A snobbish investor and a wily street con-arti...   \n",
       "3999  A ghost hunter uses bottles to capture trouble...   \n",
       "320   When U.S. Rangers and an elite Delta Force tea...   \n",
       "520   After their high school basketball coach passe...   \n",
       "\n",
       "                                              genres  \\\n",
       "166   [Adventure, Action, Science Fiction, Thriller]   \n",
       "3179                                        [Comedy]   \n",
       "3999                                              []   \n",
       "320                           [Action, History, War]   \n",
       "520                                         [Comedy]   \n",
       "\n",
       "                                               keywords  \\\n",
       "166   [terror, assassin, secret, technology, missile...   \n",
       "3179  [christmas tree, from rags to riches, broker, ...   \n",
       "3999                                                 []   \n",
       "320   [prisoners of war, wound, somalia, warlord, fa...   \n",
       "520       [overweight, swing, foot, convertible, arrow]   \n",
       "\n",
       "                                                  cast            crew  \n",
       "166   [Dwayne Johnson, D.J. Cotrona, Adrianne Palicki]    [Jon M. Chu]  \n",
       "3179     [Eddie Murphy, Dan Aykroyd, Jamie Lee Curtis]   [John Landis]  \n",
       "3999                                                []  [Rohit Jugraj]  \n",
       "320       [Josh Hartnett, Ewan McGregor, Jason Isaacs]  [Ridley Scott]  \n",
       "520           [Adam Sandler, Salma Hayek, Maria Bello]  [Dennis Dugan]  "
      ]
     },
     "execution_count": 22,
     "metadata": {},
     "output_type": "execute_result"
    }
   ],
   "source": [
    "#movies['overview'] = movies['overview'].apply(lambda x:x.split())\n",
    "movies.sample(5)"
   ]
  },
  {
   "cell_type": "markdown",
   "metadata": {},
   "source": [
    "# Whitespace Removal in List Elements\n"
   ]
  },
  {
   "cell_type": "code",
   "execution_count": 23,
   "metadata": {
    "execution": {
     "iopub.execute_input": "2021-06-21T12:37:20.073320Z",
     "iopub.status.busy": "2021-06-21T12:37:20.072749Z",
     "iopub.status.idle": "2021-06-21T12:37:20.079118Z",
     "shell.execute_reply": "2021-06-21T12:37:20.077997Z",
     "shell.execute_reply.started": "2021-06-21T12:37:20.073270Z"
    },
    "id": "ATrgAK8zzQtO"
   },
   "outputs": [],
   "source": [
    "def collapse(L):\n",
    "    L1 = []\n",
    "    for i in L:\n",
    "        L1.append(i.replace(\" \",\"\"))\n",
    "    return L1\n",
    "#replacing sapce with comma"
   ]
  },
  {
   "cell_type": "markdown",
   "metadata": {},
   "source": [
    "# Whitespace Removal in Movie Data Columns"
   ]
  },
  {
   "cell_type": "code",
   "execution_count": 24,
   "metadata": {
    "execution": {
     "iopub.execute_input": "2021-06-21T12:37:21.283329Z",
     "iopub.status.busy": "2021-06-21T12:37:21.282768Z",
     "iopub.status.idle": "2021-06-21T12:37:21.486755Z",
     "shell.execute_reply": "2021-06-21T12:37:21.485878Z",
     "shell.execute_reply.started": "2021-06-21T12:37:21.283292Z"
    },
    "id": "K_DWRIwgzQtO"
   },
   "outputs": [],
   "source": [
    "movies['cast'] = movies['cast'].apply(collapse)\n",
    "movies['crew'] = movies['crew'].apply(collapse)\n",
    "movies['genres'] = movies['genres'].apply(collapse)\n",
    "movies['keywords'] = movies['keywords'].apply(collapse)"
   ]
  },
  {
   "cell_type": "code",
   "execution_count": 25,
   "metadata": {
    "colab": {
     "base_uri": "https://localhost:8080/",
     "height": 337
    },
    "execution": {
     "iopub.execute_input": "2021-06-21T12:35:23.278589Z",
     "iopub.status.busy": "2021-06-21T12:35:23.278025Z",
     "iopub.status.idle": "2021-06-21T12:35:23.311346Z",
     "shell.execute_reply": "2021-06-21T12:35:23.309971Z",
     "shell.execute_reply.started": "2021-06-21T12:35:23.278539Z"
    },
    "executionInfo": {
     "elapsed": 41,
     "status": "ok",
     "timestamp": 1641196318331,
     "user": {
      "displayName": "PUNGLIYA VITHIKA",
      "photoUrl": "https://lh3.googleusercontent.com/a-/AOh14Gh1kW9SCW3-ClSjFJuicIgYeSjD8zCIJ6g8DIu_CQ=s64",
      "userId": "10245521390697241014"
     },
     "user_tz": -330
    },
    "id": "_mYTbN_ozQtQ",
    "outputId": "fd697905-99f2-4c5b-a516-431023f7fcd2"
   },
   "outputs": [
    {
     "data": {
      "text/html": [
       "<div>\n",
       "<style scoped>\n",
       "    .dataframe tbody tr th:only-of-type {\n",
       "        vertical-align: middle;\n",
       "    }\n",
       "\n",
       "    .dataframe tbody tr th {\n",
       "        vertical-align: top;\n",
       "    }\n",
       "\n",
       "    .dataframe thead th {\n",
       "        text-align: right;\n",
       "    }\n",
       "</style>\n",
       "<table border=\"1\" class=\"dataframe\">\n",
       "  <thead>\n",
       "    <tr style=\"text-align: right;\">\n",
       "      <th></th>\n",
       "      <th>movie_id</th>\n",
       "      <th>title</th>\n",
       "      <th>overview</th>\n",
       "      <th>genres</th>\n",
       "      <th>keywords</th>\n",
       "      <th>cast</th>\n",
       "      <th>crew</th>\n",
       "    </tr>\n",
       "  </thead>\n",
       "  <tbody>\n",
       "    <tr>\n",
       "      <th>0</th>\n",
       "      <td>19995</td>\n",
       "      <td>Avatar</td>\n",
       "      <td>In the 22nd century, a paraplegic Marine is di...</td>\n",
       "      <td>[Action, Adventure, Fantasy, ScienceFiction]</td>\n",
       "      <td>[cultureclash, future, spacewar, spacecolony, ...</td>\n",
       "      <td>[SamWorthington, ZoeSaldana, SigourneyWeaver]</td>\n",
       "      <td>[JamesCameron]</td>\n",
       "    </tr>\n",
       "    <tr>\n",
       "      <th>1</th>\n",
       "      <td>285</td>\n",
       "      <td>Pirates of the Caribbean: At World's End</td>\n",
       "      <td>Captain Barbossa, long believed to be dead, ha...</td>\n",
       "      <td>[Adventure, Fantasy, Action]</td>\n",
       "      <td>[ocean, drugabuse, exoticisland, eastindiatrad...</td>\n",
       "      <td>[JohnnyDepp, OrlandoBloom, KeiraKnightley]</td>\n",
       "      <td>[GoreVerbinski]</td>\n",
       "    </tr>\n",
       "    <tr>\n",
       "      <th>2</th>\n",
       "      <td>206647</td>\n",
       "      <td>Spectre</td>\n",
       "      <td>A cryptic message from Bond’s past sends him o...</td>\n",
       "      <td>[Action, Adventure, Crime]</td>\n",
       "      <td>[spy, basedonnovel, secretagent, sequel, mi6, ...</td>\n",
       "      <td>[DanielCraig, ChristophWaltz, LéaSeydoux]</td>\n",
       "      <td>[SamMendes]</td>\n",
       "    </tr>\n",
       "    <tr>\n",
       "      <th>3</th>\n",
       "      <td>49026</td>\n",
       "      <td>The Dark Knight Rises</td>\n",
       "      <td>Following the death of District Attorney Harve...</td>\n",
       "      <td>[Action, Crime, Drama, Thriller]</td>\n",
       "      <td>[dccomics, crimefighter, terrorist, secretiden...</td>\n",
       "      <td>[ChristianBale, MichaelCaine, GaryOldman]</td>\n",
       "      <td>[ChristopherNolan]</td>\n",
       "    </tr>\n",
       "    <tr>\n",
       "      <th>4</th>\n",
       "      <td>49529</td>\n",
       "      <td>John Carter</td>\n",
       "      <td>John Carter is a war-weary, former military ca...</td>\n",
       "      <td>[Action, Adventure, ScienceFiction]</td>\n",
       "      <td>[basedonnovel, mars, medallion, spacetravel, p...</td>\n",
       "      <td>[TaylorKitsch, LynnCollins, SamanthaMorton]</td>\n",
       "      <td>[AndrewStanton]</td>\n",
       "    </tr>\n",
       "  </tbody>\n",
       "</table>\n",
       "</div>"
      ],
      "text/plain": [
       "   movie_id                                     title  \\\n",
       "0     19995                                    Avatar   \n",
       "1       285  Pirates of the Caribbean: At World's End   \n",
       "2    206647                                   Spectre   \n",
       "3     49026                     The Dark Knight Rises   \n",
       "4     49529                               John Carter   \n",
       "\n",
       "                                            overview  \\\n",
       "0  In the 22nd century, a paraplegic Marine is di...   \n",
       "1  Captain Barbossa, long believed to be dead, ha...   \n",
       "2  A cryptic message from Bond’s past sends him o...   \n",
       "3  Following the death of District Attorney Harve...   \n",
       "4  John Carter is a war-weary, former military ca...   \n",
       "\n",
       "                                         genres  \\\n",
       "0  [Action, Adventure, Fantasy, ScienceFiction]   \n",
       "1                  [Adventure, Fantasy, Action]   \n",
       "2                    [Action, Adventure, Crime]   \n",
       "3              [Action, Crime, Drama, Thriller]   \n",
       "4           [Action, Adventure, ScienceFiction]   \n",
       "\n",
       "                                            keywords  \\\n",
       "0  [cultureclash, future, spacewar, spacecolony, ...   \n",
       "1  [ocean, drugabuse, exoticisland, eastindiatrad...   \n",
       "2  [spy, basedonnovel, secretagent, sequel, mi6, ...   \n",
       "3  [dccomics, crimefighter, terrorist, secretiden...   \n",
       "4  [basedonnovel, mars, medallion, spacetravel, p...   \n",
       "\n",
       "                                            cast                crew  \n",
       "0  [SamWorthington, ZoeSaldana, SigourneyWeaver]      [JamesCameron]  \n",
       "1     [JohnnyDepp, OrlandoBloom, KeiraKnightley]     [GoreVerbinski]  \n",
       "2      [DanielCraig, ChristophWaltz, LéaSeydoux]         [SamMendes]  \n",
       "3      [ChristianBale, MichaelCaine, GaryOldman]  [ChristopherNolan]  \n",
       "4    [TaylorKitsch, LynnCollins, SamanthaMorton]     [AndrewStanton]  "
      ]
     },
     "execution_count": 25,
     "metadata": {},
     "output_type": "execute_result"
    }
   ],
   "source": [
    "movies.head()"
   ]
  },
  {
   "cell_type": "code",
   "execution_count": 26,
   "metadata": {
    "execution": {
     "iopub.execute_input": "2021-06-21T12:37:31.936583Z",
     "iopub.status.busy": "2021-06-21T12:37:31.936003Z",
     "iopub.status.idle": "2021-06-21T12:37:31.975155Z",
     "shell.execute_reply": "2021-06-21T12:37:31.973928Z",
     "shell.execute_reply.started": "2021-06-21T12:37:31.936546Z"
    },
    "id": "Czgq7oiTzQtR"
   },
   "outputs": [],
   "source": [
    "movies['overview'] = movies['overview'].apply(lambda x:x.split())\n",
    "#coverting to a list"
   ]
  },
  {
   "cell_type": "code",
   "execution_count": 27,
   "metadata": {
    "colab": {
     "base_uri": "https://localhost:8080/",
     "height": 337
    },
    "executionInfo": {
     "elapsed": 39,
     "status": "ok",
     "timestamp": 1641196318332,
     "user": {
      "displayName": "PUNGLIYA VITHIKA",
      "photoUrl": "https://lh3.googleusercontent.com/a-/AOh14Gh1kW9SCW3-ClSjFJuicIgYeSjD8zCIJ6g8DIu_CQ=s64",
      "userId": "10245521390697241014"
     },
     "user_tz": -330
    },
    "id": "Lm9P87SKVwsJ",
    "outputId": "6f55bf06-565f-4fd6-b561-9c7bf1a66564"
   },
   "outputs": [
    {
     "data": {
      "text/html": [
       "<div>\n",
       "<style scoped>\n",
       "    .dataframe tbody tr th:only-of-type {\n",
       "        vertical-align: middle;\n",
       "    }\n",
       "\n",
       "    .dataframe tbody tr th {\n",
       "        vertical-align: top;\n",
       "    }\n",
       "\n",
       "    .dataframe thead th {\n",
       "        text-align: right;\n",
       "    }\n",
       "</style>\n",
       "<table border=\"1\" class=\"dataframe\">\n",
       "  <thead>\n",
       "    <tr style=\"text-align: right;\">\n",
       "      <th></th>\n",
       "      <th>movie_id</th>\n",
       "      <th>title</th>\n",
       "      <th>overview</th>\n",
       "      <th>genres</th>\n",
       "      <th>keywords</th>\n",
       "      <th>cast</th>\n",
       "      <th>crew</th>\n",
       "    </tr>\n",
       "  </thead>\n",
       "  <tbody>\n",
       "    <tr>\n",
       "      <th>0</th>\n",
       "      <td>19995</td>\n",
       "      <td>Avatar</td>\n",
       "      <td>[In, the, 22nd, century,, a, paraplegic, Marin...</td>\n",
       "      <td>[Action, Adventure, Fantasy, ScienceFiction]</td>\n",
       "      <td>[cultureclash, future, spacewar, spacecolony, ...</td>\n",
       "      <td>[SamWorthington, ZoeSaldana, SigourneyWeaver]</td>\n",
       "      <td>[JamesCameron]</td>\n",
       "    </tr>\n",
       "    <tr>\n",
       "      <th>1</th>\n",
       "      <td>285</td>\n",
       "      <td>Pirates of the Caribbean: At World's End</td>\n",
       "      <td>[Captain, Barbossa,, long, believed, to, be, d...</td>\n",
       "      <td>[Adventure, Fantasy, Action]</td>\n",
       "      <td>[ocean, drugabuse, exoticisland, eastindiatrad...</td>\n",
       "      <td>[JohnnyDepp, OrlandoBloom, KeiraKnightley]</td>\n",
       "      <td>[GoreVerbinski]</td>\n",
       "    </tr>\n",
       "    <tr>\n",
       "      <th>2</th>\n",
       "      <td>206647</td>\n",
       "      <td>Spectre</td>\n",
       "      <td>[A, cryptic, message, from, Bond’s, past, send...</td>\n",
       "      <td>[Action, Adventure, Crime]</td>\n",
       "      <td>[spy, basedonnovel, secretagent, sequel, mi6, ...</td>\n",
       "      <td>[DanielCraig, ChristophWaltz, LéaSeydoux]</td>\n",
       "      <td>[SamMendes]</td>\n",
       "    </tr>\n",
       "    <tr>\n",
       "      <th>3</th>\n",
       "      <td>49026</td>\n",
       "      <td>The Dark Knight Rises</td>\n",
       "      <td>[Following, the, death, of, District, Attorney...</td>\n",
       "      <td>[Action, Crime, Drama, Thriller]</td>\n",
       "      <td>[dccomics, crimefighter, terrorist, secretiden...</td>\n",
       "      <td>[ChristianBale, MichaelCaine, GaryOldman]</td>\n",
       "      <td>[ChristopherNolan]</td>\n",
       "    </tr>\n",
       "    <tr>\n",
       "      <th>4</th>\n",
       "      <td>49529</td>\n",
       "      <td>John Carter</td>\n",
       "      <td>[John, Carter, is, a, war-weary,, former, mili...</td>\n",
       "      <td>[Action, Adventure, ScienceFiction]</td>\n",
       "      <td>[basedonnovel, mars, medallion, spacetravel, p...</td>\n",
       "      <td>[TaylorKitsch, LynnCollins, SamanthaMorton]</td>\n",
       "      <td>[AndrewStanton]</td>\n",
       "    </tr>\n",
       "  </tbody>\n",
       "</table>\n",
       "</div>"
      ],
      "text/plain": [
       "   movie_id                                     title  \\\n",
       "0     19995                                    Avatar   \n",
       "1       285  Pirates of the Caribbean: At World's End   \n",
       "2    206647                                   Spectre   \n",
       "3     49026                     The Dark Knight Rises   \n",
       "4     49529                               John Carter   \n",
       "\n",
       "                                            overview  \\\n",
       "0  [In, the, 22nd, century,, a, paraplegic, Marin...   \n",
       "1  [Captain, Barbossa,, long, believed, to, be, d...   \n",
       "2  [A, cryptic, message, from, Bond’s, past, send...   \n",
       "3  [Following, the, death, of, District, Attorney...   \n",
       "4  [John, Carter, is, a, war-weary,, former, mili...   \n",
       "\n",
       "                                         genres  \\\n",
       "0  [Action, Adventure, Fantasy, ScienceFiction]   \n",
       "1                  [Adventure, Fantasy, Action]   \n",
       "2                    [Action, Adventure, Crime]   \n",
       "3              [Action, Crime, Drama, Thriller]   \n",
       "4           [Action, Adventure, ScienceFiction]   \n",
       "\n",
       "                                            keywords  \\\n",
       "0  [cultureclash, future, spacewar, spacecolony, ...   \n",
       "1  [ocean, drugabuse, exoticisland, eastindiatrad...   \n",
       "2  [spy, basedonnovel, secretagent, sequel, mi6, ...   \n",
       "3  [dccomics, crimefighter, terrorist, secretiden...   \n",
       "4  [basedonnovel, mars, medallion, spacetravel, p...   \n",
       "\n",
       "                                            cast                crew  \n",
       "0  [SamWorthington, ZoeSaldana, SigourneyWeaver]      [JamesCameron]  \n",
       "1     [JohnnyDepp, OrlandoBloom, KeiraKnightley]     [GoreVerbinski]  \n",
       "2      [DanielCraig, ChristophWaltz, LéaSeydoux]         [SamMendes]  \n",
       "3      [ChristianBale, MichaelCaine, GaryOldman]  [ChristopherNolan]  \n",
       "4    [TaylorKitsch, LynnCollins, SamanthaMorton]     [AndrewStanton]  "
      ]
     },
     "execution_count": 27,
     "metadata": {},
     "output_type": "execute_result"
    }
   ],
   "source": [
    "movies.head()"
   ]
  },
  {
   "cell_type": "code",
   "execution_count": 28,
   "metadata": {
    "execution": {
     "iopub.execute_input": "2021-06-21T12:37:34.466349Z",
     "iopub.status.busy": "2021-06-21T12:37:34.465925Z",
     "iopub.status.idle": "2021-06-21T12:37:34.572742Z",
     "shell.execute_reply": "2021-06-21T12:37:34.571676Z",
     "shell.execute_reply.started": "2021-06-21T12:37:34.466313Z"
    },
    "id": "efCad_HLzQtS"
   },
   "outputs": [],
   "source": [
    "movies['tags'] = movies['overview'] + movies['genres'] + movies['keywords'] + movies['cast'] + movies['crew']\n",
    "#everything added to tags"
   ]
  },
  {
   "cell_type": "code",
   "execution_count": 29,
   "metadata": {
    "colab": {
     "base_uri": "https://localhost:8080/",
     "height": 337
    },
    "executionInfo": {
     "elapsed": 39,
     "status": "ok",
     "timestamp": 1641196318334,
     "user": {
      "displayName": "PUNGLIYA VITHIKA",
      "photoUrl": "https://lh3.googleusercontent.com/a-/AOh14Gh1kW9SCW3-ClSjFJuicIgYeSjD8zCIJ6g8DIu_CQ=s64",
      "userId": "10245521390697241014"
     },
     "user_tz": -330
    },
    "id": "Wlm6H6pzWZeL",
    "outputId": "fdbc4c6c-f95f-4c7e-b055-539c513d8568"
   },
   "outputs": [
    {
     "data": {
      "text/html": [
       "<div>\n",
       "<style scoped>\n",
       "    .dataframe tbody tr th:only-of-type {\n",
       "        vertical-align: middle;\n",
       "    }\n",
       "\n",
       "    .dataframe tbody tr th {\n",
       "        vertical-align: top;\n",
       "    }\n",
       "\n",
       "    .dataframe thead th {\n",
       "        text-align: right;\n",
       "    }\n",
       "</style>\n",
       "<table border=\"1\" class=\"dataframe\">\n",
       "  <thead>\n",
       "    <tr style=\"text-align: right;\">\n",
       "      <th></th>\n",
       "      <th>movie_id</th>\n",
       "      <th>title</th>\n",
       "      <th>overview</th>\n",
       "      <th>genres</th>\n",
       "      <th>keywords</th>\n",
       "      <th>cast</th>\n",
       "      <th>crew</th>\n",
       "      <th>tags</th>\n",
       "    </tr>\n",
       "  </thead>\n",
       "  <tbody>\n",
       "    <tr>\n",
       "      <th>0</th>\n",
       "      <td>19995</td>\n",
       "      <td>Avatar</td>\n",
       "      <td>[In, the, 22nd, century,, a, paraplegic, Marin...</td>\n",
       "      <td>[Action, Adventure, Fantasy, ScienceFiction]</td>\n",
       "      <td>[cultureclash, future, spacewar, spacecolony, ...</td>\n",
       "      <td>[SamWorthington, ZoeSaldana, SigourneyWeaver]</td>\n",
       "      <td>[JamesCameron]</td>\n",
       "      <td>[In, the, 22nd, century,, a, paraplegic, Marin...</td>\n",
       "    </tr>\n",
       "    <tr>\n",
       "      <th>1</th>\n",
       "      <td>285</td>\n",
       "      <td>Pirates of the Caribbean: At World's End</td>\n",
       "      <td>[Captain, Barbossa,, long, believed, to, be, d...</td>\n",
       "      <td>[Adventure, Fantasy, Action]</td>\n",
       "      <td>[ocean, drugabuse, exoticisland, eastindiatrad...</td>\n",
       "      <td>[JohnnyDepp, OrlandoBloom, KeiraKnightley]</td>\n",
       "      <td>[GoreVerbinski]</td>\n",
       "      <td>[Captain, Barbossa,, long, believed, to, be, d...</td>\n",
       "    </tr>\n",
       "    <tr>\n",
       "      <th>2</th>\n",
       "      <td>206647</td>\n",
       "      <td>Spectre</td>\n",
       "      <td>[A, cryptic, message, from, Bond’s, past, send...</td>\n",
       "      <td>[Action, Adventure, Crime]</td>\n",
       "      <td>[spy, basedonnovel, secretagent, sequel, mi6, ...</td>\n",
       "      <td>[DanielCraig, ChristophWaltz, LéaSeydoux]</td>\n",
       "      <td>[SamMendes]</td>\n",
       "      <td>[A, cryptic, message, from, Bond’s, past, send...</td>\n",
       "    </tr>\n",
       "    <tr>\n",
       "      <th>3</th>\n",
       "      <td>49026</td>\n",
       "      <td>The Dark Knight Rises</td>\n",
       "      <td>[Following, the, death, of, District, Attorney...</td>\n",
       "      <td>[Action, Crime, Drama, Thriller]</td>\n",
       "      <td>[dccomics, crimefighter, terrorist, secretiden...</td>\n",
       "      <td>[ChristianBale, MichaelCaine, GaryOldman]</td>\n",
       "      <td>[ChristopherNolan]</td>\n",
       "      <td>[Following, the, death, of, District, Attorney...</td>\n",
       "    </tr>\n",
       "    <tr>\n",
       "      <th>4</th>\n",
       "      <td>49529</td>\n",
       "      <td>John Carter</td>\n",
       "      <td>[John, Carter, is, a, war-weary,, former, mili...</td>\n",
       "      <td>[Action, Adventure, ScienceFiction]</td>\n",
       "      <td>[basedonnovel, mars, medallion, spacetravel, p...</td>\n",
       "      <td>[TaylorKitsch, LynnCollins, SamanthaMorton]</td>\n",
       "      <td>[AndrewStanton]</td>\n",
       "      <td>[John, Carter, is, a, war-weary,, former, mili...</td>\n",
       "    </tr>\n",
       "  </tbody>\n",
       "</table>\n",
       "</div>"
      ],
      "text/plain": [
       "   movie_id                                     title  \\\n",
       "0     19995                                    Avatar   \n",
       "1       285  Pirates of the Caribbean: At World's End   \n",
       "2    206647                                   Spectre   \n",
       "3     49026                     The Dark Knight Rises   \n",
       "4     49529                               John Carter   \n",
       "\n",
       "                                            overview  \\\n",
       "0  [In, the, 22nd, century,, a, paraplegic, Marin...   \n",
       "1  [Captain, Barbossa,, long, believed, to, be, d...   \n",
       "2  [A, cryptic, message, from, Bond’s, past, send...   \n",
       "3  [Following, the, death, of, District, Attorney...   \n",
       "4  [John, Carter, is, a, war-weary,, former, mili...   \n",
       "\n",
       "                                         genres  \\\n",
       "0  [Action, Adventure, Fantasy, ScienceFiction]   \n",
       "1                  [Adventure, Fantasy, Action]   \n",
       "2                    [Action, Adventure, Crime]   \n",
       "3              [Action, Crime, Drama, Thriller]   \n",
       "4           [Action, Adventure, ScienceFiction]   \n",
       "\n",
       "                                            keywords  \\\n",
       "0  [cultureclash, future, spacewar, spacecolony, ...   \n",
       "1  [ocean, drugabuse, exoticisland, eastindiatrad...   \n",
       "2  [spy, basedonnovel, secretagent, sequel, mi6, ...   \n",
       "3  [dccomics, crimefighter, terrorist, secretiden...   \n",
       "4  [basedonnovel, mars, medallion, spacetravel, p...   \n",
       "\n",
       "                                            cast                crew  \\\n",
       "0  [SamWorthington, ZoeSaldana, SigourneyWeaver]      [JamesCameron]   \n",
       "1     [JohnnyDepp, OrlandoBloom, KeiraKnightley]     [GoreVerbinski]   \n",
       "2      [DanielCraig, ChristophWaltz, LéaSeydoux]         [SamMendes]   \n",
       "3      [ChristianBale, MichaelCaine, GaryOldman]  [ChristopherNolan]   \n",
       "4    [TaylorKitsch, LynnCollins, SamanthaMorton]     [AndrewStanton]   \n",
       "\n",
       "                                                tags  \n",
       "0  [In, the, 22nd, century,, a, paraplegic, Marin...  \n",
       "1  [Captain, Barbossa,, long, believed, to, be, d...  \n",
       "2  [A, cryptic, message, from, Bond’s, past, send...  \n",
       "3  [Following, the, death, of, District, Attorney...  \n",
       "4  [John, Carter, is, a, war-weary,, former, mili...  "
      ]
     },
     "execution_count": 29,
     "metadata": {},
     "output_type": "execute_result"
    }
   ],
   "source": [
    "movies.head()"
   ]
  },
  {
   "cell_type": "code",
   "execution_count": 30,
   "metadata": {
    "execution": {
     "iopub.execute_input": "2021-06-21T12:37:40.975174Z",
     "iopub.status.busy": "2021-06-21T12:37:40.974644Z",
     "iopub.status.idle": "2021-06-21T12:37:40.981843Z",
     "shell.execute_reply": "2021-06-21T12:37:40.981059Z",
     "shell.execute_reply.started": "2021-06-21T12:37:40.975140Z"
    },
    "id": "VDvEAgXAzQtS"
   },
   "outputs": [],
   "source": [
    "new = movies.drop(columns=['overview','genres','keywords','cast','crew'])\n",
    "#new.head()\n",
    "#dropping coums as everything is in \n",
    "#dataset name --> new "
   ]
  },
  {
   "cell_type": "code",
   "execution_count": 31,
   "metadata": {
    "colab": {
     "base_uri": "https://localhost:8080/",
     "height": 206
    },
    "execution": {
     "iopub.execute_input": "2021-06-21T12:38:00.131473Z",
     "iopub.status.busy": "2021-06-21T12:38:00.130879Z",
     "iopub.status.idle": "2021-06-21T12:38:00.160438Z",
     "shell.execute_reply": "2021-06-21T12:38:00.159476Z",
     "shell.execute_reply.started": "2021-06-21T12:38:00.131439Z"
    },
    "executionInfo": {
     "elapsed": 667,
     "status": "ok",
     "timestamp": 1641196318965,
     "user": {
      "displayName": "PUNGLIYA VITHIKA",
      "photoUrl": "https://lh3.googleusercontent.com/a-/AOh14Gh1kW9SCW3-ClSjFJuicIgYeSjD8zCIJ6g8DIu_CQ=s64",
      "userId": "10245521390697241014"
     },
     "user_tz": -330
    },
    "id": "_JjFY1XbzQtT",
    "outputId": "7c109f71-8a61-47a2-8bad-6659ff9223f3"
   },
   "outputs": [
    {
     "data": {
      "text/html": [
       "<div>\n",
       "<style scoped>\n",
       "    .dataframe tbody tr th:only-of-type {\n",
       "        vertical-align: middle;\n",
       "    }\n",
       "\n",
       "    .dataframe tbody tr th {\n",
       "        vertical-align: top;\n",
       "    }\n",
       "\n",
       "    .dataframe thead th {\n",
       "        text-align: right;\n",
       "    }\n",
       "</style>\n",
       "<table border=\"1\" class=\"dataframe\">\n",
       "  <thead>\n",
       "    <tr style=\"text-align: right;\">\n",
       "      <th></th>\n",
       "      <th>movie_id</th>\n",
       "      <th>title</th>\n",
       "      <th>tags</th>\n",
       "    </tr>\n",
       "  </thead>\n",
       "  <tbody>\n",
       "    <tr>\n",
       "      <th>0</th>\n",
       "      <td>19995</td>\n",
       "      <td>Avatar</td>\n",
       "      <td>In the 22nd century, a paraplegic Marine is di...</td>\n",
       "    </tr>\n",
       "    <tr>\n",
       "      <th>1</th>\n",
       "      <td>285</td>\n",
       "      <td>Pirates of the Caribbean: At World's End</td>\n",
       "      <td>Captain Barbossa, long believed to be dead, ha...</td>\n",
       "    </tr>\n",
       "    <tr>\n",
       "      <th>2</th>\n",
       "      <td>206647</td>\n",
       "      <td>Spectre</td>\n",
       "      <td>A cryptic message from Bond’s past sends him o...</td>\n",
       "    </tr>\n",
       "    <tr>\n",
       "      <th>3</th>\n",
       "      <td>49026</td>\n",
       "      <td>The Dark Knight Rises</td>\n",
       "      <td>Following the death of District Attorney Harve...</td>\n",
       "    </tr>\n",
       "    <tr>\n",
       "      <th>4</th>\n",
       "      <td>49529</td>\n",
       "      <td>John Carter</td>\n",
       "      <td>John Carter is a war-weary, former military ca...</td>\n",
       "    </tr>\n",
       "  </tbody>\n",
       "</table>\n",
       "</div>"
      ],
      "text/plain": [
       "   movie_id                                     title  \\\n",
       "0     19995                                    Avatar   \n",
       "1       285  Pirates of the Caribbean: At World's End   \n",
       "2    206647                                   Spectre   \n",
       "3     49026                     The Dark Knight Rises   \n",
       "4     49529                               John Carter   \n",
       "\n",
       "                                                tags  \n",
       "0  In the 22nd century, a paraplegic Marine is di...  \n",
       "1  Captain Barbossa, long believed to be dead, ha...  \n",
       "2  A cryptic message from Bond’s past sends him o...  \n",
       "3  Following the death of District Attorney Harve...  \n",
       "4  John Carter is a war-weary, former military ca...  "
      ]
     },
     "execution_count": 31,
     "metadata": {},
     "output_type": "execute_result"
    }
   ],
   "source": [
    "new['tags'] = new['tags'].apply(lambda x: \" \".join(x))\n",
    "new.head()\n",
    "#joining the lists in tags to a a string"
   ]
  },
  {
   "cell_type": "markdown",
   "metadata": {},
   "source": [
    "#  CountVectorizer In NLP"
   ]
  },
  {
   "cell_type": "code",
   "execution_count": 32,
   "metadata": {
    "execution": {
     "iopub.execute_input": "2021-06-21T12:38:06.545110Z",
     "iopub.status.busy": "2021-06-21T12:38:06.544599Z",
     "iopub.status.idle": "2021-06-21T12:38:07.488307Z",
     "shell.execute_reply": "2021-06-21T12:38:07.487238Z",
     "shell.execute_reply.started": "2021-06-21T12:38:06.545079Z"
    },
    "id": "YrBo55eyzQtU"
   },
   "outputs": [],
   "source": [
    "from sklearn.feature_extraction.text import CountVectorizer\n",
    "cv = CountVectorizer(max_features=5000,stop_words='english')\n",
    "#stop words, keep main words\n"
   ]
  },
  {
   "cell_type": "code",
   "execution_count": 33,
   "metadata": {
    "execution": {
     "iopub.execute_input": "2021-06-21T12:38:10.164314Z",
     "iopub.status.busy": "2021-06-21T12:38:10.163889Z",
     "iopub.status.idle": "2021-06-21T12:38:10.821200Z",
     "shell.execute_reply": "2021-06-21T12:38:10.820175Z",
     "shell.execute_reply.started": "2021-06-21T12:38:10.164279Z"
    },
    "id": "Zm1VcY4gzQtV"
   },
   "outputs": [],
   "source": [
    "vector = cv.fit_transform(new['tags']).toarray()"
   ]
  },
  {
   "cell_type": "code",
   "execution_count": 34,
   "metadata": {
    "colab": {
     "base_uri": "https://localhost:8080/"
    },
    "executionInfo": {
     "elapsed": 20,
     "status": "ok",
     "timestamp": 1641196318967,
     "user": {
      "displayName": "PUNGLIYA VITHIKA",
      "photoUrl": "https://lh3.googleusercontent.com/a-/AOh14Gh1kW9SCW3-ClSjFJuicIgYeSjD8zCIJ6g8DIu_CQ=s64",
      "userId": "10245521390697241014"
     },
     "user_tz": -330
    },
    "id": "jY9CSumi6Trj",
    "outputId": "3b2518fa-0967-4a02-8b94-38cb1b399e50"
   },
   "outputs": [
    {
     "data": {
      "text/plain": [
       "array([[0, 0, 0, ..., 0, 0, 0],\n",
       "       [0, 0, 0, ..., 0, 0, 0],\n",
       "       [0, 0, 0, ..., 0, 0, 0],\n",
       "       ...,\n",
       "       [0, 0, 0, ..., 0, 0, 0],\n",
       "       [0, 0, 0, ..., 0, 0, 0],\n",
       "       [0, 0, 0, ..., 0, 0, 0]], dtype=int64)"
      ]
     },
     "execution_count": 34,
     "metadata": {},
     "output_type": "execute_result"
    }
   ],
   "source": [
    "vector"
   ]
  },
  {
   "cell_type": "code",
   "execution_count": 35,
   "metadata": {
    "colab": {
     "base_uri": "https://localhost:8080/"
    },
    "execution": {
     "iopub.execute_input": "2021-06-19T14:00:41.894747Z",
     "iopub.status.busy": "2021-06-19T14:00:41.894223Z",
     "iopub.status.idle": "2021-06-19T14:00:41.900786Z",
     "shell.execute_reply": "2021-06-19T14:00:41.899989Z",
     "shell.execute_reply.started": "2021-06-19T14:00:41.894699Z"
    },
    "executionInfo": {
     "elapsed": 17,
     "status": "ok",
     "timestamp": 1641196318968,
     "user": {
      "displayName": "PUNGLIYA VITHIKA",
      "photoUrl": "https://lh3.googleusercontent.com/a-/AOh14Gh1kW9SCW3-ClSjFJuicIgYeSjD8zCIJ6g8DIu_CQ=s64",
      "userId": "10245521390697241014"
     },
     "user_tz": -330
    },
    "id": "cmYk8rn3zQtV",
    "outputId": "516369a9-a345-4ab5-a556-06dd340bf9ee"
   },
   "outputs": [
    {
     "data": {
      "text/plain": [
       "(4806, 5000)"
      ]
     },
     "execution_count": 35,
     "metadata": {},
     "output_type": "execute_result"
    }
   ],
   "source": [
    "vector.shape"
   ]
  },
  {
   "cell_type": "code",
   "execution_count": 36,
   "metadata": {
    "execution": {
     "iopub.execute_input": "2021-06-21T12:38:13.339451Z",
     "iopub.status.busy": "2021-06-21T12:38:13.339041Z",
     "iopub.status.idle": "2021-06-21T12:38:13.390575Z",
     "shell.execute_reply": "2021-06-21T12:38:13.389373Z",
     "shell.execute_reply.started": "2021-06-21T12:38:13.339412Z"
    },
    "id": "Y0E9aefdzQtW"
   },
   "outputs": [],
   "source": [
    "from sklearn.metrics.pairwise import cosine_similarity"
   ]
  },
  {
   "cell_type": "code",
   "execution_count": 37,
   "metadata": {
    "execution": {
     "iopub.execute_input": "2021-06-21T12:38:15.770001Z",
     "iopub.status.busy": "2021-06-21T12:38:15.769495Z",
     "iopub.status.idle": "2021-06-21T12:38:18.170463Z",
     "shell.execute_reply": "2021-06-21T12:38:18.169319Z",
     "shell.execute_reply.started": "2021-06-21T12:38:15.769960Z"
    },
    "id": "cv944gqVzQtX"
   },
   "outputs": [],
   "source": [
    "similarity = cosine_similarity(vector)"
   ]
  },
  {
   "cell_type": "code",
   "execution_count": 38,
   "metadata": {
    "colab": {
     "base_uri": "https://localhost:8080/"
    },
    "execution": {
     "iopub.execute_input": "2021-06-19T14:06:45.473087Z",
     "iopub.status.busy": "2021-06-19T14:06:45.472777Z",
     "iopub.status.idle": "2021-06-19T14:06:45.479647Z",
     "shell.execute_reply": "2021-06-19T14:06:45.478831Z",
     "shell.execute_reply.started": "2021-06-19T14:06:45.473061Z"
    },
    "executionInfo": {
     "elapsed": 18,
     "status": "ok",
     "timestamp": 1641196322799,
     "user": {
      "displayName": "PUNGLIYA VITHIKA",
      "photoUrl": "https://lh3.googleusercontent.com/a-/AOh14Gh1kW9SCW3-ClSjFJuicIgYeSjD8zCIJ6g8DIu_CQ=s64",
      "userId": "10245521390697241014"
     },
     "user_tz": -330
    },
    "id": "x2y_GhuRzQtY",
    "outputId": "cb58331f-54e7-42f2-8567-78d2ba62e1c4"
   },
   "outputs": [
    {
     "data": {
      "text/plain": [
       "array([[1.        , 0.08964215, 0.06071767, ..., 0.02519763, 0.0277885 ,\n",
       "        0.        ],\n",
       "       [0.08964215, 1.        , 0.06350006, ..., 0.02635231, 0.        ,\n",
       "        0.        ],\n",
       "       [0.06071767, 0.06350006, 1.        , ..., 0.02677398, 0.        ,\n",
       "        0.        ],\n",
       "       ...,\n",
       "       [0.02519763, 0.02635231, 0.02677398, ..., 1.        , 0.07352146,\n",
       "        0.04774099],\n",
       "       [0.0277885 , 0.        , 0.        , ..., 0.07352146, 1.        ,\n",
       "        0.05264981],\n",
       "       [0.        , 0.        , 0.        , ..., 0.04774099, 0.05264981,\n",
       "        1.        ]])"
      ]
     },
     "execution_count": 38,
     "metadata": {},
     "output_type": "execute_result"
    }
   ],
   "source": [
    "similarity"
   ]
  },
  {
   "cell_type": "markdown",
   "metadata": {},
   "source": [
    "# Movie Recommendation Top 5 Similar Titles"
   ]
  },
  {
   "cell_type": "code",
   "execution_count": 40,
   "metadata": {
    "id": "8HQr5HA3w2n2"
   },
   "outputs": [],
   "source": [
    "with open('similarity.pickle', 'wb') as efile:\n",
    "    pickle.dump(similarity, efile, protocol=pickle.HIGHEST_PROTOCOL)"
   ]
  },
  {
   "cell_type": "code",
   "execution_count": 41,
   "metadata": {
    "execution": {
     "iopub.execute_input": "2021-06-21T12:38:22.542900Z",
     "iopub.status.busy": "2021-06-21T12:38:22.542487Z",
     "iopub.status.idle": "2021-06-21T12:38:22.549786Z",
     "shell.execute_reply": "2021-06-21T12:38:22.548271Z",
     "shell.execute_reply.started": "2021-06-21T12:38:22.542867Z"
    },
    "id": "E-72dktBzQtZ"
   },
   "outputs": [],
   "source": [
    "def recommend(movie):\n",
    "    l=[]\n",
    "    index = new[new['title'] == movie].index[0]\n",
    "    distances = sorted(list(enumerate(similarity[index])),reverse=True,key = lambda x: x[1])\n",
    "    for i in distances[1:6]:\n",
    "        #print(new.iloc[i[0]].title)\n",
    "        l.append(new.iloc[i[0]].title)\n",
    "    \n",
    "    return l\n",
    "        \n",
    "    "
   ]
  },
  {
   "cell_type": "code",
   "execution_count": 43,
   "metadata": {
    "colab": {
     "base_uri": "https://localhost:8080/"
    },
    "execution": {
     "iopub.execute_input": "2021-06-21T12:38:24.914650Z",
     "iopub.status.busy": "2021-06-21T12:38:24.914258Z",
     "iopub.status.idle": "2021-06-21T12:38:24.930018Z",
     "shell.execute_reply": "2021-06-21T12:38:24.928876Z",
     "shell.execute_reply.started": "2021-06-21T12:38:24.914616Z"
    },
    "executionInfo": {
     "elapsed": 5189,
     "status": "ok",
     "timestamp": 1641196328672,
     "user": {
      "displayName": "PUNGLIYA VITHIKA",
      "photoUrl": "https://lh3.googleusercontent.com/a-/AOh14Gh1kW9SCW3-ClSjFJuicIgYeSjD8zCIJ6g8DIu_CQ=s64",
      "userId": "10245521390697241014"
     },
     "user_tz": -330
    },
    "id": "Nr9kri9nzQta",
    "outputId": "38539d76-ca86-45e7-e808-3ae7064b2dd1"
   },
   "outputs": [
    {
     "name": "stdout",
     "output_type": "stream",
     "text": [
      "Enter a movie:  Avatar\n"
     ]
    },
    {
     "data": {
      "text/plain": [
       "['Titan A.E.',\n",
       " 'Small Soldiers',\n",
       " \"Ender's Game\",\n",
       " 'Aliens vs Predator: Requiem',\n",
       " 'Independence Day']"
      ]
     },
     "execution_count": 43,
     "metadata": {},
     "output_type": "execute_result"
    }
   ],
   "source": [
    "print(\"Enter a movie: \", end=\" \")\n",
    "movie=input()\n",
    "recommend(movie)"
   ]
  },
  {
   "cell_type": "markdown",
   "metadata": {
    "id": "sGRac48MZhp4"
   },
   "source": [
    "<font size=\"6\">Sentiment Analysis</font>"
   ]
  },
  {
   "cell_type": "markdown",
   "metadata": {
    "id": "lKi_ZMboNsas"
   },
   "source": [
    "ANKUR"
   ]
  },
  {
   "cell_type": "code",
   "execution_count": 44,
   "metadata": {
    "colab": {
     "base_uri": "https://localhost:8080/"
    },
    "executionInfo": {
     "elapsed": 10,
     "status": "ok",
     "timestamp": 1641196328673,
     "user": {
      "displayName": "PUNGLIYA VITHIKA",
      "photoUrl": "https://lh3.googleusercontent.com/a-/AOh14Gh1kW9SCW3-ClSjFJuicIgYeSjD8zCIJ6g8DIu_CQ=s64",
      "userId": "10245521390697241014"
     },
     "user_tz": -330
    },
    "id": "IVxv1tE5W2iT",
    "outputId": "de613873-84aa-4170-8707-109f9cf4e252"
   },
   "outputs": [
    {
     "name": "stderr",
     "output_type": "stream",
     "text": [
      "[nltk_data] Downloading package stopwords to\n",
      "[nltk_data]     C:\\Users\\saif\\AppData\\Roaming\\nltk_data...\n",
      "[nltk_data]   Package stopwords is already up-to-date!\n"
     ]
    },
    {
     "data": {
      "text/plain": [
       "True"
      ]
     },
     "execution_count": 44,
     "metadata": {},
     "output_type": "execute_result"
    }
   ],
   "source": [
    "nltk.download(\"stopwords\")"
   ]
  },
  {
   "cell_type": "markdown",
   "metadata": {},
   "source": [
    "# Reading Tab-Separated Data into a DataFrame"
   ]
  },
  {
   "cell_type": "code",
   "execution_count": 45,
   "metadata": {
    "id": "tuwLQ2kWW9kj"
   },
   "outputs": [],
   "source": [
    "dataset = pd.read_csv('reviews.txt',sep = '\\t', names =['Reviews','Comments'])"
   ]
  },
  {
   "cell_type": "code",
   "execution_count": 46,
   "metadata": {
    "colab": {
     "base_uri": "https://localhost:8080/",
     "height": 206
    },
    "executionInfo": {
     "elapsed": 25,
     "status": "ok",
     "timestamp": 1641196329803,
     "user": {
      "displayName": "PUNGLIYA VITHIKA",
      "photoUrl": "https://lh3.googleusercontent.com/a-/AOh14Gh1kW9SCW3-ClSjFJuicIgYeSjD8zCIJ6g8DIu_CQ=s64",
      "userId": "10245521390697241014"
     },
     "user_tz": -330
    },
    "id": "zrYEowcrW_Xr",
    "outputId": "c0bc7770-9f64-4fc5-9a6b-c04a01bcfba9"
   },
   "outputs": [
    {
     "data": {
      "text/html": [
       "<div>\n",
       "<style scoped>\n",
       "    .dataframe tbody tr th:only-of-type {\n",
       "        vertical-align: middle;\n",
       "    }\n",
       "\n",
       "    .dataframe tbody tr th {\n",
       "        vertical-align: top;\n",
       "    }\n",
       "\n",
       "    .dataframe thead th {\n",
       "        text-align: right;\n",
       "    }\n",
       "</style>\n",
       "<table border=\"1\" class=\"dataframe\">\n",
       "  <thead>\n",
       "    <tr style=\"text-align: right;\">\n",
       "      <th></th>\n",
       "      <th>Reviews</th>\n",
       "      <th>Comments</th>\n",
       "    </tr>\n",
       "  </thead>\n",
       "  <tbody>\n",
       "    <tr>\n",
       "      <th>0</th>\n",
       "      <td>1</td>\n",
       "      <td>The Da Vinci Code book is just awesome.</td>\n",
       "    </tr>\n",
       "    <tr>\n",
       "      <th>1</th>\n",
       "      <td>1</td>\n",
       "      <td>this was the first clive cussler i've ever rea...</td>\n",
       "    </tr>\n",
       "    <tr>\n",
       "      <th>2</th>\n",
       "      <td>1</td>\n",
       "      <td>i liked the Da Vinci Code a lot.</td>\n",
       "    </tr>\n",
       "    <tr>\n",
       "      <th>3</th>\n",
       "      <td>1</td>\n",
       "      <td>i liked the Da Vinci Code a lot.</td>\n",
       "    </tr>\n",
       "    <tr>\n",
       "      <th>4</th>\n",
       "      <td>1</td>\n",
       "      <td>I liked the Da Vinci Code but it ultimatly did...</td>\n",
       "    </tr>\n",
       "  </tbody>\n",
       "</table>\n",
       "</div>"
      ],
      "text/plain": [
       "   Reviews                                           Comments\n",
       "0        1            The Da Vinci Code book is just awesome.\n",
       "1        1  this was the first clive cussler i've ever rea...\n",
       "2        1                   i liked the Da Vinci Code a lot.\n",
       "3        1                   i liked the Da Vinci Code a lot.\n",
       "4        1  I liked the Da Vinci Code but it ultimatly did..."
      ]
     },
     "execution_count": 46,
     "metadata": {},
     "output_type": "execute_result"
    }
   ],
   "source": [
    "dataset.head()"
   ]
  },
  {
   "cell_type": "markdown",
   "metadata": {},
   "source": [
    "# Analyzing Review"
   ]
  },
  {
   "cell_type": "code",
   "execution_count": 47,
   "metadata": {
    "colab": {
     "base_uri": "https://localhost:8080/"
    },
    "executionInfo": {
     "elapsed": 23,
     "status": "ok",
     "timestamp": 1641196329804,
     "user": {
      "displayName": "PUNGLIYA VITHIKA",
      "photoUrl": "https://lh3.googleusercontent.com/a-/AOh14Gh1kW9SCW3-ClSjFJuicIgYeSjD8zCIJ6g8DIu_CQ=s64",
      "userId": "10245521390697241014"
     },
     "user_tz": -330
    },
    "id": "lG4Z4QnNQj-Q",
    "outputId": "fae51a17-59bc-4ba0-8d8e-0d5ce202a0ea"
   },
   "outputs": [],
   "source": [
    "a=dataset['Reviews'].value_counts()"
   ]
  },
  {
   "cell_type": "code",
   "execution_count": 48,
   "metadata": {
    "id": "eBRJjSz8XBMA"
   },
   "outputs": [],
   "source": [
    "stopset = set(stopwords.words('english'))"
   ]
  },
  {
   "cell_type": "code",
   "execution_count": 49,
   "metadata": {
    "id": "neh9AvVyXC3f"
   },
   "outputs": [],
   "source": [
    "vectorizer = TfidfVectorizer(use_idf = True,lowercase = True, strip_accents='ascii',stop_words=stopset)"
   ]
  },
  {
   "cell_type": "markdown",
   "metadata": {},
   "source": [
    "# Transformation with TfidfTransformer"
   ]
  },
  {
   "cell_type": "code",
   "execution_count": 50,
   "metadata": {
    "id": "_F6FsRt4XEey"
   },
   "outputs": [],
   "source": [
    "from sklearn.feature_extraction.text import TfidfTransformer"
   ]
  },
  {
   "cell_type": "code",
   "execution_count": 51,
   "metadata": {
    "id": "sH0lHy5aXGC8"
   },
   "outputs": [],
   "source": [
    "transformer = TfidfTransformer()"
   ]
  },
  {
   "cell_type": "code",
   "execution_count": 52,
   "metadata": {
    "id": "WHmLEeutXHks"
   },
   "outputs": [],
   "source": [
    "# Initialize TfidfVectorizer with 'english' stopwords\n",
    "vectorizer = TfidfVectorizer(stop_words='english')\n",
    "\n",
    "X = vectorizer.fit_transform(dataset.Comments)\n",
    "y = dataset.Reviews\n",
    "X = transformer.fit_transform(X)"
   ]
  },
  {
   "cell_type": "markdown",
   "metadata": {},
   "source": [
    "# Data Splitting"
   ]
  },
  {
   "cell_type": "code",
   "execution_count": 53,
   "metadata": {
    "id": "pT00piAJXJcY"
   },
   "outputs": [],
   "source": [
    "X_train, X_test, y_train, y_test = train_test_split(X, y, test_size=0.20, random_state=42)"
   ]
  },
  {
   "cell_type": "markdown",
   "metadata": {},
   "source": [
    "# Naive Bayes Classifier Training and Modeling"
   ]
  },
  {
   "cell_type": "code",
   "execution_count": 54,
   "metadata": {
    "colab": {
     "base_uri": "https://localhost:8080/"
    },
    "executionInfo": {
     "elapsed": 19,
     "status": "ok",
     "timestamp": 1641196329809,
     "user": {
      "displayName": "PUNGLIYA VITHIKA",
      "photoUrl": "https://lh3.googleusercontent.com/a-/AOh14Gh1kW9SCW3-ClSjFJuicIgYeSjD8zCIJ6g8DIu_CQ=s64",
      "userId": "10245521390697241014"
     },
     "user_tz": -330
    },
    "id": "Bmp3RVhyXLer",
    "outputId": "6a9508d4-7300-4944-e75e-43c08bf8a95a"
   },
   "outputs": [
    {
     "data": {
      "text/html": [
       "<style>#sk-container-id-1 {color: black;}#sk-container-id-1 pre{padding: 0;}#sk-container-id-1 div.sk-toggleable {background-color: white;}#sk-container-id-1 label.sk-toggleable__label {cursor: pointer;display: block;width: 100%;margin-bottom: 0;padding: 0.3em;box-sizing: border-box;text-align: center;}#sk-container-id-1 label.sk-toggleable__label-arrow:before {content: \"▸\";float: left;margin-right: 0.25em;color: #696969;}#sk-container-id-1 label.sk-toggleable__label-arrow:hover:before {color: black;}#sk-container-id-1 div.sk-estimator:hover label.sk-toggleable__label-arrow:before {color: black;}#sk-container-id-1 div.sk-toggleable__content {max-height: 0;max-width: 0;overflow: hidden;text-align: left;background-color: #f0f8ff;}#sk-container-id-1 div.sk-toggleable__content pre {margin: 0.2em;color: black;border-radius: 0.25em;background-color: #f0f8ff;}#sk-container-id-1 input.sk-toggleable__control:checked~div.sk-toggleable__content {max-height: 200px;max-width: 100%;overflow: auto;}#sk-container-id-1 input.sk-toggleable__control:checked~label.sk-toggleable__label-arrow:before {content: \"▾\";}#sk-container-id-1 div.sk-estimator input.sk-toggleable__control:checked~label.sk-toggleable__label {background-color: #d4ebff;}#sk-container-id-1 div.sk-label input.sk-toggleable__control:checked~label.sk-toggleable__label {background-color: #d4ebff;}#sk-container-id-1 input.sk-hidden--visually {border: 0;clip: rect(1px 1px 1px 1px);clip: rect(1px, 1px, 1px, 1px);height: 1px;margin: -1px;overflow: hidden;padding: 0;position: absolute;width: 1px;}#sk-container-id-1 div.sk-estimator {font-family: monospace;background-color: #f0f8ff;border: 1px dotted black;border-radius: 0.25em;box-sizing: border-box;margin-bottom: 0.5em;}#sk-container-id-1 div.sk-estimator:hover {background-color: #d4ebff;}#sk-container-id-1 div.sk-parallel-item::after {content: \"\";width: 100%;border-bottom: 1px solid gray;flex-grow: 1;}#sk-container-id-1 div.sk-label:hover label.sk-toggleable__label {background-color: #d4ebff;}#sk-container-id-1 div.sk-serial::before {content: \"\";position: absolute;border-left: 1px solid gray;box-sizing: border-box;top: 0;bottom: 0;left: 50%;z-index: 0;}#sk-container-id-1 div.sk-serial {display: flex;flex-direction: column;align-items: center;background-color: white;padding-right: 0.2em;padding-left: 0.2em;position: relative;}#sk-container-id-1 div.sk-item {position: relative;z-index: 1;}#sk-container-id-1 div.sk-parallel {display: flex;align-items: stretch;justify-content: center;background-color: white;position: relative;}#sk-container-id-1 div.sk-item::before, #sk-container-id-1 div.sk-parallel-item::before {content: \"\";position: absolute;border-left: 1px solid gray;box-sizing: border-box;top: 0;bottom: 0;left: 50%;z-index: -1;}#sk-container-id-1 div.sk-parallel-item {display: flex;flex-direction: column;z-index: 1;position: relative;background-color: white;}#sk-container-id-1 div.sk-parallel-item:first-child::after {align-self: flex-end;width: 50%;}#sk-container-id-1 div.sk-parallel-item:last-child::after {align-self: flex-start;width: 50%;}#sk-container-id-1 div.sk-parallel-item:only-child::after {width: 0;}#sk-container-id-1 div.sk-dashed-wrapped {border: 1px dashed gray;margin: 0 0.4em 0.5em 0.4em;box-sizing: border-box;padding-bottom: 0.4em;background-color: white;}#sk-container-id-1 div.sk-label label {font-family: monospace;font-weight: bold;display: inline-block;line-height: 1.2em;}#sk-container-id-1 div.sk-label-container {text-align: center;}#sk-container-id-1 div.sk-container {/* jupyter's `normalize.less` sets `[hidden] { display: none; }` but bootstrap.min.css set `[hidden] { display: none !important; }` so we also need the `!important` here to be able to override the default hidden behavior on the sphinx rendered scikit-learn.org. See: https://github.com/scikit-learn/scikit-learn/issues/21755 */display: inline-block !important;position: relative;}#sk-container-id-1 div.sk-text-repr-fallback {display: none;}</style><div id=\"sk-container-id-1\" class=\"sk-top-container\"><div class=\"sk-text-repr-fallback\"><pre>MultinomialNB()</pre><b>In a Jupyter environment, please rerun this cell to show the HTML representation or trust the notebook. <br />On GitHub, the HTML representation is unable to render, please try loading this page with nbviewer.org.</b></div><div class=\"sk-container\" hidden><div class=\"sk-item\"><div class=\"sk-estimator sk-toggleable\"><input class=\"sk-toggleable__control sk-hidden--visually\" id=\"sk-estimator-id-1\" type=\"checkbox\" checked><label for=\"sk-estimator-id-1\" class=\"sk-toggleable__label sk-toggleable__label-arrow\">MultinomialNB</label><div class=\"sk-toggleable__content\"><pre>MultinomialNB()</pre></div></div></div></div></div>"
      ],
      "text/plain": [
       "MultinomialNB()"
      ]
     },
     "execution_count": 54,
     "metadata": {},
     "output_type": "execute_result"
    }
   ],
   "source": [
    "from sklearn import naive_bayes\n",
    "clf = naive_bayes.MultinomialNB()\n",
    "clf.fit(X_train,y_train)"
   ]
  },
  {
   "cell_type": "code",
   "execution_count": 55,
   "metadata": {
    "colab": {
     "base_uri": "https://localhost:8080/"
    },
    "executionInfo": {
     "elapsed": 1057,
     "status": "ok",
     "timestamp": 1641196330851,
     "user": {
      "displayName": "PUNGLIYA VITHIKA",
      "photoUrl": "https://lh3.googleusercontent.com/a-/AOh14Gh1kW9SCW3-ClSjFJuicIgYeSjD8zCIJ6g8DIu_CQ=s64",
      "userId": "10245521390697241014"
     },
     "user_tz": -330
    },
    "id": "-hl72esKXNC-",
    "outputId": "1ee346d7-5f35-4865-dced-3704b3b4fbc2"
   },
   "outputs": [
    {
     "data": {
      "text/plain": [
       "97.32658959537572"
      ]
     },
     "execution_count": 55,
     "metadata": {},
     "output_type": "execute_result"
    }
   ],
   "source": [
    "accuracy_score(y_test,clf.predict(X_test))*100 #testing accuracy"
   ]
  },
  {
   "cell_type": "code",
   "execution_count": 56,
   "metadata": {
    "colab": {
     "base_uri": "https://localhost:8080/"
    },
    "executionInfo": {
     "elapsed": 50,
     "status": "ok",
     "timestamp": 1641196330852,
     "user": {
      "displayName": "PUNGLIYA VITHIKA",
      "photoUrl": "https://lh3.googleusercontent.com/a-/AOh14Gh1kW9SCW3-ClSjFJuicIgYeSjD8zCIJ6g8DIu_CQ=s64",
      "userId": "10245521390697241014"
     },
     "user_tz": -330
    },
    "id": "JYQJU5ejmQZb",
    "outputId": "b61e484d-dea6-4c75-976f-20d675073314"
   },
   "outputs": [
    {
     "data": {
      "text/plain": [
       "99.51210697506325"
      ]
     },
     "execution_count": 56,
     "metadata": {},
     "output_type": "execute_result"
    }
   ],
   "source": [
    "accuracy_score(y_train,clf.predict(X_train))*100 #training accuracy"
   ]
  },
  {
   "cell_type": "code",
   "execution_count": 57,
   "metadata": {
    "colab": {
     "base_uri": "https://localhost:8080/"
    },
    "executionInfo": {
     "elapsed": 46,
     "status": "ok",
     "timestamp": 1641196330852,
     "user": {
      "displayName": "PUNGLIYA VITHIKA",
      "photoUrl": "https://lh3.googleusercontent.com/a-/AOh14Gh1kW9SCW3-ClSjFJuicIgYeSjD8zCIJ6g8DIu_CQ=s64",
      "userId": "10245521390697241014"
     },
     "user_tz": -330
    },
    "id": "zUohs97FXO6k",
    "outputId": "835d98ed-94a7-44f5-9b24-cab8c59866fc"
   },
   "outputs": [
    {
     "data": {
      "text/html": [
       "<style>#sk-container-id-2 {color: black;}#sk-container-id-2 pre{padding: 0;}#sk-container-id-2 div.sk-toggleable {background-color: white;}#sk-container-id-2 label.sk-toggleable__label {cursor: pointer;display: block;width: 100%;margin-bottom: 0;padding: 0.3em;box-sizing: border-box;text-align: center;}#sk-container-id-2 label.sk-toggleable__label-arrow:before {content: \"▸\";float: left;margin-right: 0.25em;color: #696969;}#sk-container-id-2 label.sk-toggleable__label-arrow:hover:before {color: black;}#sk-container-id-2 div.sk-estimator:hover label.sk-toggleable__label-arrow:before {color: black;}#sk-container-id-2 div.sk-toggleable__content {max-height: 0;max-width: 0;overflow: hidden;text-align: left;background-color: #f0f8ff;}#sk-container-id-2 div.sk-toggleable__content pre {margin: 0.2em;color: black;border-radius: 0.25em;background-color: #f0f8ff;}#sk-container-id-2 input.sk-toggleable__control:checked~div.sk-toggleable__content {max-height: 200px;max-width: 100%;overflow: auto;}#sk-container-id-2 input.sk-toggleable__control:checked~label.sk-toggleable__label-arrow:before {content: \"▾\";}#sk-container-id-2 div.sk-estimator input.sk-toggleable__control:checked~label.sk-toggleable__label {background-color: #d4ebff;}#sk-container-id-2 div.sk-label input.sk-toggleable__control:checked~label.sk-toggleable__label {background-color: #d4ebff;}#sk-container-id-2 input.sk-hidden--visually {border: 0;clip: rect(1px 1px 1px 1px);clip: rect(1px, 1px, 1px, 1px);height: 1px;margin: -1px;overflow: hidden;padding: 0;position: absolute;width: 1px;}#sk-container-id-2 div.sk-estimator {font-family: monospace;background-color: #f0f8ff;border: 1px dotted black;border-radius: 0.25em;box-sizing: border-box;margin-bottom: 0.5em;}#sk-container-id-2 div.sk-estimator:hover {background-color: #d4ebff;}#sk-container-id-2 div.sk-parallel-item::after {content: \"\";width: 100%;border-bottom: 1px solid gray;flex-grow: 1;}#sk-container-id-2 div.sk-label:hover label.sk-toggleable__label {background-color: #d4ebff;}#sk-container-id-2 div.sk-serial::before {content: \"\";position: absolute;border-left: 1px solid gray;box-sizing: border-box;top: 0;bottom: 0;left: 50%;z-index: 0;}#sk-container-id-2 div.sk-serial {display: flex;flex-direction: column;align-items: center;background-color: white;padding-right: 0.2em;padding-left: 0.2em;position: relative;}#sk-container-id-2 div.sk-item {position: relative;z-index: 1;}#sk-container-id-2 div.sk-parallel {display: flex;align-items: stretch;justify-content: center;background-color: white;position: relative;}#sk-container-id-2 div.sk-item::before, #sk-container-id-2 div.sk-parallel-item::before {content: \"\";position: absolute;border-left: 1px solid gray;box-sizing: border-box;top: 0;bottom: 0;left: 50%;z-index: -1;}#sk-container-id-2 div.sk-parallel-item {display: flex;flex-direction: column;z-index: 1;position: relative;background-color: white;}#sk-container-id-2 div.sk-parallel-item:first-child::after {align-self: flex-end;width: 50%;}#sk-container-id-2 div.sk-parallel-item:last-child::after {align-self: flex-start;width: 50%;}#sk-container-id-2 div.sk-parallel-item:only-child::after {width: 0;}#sk-container-id-2 div.sk-dashed-wrapped {border: 1px dashed gray;margin: 0 0.4em 0.5em 0.4em;box-sizing: border-box;padding-bottom: 0.4em;background-color: white;}#sk-container-id-2 div.sk-label label {font-family: monospace;font-weight: bold;display: inline-block;line-height: 1.2em;}#sk-container-id-2 div.sk-label-container {text-align: center;}#sk-container-id-2 div.sk-container {/* jupyter's `normalize.less` sets `[hidden] { display: none; }` but bootstrap.min.css set `[hidden] { display: none !important; }` so we also need the `!important` here to be able to override the default hidden behavior on the sphinx rendered scikit-learn.org. See: https://github.com/scikit-learn/scikit-learn/issues/21755 */display: inline-block !important;position: relative;}#sk-container-id-2 div.sk-text-repr-fallback {display: none;}</style><div id=\"sk-container-id-2\" class=\"sk-top-container\"><div class=\"sk-text-repr-fallback\"><pre>MultinomialNB()</pre><b>In a Jupyter environment, please rerun this cell to show the HTML representation or trust the notebook. <br />On GitHub, the HTML representation is unable to render, please try loading this page with nbviewer.org.</b></div><div class=\"sk-container\" hidden><div class=\"sk-item\"><div class=\"sk-estimator sk-toggleable\"><input class=\"sk-toggleable__control sk-hidden--visually\" id=\"sk-estimator-id-2\" type=\"checkbox\" checked><label for=\"sk-estimator-id-2\" class=\"sk-toggleable__label sk-toggleable__label-arrow\">MultinomialNB</label><div class=\"sk-toggleable__content\"><pre>MultinomialNB()</pre></div></div></div></div></div>"
      ],
      "text/plain": [
       "MultinomialNB()"
      ]
     },
     "execution_count": 57,
     "metadata": {},
     "output_type": "execute_result"
    }
   ],
   "source": [
    "clf = naive_bayes.MultinomialNB()\n",
    "clf.fit(X_train,y_train)"
   ]
  },
  {
   "cell_type": "code",
   "execution_count": 58,
   "metadata": {
    "colab": {
     "base_uri": "https://localhost:8080/"
    },
    "executionInfo": {
     "elapsed": 44,
     "status": "ok",
     "timestamp": 1641196330853,
     "user": {
      "displayName": "PUNGLIYA VITHIKA",
      "photoUrl": "https://lh3.googleusercontent.com/a-/AOh14Gh1kW9SCW3-ClSjFJuicIgYeSjD8zCIJ6g8DIu_CQ=s64",
      "userId": "10245521390697241014"
     },
     "user_tz": -330
    },
    "id": "6kGBlnWYXQox",
    "outputId": "3aa77128-2312-447b-b207-127c41745341"
   },
   "outputs": [
    {
     "data": {
      "text/plain": [
       "97.32658959537572"
      ]
     },
     "execution_count": 58,
     "metadata": {},
     "output_type": "execute_result"
    }
   ],
   "source": [
    "accuracy_score(y_test,clf.predict(X_test))*100 #ALWAYS ACCURACY SCORE"
   ]
  },
  {
   "cell_type": "code",
   "execution_count": 59,
   "metadata": {
    "id": "q7dZ3gjLIxcV"
   },
   "outputs": [],
   "source": [
    "from sklearn.pipeline import Pipeline"
   ]
  },
  {
   "cell_type": "code",
   "execution_count": 60,
   "metadata": {
    "colab": {
     "base_uri": "https://localhost:8080/"
    },
    "executionInfo": {
     "elapsed": 41,
     "status": "ok",
     "timestamp": 1641196330854,
     "user": {
      "displayName": "PUNGLIYA VITHIKA",
      "photoUrl": "https://lh3.googleusercontent.com/a-/AOh14Gh1kW9SCW3-ClSjFJuicIgYeSjD8zCIJ6g8DIu_CQ=s64",
      "userId": "10245521390697241014"
     },
     "user_tz": -330
    },
    "id": "UNJ1GycdXSOi",
    "outputId": "c43cfa76-1fc8-4289-f22e-a33f943d435a"
   },
   "outputs": [
    {
     "name": "stdout",
     "output_type": "stream",
     "text": [
      "Fitting 5 folds for each of 6 candidates, totalling 30 fits\n",
      "[CV 1/5] END ...........................alpha=1;, score=0.980 total time=   0.0s\n",
      "[CV 2/5] END ...........................alpha=1;, score=0.979 total time=   0.0s\n",
      "[CV 3/5] END ...........................alpha=1;, score=0.986 total time=   0.0s\n",
      "[CV 4/5] END ...........................alpha=1;, score=0.985 total time=   0.0s\n",
      "[CV 5/5] END ...........................alpha=1;, score=0.976 total time=   0.0s\n",
      "[CV 1/5] END .........................alpha=0.1;, score=0.974 total time=   0.0s\n",
      "[CV 2/5] END .........................alpha=0.1;, score=0.973 total time=   0.0s\n",
      "[CV 3/5] END .........................alpha=0.1;, score=0.980 total time=   0.0s\n",
      "[CV 4/5] END .........................alpha=0.1;, score=0.982 total time=   0.0s\n",
      "[CV 5/5] END .........................alpha=0.1;, score=0.971 total time=   0.0s\n",
      "[CV 1/5] END ........................alpha=0.01;, score=0.975 total time=   0.0s\n",
      "[CV 2/5] END ........................alpha=0.01;, score=0.970 total time=   0.0s\n",
      "[CV 3/5] END ........................alpha=0.01;, score=0.978 total time=   0.0s\n",
      "[CV 4/5] END ........................alpha=0.01;, score=0.976 total time=   0.0s\n",
      "[CV 5/5] END ........................alpha=0.01;, score=0.967 total time=   0.0s\n",
      "[CV 1/5] END .......................alpha=0.001;, score=0.975 total time=   0.0s\n",
      "[CV 2/5] END .......................alpha=0.001;, score=0.969 total time=   0.0s\n",
      "[CV 3/5] END .......................alpha=0.001;, score=0.979 total time=   0.0s\n",
      "[CV 4/5] END .......................alpha=0.001;, score=0.974 total time=   0.0s\n",
      "[CV 5/5] END .......................alpha=0.001;, score=0.966 total time=   0.0s\n",
      "[CV 1/5] END ......................alpha=0.0001;, score=0.976 total time=   0.0s\n",
      "[CV 2/5] END ......................alpha=0.0001;, score=0.967 total time=   0.0s\n",
      "[CV 3/5] END ......................alpha=0.0001;, score=0.979 total time=   0.0s\n",
      "[CV 4/5] END ......................alpha=0.0001;, score=0.972 total time=   0.0s\n",
      "[CV 5/5] END ......................alpha=0.0001;, score=0.966 total time=   0.0s\n",
      "[CV 1/5] END .......................alpha=1e-05;, score=0.977 total time=   0.0s\n",
      "[CV 2/5] END .......................alpha=1e-05;, score=0.967 total time=   0.0s\n",
      "[CV 3/5] END .......................alpha=1e-05;, score=0.979 total time=   0.0s\n",
      "[CV 4/5] END .......................alpha=1e-05;, score=0.972 total time=   0.0s\n",
      "[CV 5/5] END .......................alpha=1e-05;, score=0.966 total time=   0.0s\n"
     ]
    },
    {
     "data": {
      "text/html": [
       "<style>#sk-container-id-3 {color: black;}#sk-container-id-3 pre{padding: 0;}#sk-container-id-3 div.sk-toggleable {background-color: white;}#sk-container-id-3 label.sk-toggleable__label {cursor: pointer;display: block;width: 100%;margin-bottom: 0;padding: 0.3em;box-sizing: border-box;text-align: center;}#sk-container-id-3 label.sk-toggleable__label-arrow:before {content: \"▸\";float: left;margin-right: 0.25em;color: #696969;}#sk-container-id-3 label.sk-toggleable__label-arrow:hover:before {color: black;}#sk-container-id-3 div.sk-estimator:hover label.sk-toggleable__label-arrow:before {color: black;}#sk-container-id-3 div.sk-toggleable__content {max-height: 0;max-width: 0;overflow: hidden;text-align: left;background-color: #f0f8ff;}#sk-container-id-3 div.sk-toggleable__content pre {margin: 0.2em;color: black;border-radius: 0.25em;background-color: #f0f8ff;}#sk-container-id-3 input.sk-toggleable__control:checked~div.sk-toggleable__content {max-height: 200px;max-width: 100%;overflow: auto;}#sk-container-id-3 input.sk-toggleable__control:checked~label.sk-toggleable__label-arrow:before {content: \"▾\";}#sk-container-id-3 div.sk-estimator input.sk-toggleable__control:checked~label.sk-toggleable__label {background-color: #d4ebff;}#sk-container-id-3 div.sk-label input.sk-toggleable__control:checked~label.sk-toggleable__label {background-color: #d4ebff;}#sk-container-id-3 input.sk-hidden--visually {border: 0;clip: rect(1px 1px 1px 1px);clip: rect(1px, 1px, 1px, 1px);height: 1px;margin: -1px;overflow: hidden;padding: 0;position: absolute;width: 1px;}#sk-container-id-3 div.sk-estimator {font-family: monospace;background-color: #f0f8ff;border: 1px dotted black;border-radius: 0.25em;box-sizing: border-box;margin-bottom: 0.5em;}#sk-container-id-3 div.sk-estimator:hover {background-color: #d4ebff;}#sk-container-id-3 div.sk-parallel-item::after {content: \"\";width: 100%;border-bottom: 1px solid gray;flex-grow: 1;}#sk-container-id-3 div.sk-label:hover label.sk-toggleable__label {background-color: #d4ebff;}#sk-container-id-3 div.sk-serial::before {content: \"\";position: absolute;border-left: 1px solid gray;box-sizing: border-box;top: 0;bottom: 0;left: 50%;z-index: 0;}#sk-container-id-3 div.sk-serial {display: flex;flex-direction: column;align-items: center;background-color: white;padding-right: 0.2em;padding-left: 0.2em;position: relative;}#sk-container-id-3 div.sk-item {position: relative;z-index: 1;}#sk-container-id-3 div.sk-parallel {display: flex;align-items: stretch;justify-content: center;background-color: white;position: relative;}#sk-container-id-3 div.sk-item::before, #sk-container-id-3 div.sk-parallel-item::before {content: \"\";position: absolute;border-left: 1px solid gray;box-sizing: border-box;top: 0;bottom: 0;left: 50%;z-index: -1;}#sk-container-id-3 div.sk-parallel-item {display: flex;flex-direction: column;z-index: 1;position: relative;background-color: white;}#sk-container-id-3 div.sk-parallel-item:first-child::after {align-self: flex-end;width: 50%;}#sk-container-id-3 div.sk-parallel-item:last-child::after {align-self: flex-start;width: 50%;}#sk-container-id-3 div.sk-parallel-item:only-child::after {width: 0;}#sk-container-id-3 div.sk-dashed-wrapped {border: 1px dashed gray;margin: 0 0.4em 0.5em 0.4em;box-sizing: border-box;padding-bottom: 0.4em;background-color: white;}#sk-container-id-3 div.sk-label label {font-family: monospace;font-weight: bold;display: inline-block;line-height: 1.2em;}#sk-container-id-3 div.sk-label-container {text-align: center;}#sk-container-id-3 div.sk-container {/* jupyter's `normalize.less` sets `[hidden] { display: none; }` but bootstrap.min.css set `[hidden] { display: none !important; }` so we also need the `!important` here to be able to override the default hidden behavior on the sphinx rendered scikit-learn.org. See: https://github.com/scikit-learn/scikit-learn/issues/21755 */display: inline-block !important;position: relative;}#sk-container-id-3 div.sk-text-repr-fallback {display: none;}</style><div id=\"sk-container-id-3\" class=\"sk-top-container\"><div class=\"sk-text-repr-fallback\"><pre>GridSearchCV(estimator=MultinomialNB(),\n",
       "             param_grid={&#x27;alpha&#x27;: (1, 0.1, 0.01, 0.001, 0.0001, 1e-05)},\n",
       "             verbose=3)</pre><b>In a Jupyter environment, please rerun this cell to show the HTML representation or trust the notebook. <br />On GitHub, the HTML representation is unable to render, please try loading this page with nbviewer.org.</b></div><div class=\"sk-container\" hidden><div class=\"sk-item sk-dashed-wrapped\"><div class=\"sk-label-container\"><div class=\"sk-label sk-toggleable\"><input class=\"sk-toggleable__control sk-hidden--visually\" id=\"sk-estimator-id-3\" type=\"checkbox\" ><label for=\"sk-estimator-id-3\" class=\"sk-toggleable__label sk-toggleable__label-arrow\">GridSearchCV</label><div class=\"sk-toggleable__content\"><pre>GridSearchCV(estimator=MultinomialNB(),\n",
       "             param_grid={&#x27;alpha&#x27;: (1, 0.1, 0.01, 0.001, 0.0001, 1e-05)},\n",
       "             verbose=3)</pre></div></div></div><div class=\"sk-parallel\"><div class=\"sk-parallel-item\"><div class=\"sk-item\"><div class=\"sk-label-container\"><div class=\"sk-label sk-toggleable\"><input class=\"sk-toggleable__control sk-hidden--visually\" id=\"sk-estimator-id-4\" type=\"checkbox\" ><label for=\"sk-estimator-id-4\" class=\"sk-toggleable__label sk-toggleable__label-arrow\">estimator: MultinomialNB</label><div class=\"sk-toggleable__content\"><pre>MultinomialNB()</pre></div></div></div><div class=\"sk-serial\"><div class=\"sk-item\"><div class=\"sk-estimator sk-toggleable\"><input class=\"sk-toggleable__control sk-hidden--visually\" id=\"sk-estimator-id-5\" type=\"checkbox\" ><label for=\"sk-estimator-id-5\" class=\"sk-toggleable__label sk-toggleable__label-arrow\">MultinomialNB</label><div class=\"sk-toggleable__content\"><pre>MultinomialNB()</pre></div></div></div></div></div></div></div></div></div></div>"
      ],
      "text/plain": [
       "GridSearchCV(estimator=MultinomialNB(),\n",
       "             param_grid={'alpha': (1, 0.1, 0.01, 0.001, 0.0001, 1e-05)},\n",
       "             verbose=3)"
      ]
     },
     "execution_count": 60,
     "metadata": {},
     "output_type": "execute_result"
    }
   ],
   "source": [
    "from sklearn.model_selection import GridSearchCV\n",
    "from sklearn.svm import SVC\n",
    " \n",
    "# defining parameter range\n",
    "# param_grid = {'C': [0.1, 1, 10, 100, 1000],\n",
    "#               'gamma': [1, 0.1, 0.01, 0.001, 0.0001],\n",
    "#               'kernel': ['rbf']}\n",
    "param_grid = {  \n",
    "'alpha': (1, 0.1, 0.01, 0.001, 0.0001, 0.00001)  \n",
    "}  \n",
    "grid = GridSearchCV(naive_bayes.MultinomialNB(), param_grid, refit = True, verbose = 3) #grid\n",
    "\n",
    "# fitting the model for grid search\n",
    "grid.fit(X_train, y_train)\n"
   ]
  },
  {
   "cell_type": "code",
   "execution_count": 61,
   "metadata": {
    "colab": {
     "base_uri": "https://localhost:8080/"
    },
    "executionInfo": {
     "elapsed": 39,
     "status": "ok",
     "timestamp": 1641196330855,
     "user": {
      "displayName": "PUNGLIYA VITHIKA",
      "photoUrl": "https://lh3.googleusercontent.com/a-/AOh14Gh1kW9SCW3-ClSjFJuicIgYeSjD8zCIJ6g8DIu_CQ=s64",
      "userId": "10245521390697241014"
     },
     "user_tz": -330
    },
    "id": "d7vLE45PXUwC",
    "outputId": "86371b4a-dc96-4b71-c377-7db0163edc3c"
   },
   "outputs": [
    {
     "name": "stdout",
     "output_type": "stream",
     "text": [
      "0.9813869000655047\n",
      "MultinomialNB(alpha=1)\n"
     ]
    }
   ],
   "source": [
    "print(grid.best_score_)\n",
    "print(grid.best_estimator_)"
   ]
  },
  {
   "cell_type": "code",
   "execution_count": 62,
   "metadata": {
    "id": "1EVq9F2FXWNY"
   },
   "outputs": [],
   "source": [
    "weighted_prediction = grid.predict(X_test)"
   ]
  },
  {
   "cell_type": "code",
   "execution_count": 63,
   "metadata": {
    "colab": {
     "base_uri": "https://localhost:8080/"
    },
    "executionInfo": {
     "elapsed": 34,
     "status": "ok",
     "timestamp": 1641196330856,
     "user": {
      "displayName": "PUNGLIYA VITHIKA",
      "photoUrl": "https://lh3.googleusercontent.com/a-/AOh14Gh1kW9SCW3-ClSjFJuicIgYeSjD8zCIJ6g8DIu_CQ=s64",
      "userId": "10245521390697241014"
     },
     "user_tz": -330
    },
    "id": "B6Fo66fMXXrt",
    "outputId": "08108b7d-0b1e-450f-f861-6aa8850558e6"
   },
   "outputs": [
    {
     "name": "stdout",
     "output_type": "stream",
     "text": [
      "Accuracy: 0.9732658959537572\n",
      "F1 score: 0.973221595222043\n",
      "Recall: 0.9732658959537572\n",
      "Precision: 0.9733545264035355\n"
     ]
    }
   ],
   "source": [
    "print('Accuracy:', accuracy_score(y_test, weighted_prediction))\n",
    "print('F1 score:', f1_score(y_test, weighted_prediction,average='weighted'))\n",
    "print('Recall:', recall_score(y_test, weighted_prediction, average='weighted'))\n",
    "print('Precision:', precision_score(y_test, weighted_prediction,average='weighted'))"
   ]
  },
  {
   "cell_type": "code",
   "execution_count": 64,
   "metadata": {
    "colab": {
     "base_uri": "https://localhost:8080/"
    },
    "executionInfo": {
     "elapsed": 31,
     "status": "ok",
     "timestamp": 1641196330856,
     "user": {
      "displayName": "PUNGLIYA VITHIKA",
      "photoUrl": "https://lh3.googleusercontent.com/a-/AOh14Gh1kW9SCW3-ClSjFJuicIgYeSjD8zCIJ6g8DIu_CQ=s64",
      "userId": "10245521390697241014"
     },
     "user_tz": -330
    },
    "id": "glUBaEAaXZSi",
    "outputId": "a230deba-d702-40d0-b299-1f15f4d3c422"
   },
   "outputs": [
    {
     "name": "stdout",
     "output_type": "stream",
     "text": [
      "Clasification report:\n",
      "               precision    recall  f1-score   support\n",
      "\n",
      "           0       0.98      0.96      0.97       580\n",
      "           1       0.97      0.99      0.98       804\n",
      "\n",
      "    accuracy                           0.97      1384\n",
      "   macro avg       0.97      0.97      0.97      1384\n",
      "weighted avg       0.97      0.97      0.97      1384\n",
      "\n"
     ]
    }
   ],
   "source": [
    "print ('Clasification report:\\n', classification_report(y_test, weighted_prediction))"
   ]
  },
  {
   "cell_type": "code",
   "execution_count": 65,
   "metadata": {
    "colab": {
     "base_uri": "https://localhost:8080/"
    },
    "executionInfo": {
     "elapsed": 28,
     "status": "ok",
     "timestamp": 1641196330857,
     "user": {
      "displayName": "PUNGLIYA VITHIKA",
      "photoUrl": "https://lh3.googleusercontent.com/a-/AOh14Gh1kW9SCW3-ClSjFJuicIgYeSjD8zCIJ6g8DIu_CQ=s64",
      "userId": "10245521390697241014"
     },
     "user_tz": -330
    },
    "id": "ZGR60irgXbDo",
    "outputId": "9b198f8d-0c86-45ca-f3b0-3dade781b08d"
   },
   "outputs": [
    {
     "name": "stdout",
     "output_type": "stream",
     "text": [
      "Confusion matrix\n",
      "\n",
      " [[555  25]\n",
      " [ 12 792]]\n",
      "\n",
      "True Positives(TP) =  555\n",
      "\n",
      "True Negatives(TN) =  792\n",
      "\n",
      "False Positives(FP) =  25\n",
      "\n",
      "False Negatives(FN) =  12\n"
     ]
    }
   ],
   "source": [
    "from sklearn.metrics import confusion_matrix\n",
    "\n",
    "cm = confusion_matrix(y_test, weighted_prediction)\n",
    "\n",
    "print('Confusion matrix\\n\\n', cm)\n",
    "\n",
    "print('\\nTrue Positives(TP) = ', cm[0,0])\n",
    "\n",
    "print('\\nTrue Negatives(TN) = ', cm[1,1])\n",
    "\n",
    "print('\\nFalse Positives(FP) = ', cm[0,1])\n",
    "\n",
    "print('\\nFalse Negatives(FN) = ', cm[1,0])"
   ]
  },
  {
   "cell_type": "code",
   "execution_count": 66,
   "metadata": {
    "colab": {
     "base_uri": "https://localhost:8080/",
     "height": 282
    },
    "executionInfo": {
     "elapsed": 25,
     "status": "ok",
     "timestamp": 1641196330858,
     "user": {
      "displayName": "PUNGLIYA VITHIKA",
      "photoUrl": "https://lh3.googleusercontent.com/a-/AOh14Gh1kW9SCW3-ClSjFJuicIgYeSjD8zCIJ6g8DIu_CQ=s64",
      "userId": "10245521390697241014"
     },
     "user_tz": -330
    },
    "id": "MHlprLEvXclG",
    "outputId": "3b7cd45b-6916-4383-8c99-0267ffdbcce9"
   },
   "outputs": [
    {
     "data": {
      "text/plain": [
       "<Axes: >"
      ]
     },
     "execution_count": 66,
     "metadata": {},
     "output_type": "execute_result"
    },
    {
     "data": {
      "image/png": "[encoded data removed]",
      "text/plain": [
       "<Figure size 640x480 with 2 Axes>"
      ]
     },
     "metadata": {},
     "output_type": "display_data"
    }
   ],
   "source": [
    "import seaborn as sns\n",
    "cm_matrix = pd.DataFrame(data=cm, columns=['Actual Positive:1', 'Actual Negative:0'], \n",
    "                                 index=['Predict Positive:1', 'Predict Negative:0'])\n",
    "\n",
    "sns.heatmap(cm_matrix, annot=True, fmt='d', cmap='YlGnBu')"
   ]
  },
  {
   "cell_type": "code",
   "execution_count": 67,
   "metadata": {
    "id": "im5SaB6uXeRp"
   },
   "outputs": [],
   "source": [
    "from sklearn.metrics import roc_curve\n",
    "weighted_prediction = grid.predict(X_test)\n",
    "fpr1, tpr1, thresh1 = roc_curve(y_test, weighted_prediction, pos_label=1)\n",
    "random_probs = [0 for i in range(len(y_test))]\n",
    "p_fpr, p_tpr, _ = roc_curve(y_test, random_probs, pos_label=1)"
   ]
  },
  {
   "cell_type": "code",
   "execution_count": 68,
   "metadata": {
    "colab": {
     "base_uri": "https://localhost:8080/"
    },
    "executionInfo": {
     "elapsed": 21,
     "status": "ok",
     "timestamp": 1641196330859,
     "user": {
      "displayName": "PUNGLIYA VITHIKA",
      "photoUrl": "https://lh3.googleusercontent.com/a-/AOh14Gh1kW9SCW3-ClSjFJuicIgYeSjD8zCIJ6g8DIu_CQ=s64",
      "userId": "10245521390697241014"
     },
     "user_tz": -330
    },
    "id": "tgeWKT9UXfxp",
    "outputId": "97c204d7-9dfc-4117-ed9c-356dc525238d"
   },
   "outputs": [
    {
     "name": "stdout",
     "output_type": "stream",
     "text": [
      "0.9709855892949047\n"
     ]
    }
   ],
   "source": [
    "from sklearn.metrics import roc_auc_score\n",
    "\n",
    "# auc scores\n",
    "auc_score1 = roc_auc_score(y_test, weighted_prediction)\n",
    "\n",
    "\n",
    "print(auc_score1)"
   ]
  },
  {
   "cell_type": "markdown",
   "metadata": {},
   "source": [
    "# Visualizing Using ROC Curves:"
   ]
  },
  {
   "cell_type": "code",
   "execution_count": 69,
   "metadata": {
    "colab": {
     "base_uri": "https://localhost:8080/",
     "height": 376
    },
    "executionInfo": {
     "elapsed": 687,
     "status": "ok",
     "timestamp": 1641196331528,
     "user": {
      "displayName": "PUNGLIYA VITHIKA",
      "photoUrl": "https://lh3.googleusercontent.com/a-/AOh14Gh1kW9SCW3-ClSjFJuicIgYeSjD8zCIJ6g8DIu_CQ=s64",
      "userId": "10245521390697241014"
     },
     "user_tz": -330
    },
    "id": "OJkNrpi_XhUy",
    "outputId": "b9e82242-cf93-4e75-a248-6eba744c7483"
   },
   "outputs": [
    {
     "data": {
      "image/png": "[encoded data removed]",
      "text/plain": [
       "<Figure size 640x480 with 1 Axes>"
      ]
     },
     "metadata": {},
     "output_type": "display_data"
    }
   ],
   "source": [
    "import matplotlib.pyplot as plt\n",
    "import seaborn as sns\n",
    "\n",
    "# Set the seaborn style\n",
    "sns.set(style='whitegrid')\n",
    "\n",
    "# Create ROC curve plot\n",
    "sns.lineplot(x=fpr1, y=tpr1, linestyle='--', color='orange', label='Logistic Regression')\n",
    "sns.lineplot(x=p_fpr, y=p_tpr, linestyle='--', color='blue')\n",
    "\n",
    "# Title\n",
    "plt.title('ROC curve')\n",
    "\n",
    "# X label\n",
    "plt.xlabel('False Positive Rate')\n",
    "\n",
    "# Y label\n",
    "plt.ylabel('True Positive rate')\n",
    "\n",
    "# Show plot\n",
    "plt.show()\n"
   ]
  },
  {
   "cell_type": "markdown",
   "metadata": {},
   "source": [
    "# Prediction for Movie Reviews"
   ]
  },
  {
   "cell_type": "code",
   "execution_count": 70,
   "metadata": {
    "id": "AQhyqwVhXjhl"
   },
   "outputs": [],
   "source": [
    " movie_review_list=['Bad movie, wouldnt recommend'] \n",
    " movie_vector=vectorizer.transform(movie_review_list)\n",
    " pred = grid.predict(movie_vector)"
   ]
  },
  {
   "cell_type": "code",
   "execution_count": 71,
   "metadata": {
    "colab": {
     "base_uri": "https://localhost:8080/"
    },
    "executionInfo": {
     "elapsed": 14,
     "status": "ok",
     "timestamp": 1641196331529,
     "user": {
      "displayName": "PUNGLIYA VITHIKA",
      "photoUrl": "https://lh3.googleusercontent.com/a-/AOh14Gh1kW9SCW3-ClSjFJuicIgYeSjD8zCIJ6g8DIu_CQ=s64",
      "userId": "10245521390697241014"
     },
     "user_tz": -330
    },
    "id": "gCtlcvWhXlUV",
    "outputId": "ce998ff2-8fca-47bc-f838-ad3a21061e3c"
   },
   "outputs": [
    {
     "data": {
      "text/plain": [
       "array([0], dtype=int64)"
      ]
     },
     "execution_count": 71,
     "metadata": {},
     "output_type": "execute_result"
    }
   ],
   "source": [
    "pred"
   ]
  },
  {
   "cell_type": "markdown",
   "metadata": {
    "id": "SHFj879wN2ak"
   },
   "source": [
    "ROSHITA"
   ]
  },
  {
   "cell_type": "code",
   "execution_count": 72,
   "metadata": {
    "colab": {
     "base_uri": "https://localhost:8080/"
    },
    "executionInfo": {
     "elapsed": 1347,
     "status": "ok",
     "timestamp": 1641196332865,
     "user": {
      "displayName": "PUNGLIYA VITHIKA",
      "photoUrl": "https://lh3.googleusercontent.com/a-/AOh14Gh1kW9SCW3-ClSjFJuicIgYeSjD8zCIJ6g8DIu_CQ=s64",
      "userId": "10245521390697241014"
     },
     "user_tz": -330
    },
    "id": "yx1CLvwMXm6k",
    "outputId": "ee68f45e-c439-4ec6-b30d-da9574ff902b"
   },
   "outputs": [
    {
     "data": {
      "text/html": [
       "<style>#sk-container-id-4 {color: black;}#sk-container-id-4 pre{padding: 0;}#sk-container-id-4 div.sk-toggleable {background-color: white;}#sk-container-id-4 label.sk-toggleable__label {cursor: pointer;display: block;width: 100%;margin-bottom: 0;padding: 0.3em;box-sizing: border-box;text-align: center;}#sk-container-id-4 label.sk-toggleable__label-arrow:before {content: \"▸\";float: left;margin-right: 0.25em;color: #696969;}#sk-container-id-4 label.sk-toggleable__label-arrow:hover:before {color: black;}#sk-container-id-4 div.sk-estimator:hover label.sk-toggleable__label-arrow:before {color: black;}#sk-container-id-4 div.sk-toggleable__content {max-height: 0;max-width: 0;overflow: hidden;text-align: left;background-color: #f0f8ff;}#sk-container-id-4 div.sk-toggleable__content pre {margin: 0.2em;color: black;border-radius: 0.25em;background-color: #f0f8ff;}#sk-container-id-4 input.sk-toggleable__control:checked~div.sk-toggleable__content {max-height: 200px;max-width: 100%;overflow: auto;}#sk-container-id-4 input.sk-toggleable__control:checked~label.sk-toggleable__label-arrow:before {content: \"▾\";}#sk-container-id-4 div.sk-estimator input.sk-toggleable__control:checked~label.sk-toggleable__label {background-color: #d4ebff;}#sk-container-id-4 div.sk-label input.sk-toggleable__control:checked~label.sk-toggleable__label {background-color: #d4ebff;}#sk-container-id-4 input.sk-hidden--visually {border: 0;clip: rect(1px 1px 1px 1px);clip: rect(1px, 1px, 1px, 1px);height: 1px;margin: -1px;overflow: hidden;padding: 0;position: absolute;width: 1px;}#sk-container-id-4 div.sk-estimator {font-family: monospace;background-color: #f0f8ff;border: 1px dotted black;border-radius: 0.25em;box-sizing: border-box;margin-bottom: 0.5em;}#sk-container-id-4 div.sk-estimator:hover {background-color: #d4ebff;}#sk-container-id-4 div.sk-parallel-item::after {content: \"\";width: 100%;border-bottom: 1px solid gray;flex-grow: 1;}#sk-container-id-4 div.sk-label:hover label.sk-toggleable__label {background-color: #d4ebff;}#sk-container-id-4 div.sk-serial::before {content: \"\";position: absolute;border-left: 1px solid gray;box-sizing: border-box;top: 0;bottom: 0;left: 50%;z-index: 0;}#sk-container-id-4 div.sk-serial {display: flex;flex-direction: column;align-items: center;background-color: white;padding-right: 0.2em;padding-left: 0.2em;position: relative;}#sk-container-id-4 div.sk-item {position: relative;z-index: 1;}#sk-container-id-4 div.sk-parallel {display: flex;align-items: stretch;justify-content: center;background-color: white;position: relative;}#sk-container-id-4 div.sk-item::before, #sk-container-id-4 div.sk-parallel-item::before {content: \"\";position: absolute;border-left: 1px solid gray;box-sizing: border-box;top: 0;bottom: 0;left: 50%;z-index: -1;}#sk-container-id-4 div.sk-parallel-item {display: flex;flex-direction: column;z-index: 1;position: relative;background-color: white;}#sk-container-id-4 div.sk-parallel-item:first-child::after {align-self: flex-end;width: 50%;}#sk-container-id-4 div.sk-parallel-item:last-child::after {align-self: flex-start;width: 50%;}#sk-container-id-4 div.sk-parallel-item:only-child::after {width: 0;}#sk-container-id-4 div.sk-dashed-wrapped {border: 1px dashed gray;margin: 0 0.4em 0.5em 0.4em;box-sizing: border-box;padding-bottom: 0.4em;background-color: white;}#sk-container-id-4 div.sk-label label {font-family: monospace;font-weight: bold;display: inline-block;line-height: 1.2em;}#sk-container-id-4 div.sk-label-container {text-align: center;}#sk-container-id-4 div.sk-container {/* jupyter's `normalize.less` sets `[hidden] { display: none; }` but bootstrap.min.css set `[hidden] { display: none !important; }` so we also need the `!important` here to be able to override the default hidden behavior on the sphinx rendered scikit-learn.org. See: https://github.com/scikit-learn/scikit-learn/issues/21755 */display: inline-block !important;position: relative;}#sk-container-id-4 div.sk-text-repr-fallback {display: none;}</style><div id=\"sk-container-id-4\" class=\"sk-top-container\"><div class=\"sk-text-repr-fallback\"><pre>SVC(probability=True)</pre><b>In a Jupyter environment, please rerun this cell to show the HTML representation or trust the notebook. <br />On GitHub, the HTML representation is unable to render, please try loading this page with nbviewer.org.</b></div><div class=\"sk-container\" hidden><div class=\"sk-item\"><div class=\"sk-estimator sk-toggleable\"><input class=\"sk-toggleable__control sk-hidden--visually\" id=\"sk-estimator-id-6\" type=\"checkbox\" checked><label for=\"sk-estimator-id-6\" class=\"sk-toggleable__label sk-toggleable__label-arrow\">SVC</label><div class=\"sk-toggleable__content\"><pre>SVC(probability=True)</pre></div></div></div></div></div>"
      ],
      "text/plain": [
       "SVC(probability=True)"
      ]
     },
     "execution_count": 72,
     "metadata": {},
     "output_type": "execute_result"
    }
   ],
   "source": [
    "from sklearn.svm import SVC\n",
    "model=SVC(probability=True)\n",
    "model.fit(X_train,y_train)"
   ]
  },
  {
   "cell_type": "code",
   "execution_count": 73,
   "metadata": {
    "colab": {
     "base_uri": "https://localhost:8080/"
    },
    "executionInfo": {
     "elapsed": 420,
     "status": "ok",
     "timestamp": 1641196333282,
     "user": {
      "displayName": "PUNGLIYA VITHIKA",
      "photoUrl": "https://lh3.googleusercontent.com/a-/AOh14Gh1kW9SCW3-ClSjFJuicIgYeSjD8zCIJ6g8DIu_CQ=s64",
      "userId": "10245521390697241014"
     },
     "user_tz": -330
    },
    "id": "44wQbIGqXoaM",
    "outputId": "c2c08041-53b4-4a1d-ebf4-37ed6df2ea86"
   },
   "outputs": [
    {
     "data": {
      "text/plain": [
       "0.9739884393063584"
      ]
     },
     "execution_count": 73,
     "metadata": {},
     "output_type": "execute_result"
    }
   ],
   "source": [
    "model.score(X_test,y_test)"
   ]
  },
  {
   "cell_type": "code",
   "execution_count": 75,
   "metadata": {
    "id": "uZhT6j1xKBhl"
   },
   "outputs": [
    {
     "name": "stdout",
     "output_type": "stream",
     "text": [
      "Fitting 5 folds for each of 25 candidates, totalling 125 fits\n",
      "[CV 1/5] END ........C=0.1, gamma=1, kernel=rbf;, score=0.955 total time=   0.2s\n",
      "[CV 2/5] END ........C=0.1, gamma=1, kernel=rbf;, score=0.962 total time=   0.2s\n",
      "[CV 3/5] END ........C=0.1, gamma=1, kernel=rbf;, score=0.973 total time=   0.2s\n",
      "[CV 4/5] END ........C=0.1, gamma=1, kernel=rbf;, score=0.967 total time=   0.2s\n",
      "[CV 5/5] END ........C=0.1, gamma=1, kernel=rbf;, score=0.967 total time=   0.2s\n",
      "[CV 1/5] END ......C=0.1, gamma=0.1, kernel=rbf;, score=0.967 total time=   0.7s\n",
      "[CV 2/5] END ......C=0.1, gamma=0.1, kernel=rbf;, score=0.969 total time=   0.6s\n",
      "[CV 3/5] END ......C=0.1, gamma=0.1, kernel=rbf;, score=0.982 total time=   0.7s\n",
      "[CV 4/5] END ......C=0.1, gamma=0.1, kernel=rbf;, score=0.982 total time=   0.7s\n",
      "[CV 5/5] END ......C=0.1, gamma=0.1, kernel=rbf;, score=0.977 total time=   0.7s\n",
      "[CV 1/5] END .....C=0.1, gamma=0.01, kernel=rbf;, score=0.567 total time=   1.0s\n",
      "[CV 2/5] END .....C=0.1, gamma=0.01, kernel=rbf;, score=0.567 total time=   1.0s\n",
      "[CV 3/5] END .....C=0.1, gamma=0.01, kernel=rbf;, score=0.567 total time=   1.0s\n",
      "[CV 4/5] END .....C=0.1, gamma=0.01, kernel=rbf;, score=0.567 total time=   1.0s\n",
      "[CV 5/5] END .....C=0.1, gamma=0.01, kernel=rbf;, score=0.567 total time=   1.0s\n",
      "[CV 1/5] END ....C=0.1, gamma=0.001, kernel=rbf;, score=0.567 total time=   1.0s\n",
      "[CV 2/5] END ....C=0.1, gamma=0.001, kernel=rbf;, score=0.567 total time=   1.0s\n",
      "[CV 3/5] END ....C=0.1, gamma=0.001, kernel=rbf;, score=0.567 total time=   1.0s\n",
      "[CV 4/5] END ....C=0.1, gamma=0.001, kernel=rbf;, score=0.567 total time=   1.0s\n",
      "[CV 5/5] END ....C=0.1, gamma=0.001, kernel=rbf;, score=0.567 total time=   1.0s\n",
      "[CV 1/5] END ...C=0.1, gamma=0.0001, kernel=rbf;, score=0.567 total time=   1.0s\n",
      "[CV 2/5] END ...C=0.1, gamma=0.0001, kernel=rbf;, score=0.567 total time=   1.0s\n",
      "[CV 3/5] END ...C=0.1, gamma=0.0001, kernel=rbf;, score=0.567 total time=   1.0s\n",
      "[CV 4/5] END ...C=0.1, gamma=0.0001, kernel=rbf;, score=0.567 total time=   1.0s\n",
      "[CV 5/5] END ...C=0.1, gamma=0.0001, kernel=rbf;, score=0.567 total time=   1.0s\n",
      "[CV 1/5] END ..........C=1, gamma=1, kernel=rbf;, score=0.975 total time=   0.1s\n",
      "[CV 2/5] END ..........C=1, gamma=1, kernel=rbf;, score=0.977 total time=   0.1s\n",
      "[CV 3/5] END ..........C=1, gamma=1, kernel=rbf;, score=0.983 total time=   0.1s\n",
      "[CV 4/5] END ..........C=1, gamma=1, kernel=rbf;, score=0.981 total time=   0.1s\n",
      "[CV 5/5] END ..........C=1, gamma=1, kernel=rbf;, score=0.978 total time=   0.1s\n",
      "[CV 1/5] END ........C=1, gamma=0.1, kernel=rbf;, score=0.972 total time=   0.1s\n",
      "[CV 2/5] END ........C=1, gamma=0.1, kernel=rbf;, score=0.976 total time=   0.1s\n",
      "[CV 3/5] END ........C=1, gamma=0.1, kernel=rbf;, score=0.982 total time=   0.1s\n",
      "[CV 4/5] END ........C=1, gamma=0.1, kernel=rbf;, score=0.980 total time=   0.1s\n",
      "[CV 5/5] END ........C=1, gamma=0.1, kernel=rbf;, score=0.976 total time=   0.1s\n",
      "[CV 1/5] END .......C=1, gamma=0.01, kernel=rbf;, score=0.968 total time=   0.6s\n",
      "[CV 2/5] END .......C=1, gamma=0.01, kernel=rbf;, score=0.973 total time=   0.6s\n",
      "[CV 3/5] END .......C=1, gamma=0.01, kernel=rbf;, score=0.988 total time=   0.6s\n",
      "[CV 4/5] END .......C=1, gamma=0.01, kernel=rbf;, score=0.982 total time=   0.6s\n",
      "[CV 5/5] END .......C=1, gamma=0.01, kernel=rbf;, score=0.980 total time=   0.6s\n",
      "[CV 1/5] END ......C=1, gamma=0.001, kernel=rbf;, score=0.567 total time=   1.0s\n",
      "[CV 2/5] END ......C=1, gamma=0.001, kernel=rbf;, score=0.567 total time=   1.0s\n",
      "[CV 3/5] END ......C=1, gamma=0.001, kernel=rbf;, score=0.567 total time=   1.0s\n",
      "[CV 4/5] END ......C=1, gamma=0.001, kernel=rbf;, score=0.567 total time=   1.0s\n",
      "[CV 5/5] END ......C=1, gamma=0.001, kernel=rbf;, score=0.567 total time=   1.0s\n",
      "[CV 1/5] END .....C=1, gamma=0.0001, kernel=rbf;, score=0.567 total time=   1.0s\n",
      "[CV 2/5] END .....C=1, gamma=0.0001, kernel=rbf;, score=0.567 total time=   1.0s\n",
      "[CV 3/5] END .....C=1, gamma=0.0001, kernel=rbf;, score=0.567 total time=   1.0s\n",
      "[CV 4/5] END .....C=1, gamma=0.0001, kernel=rbf;, score=0.567 total time=   1.0s\n",
      "[CV 5/5] END .....C=1, gamma=0.0001, kernel=rbf;, score=0.567 total time=   1.0s\n",
      "[CV 1/5] END .........C=10, gamma=1, kernel=rbf;, score=0.982 total time=   0.1s\n",
      "[CV 2/5] END .........C=10, gamma=1, kernel=rbf;, score=0.979 total time=   0.1s\n",
      "[CV 3/5] END .........C=10, gamma=1, kernel=rbf;, score=0.988 total time=   0.1s\n",
      "[CV 4/5] END .........C=10, gamma=1, kernel=rbf;, score=0.986 total time=   0.1s\n",
      "[CV 5/5] END .........C=10, gamma=1, kernel=rbf;, score=0.986 total time=   0.1s\n",
      "[CV 1/5] END .......C=10, gamma=0.1, kernel=rbf;, score=0.983 total time=   0.1s\n",
      "[CV 2/5] END .......C=10, gamma=0.1, kernel=rbf;, score=0.979 total time=   0.1s\n",
      "[CV 3/5] END .......C=10, gamma=0.1, kernel=rbf;, score=0.988 total time=   0.1s\n",
      "[CV 4/5] END .......C=10, gamma=0.1, kernel=rbf;, score=0.990 total time=   0.1s\n",
      "[CV 5/5] END .......C=10, gamma=0.1, kernel=rbf;, score=0.987 total time=   0.1s\n",
      "[CV 1/5] END ......C=10, gamma=0.01, kernel=rbf;, score=0.973 total time=   0.1s\n",
      "[CV 2/5] END ......C=10, gamma=0.01, kernel=rbf;, score=0.976 total time=   0.1s\n",
      "[CV 3/5] END ......C=10, gamma=0.01, kernel=rbf;, score=0.984 total time=   0.1s\n",
      "[CV 4/5] END ......C=10, gamma=0.01, kernel=rbf;, score=0.984 total time=   0.1s\n",
      "[CV 5/5] END ......C=10, gamma=0.01, kernel=rbf;, score=0.980 total time=   0.1s\n",
      "[CV 1/5] END .....C=10, gamma=0.001, kernel=rbf;, score=0.968 total time=   0.6s\n",
      "[CV 2/5] END .....C=10, gamma=0.001, kernel=rbf;, score=0.973 total time=   0.6s\n",
      "[CV 3/5] END .....C=10, gamma=0.001, kernel=rbf;, score=0.988 total time=   0.6s\n",
      "[CV 4/5] END .....C=10, gamma=0.001, kernel=rbf;, score=0.982 total time=   0.6s\n",
      "[CV 5/5] END .....C=10, gamma=0.001, kernel=rbf;, score=0.980 total time=   0.6s\n",
      "[CV 1/5] END ....C=10, gamma=0.0001, kernel=rbf;, score=0.567 total time=   1.0s\n",
      "[CV 2/5] END ....C=10, gamma=0.0001, kernel=rbf;, score=0.567 total time=   1.0s\n",
      "[CV 3/5] END ....C=10, gamma=0.0001, kernel=rbf;, score=0.567 total time=   1.0s\n",
      "[CV 4/5] END ....C=10, gamma=0.0001, kernel=rbf;, score=0.567 total time=   1.0s\n",
      "[CV 5/5] END ....C=10, gamma=0.0001, kernel=rbf;, score=0.567 total time=   1.0s\n",
      "[CV 1/5] END ........C=100, gamma=1, kernel=rbf;, score=0.982 total time=   0.1s\n",
      "[CV 2/5] END ........C=100, gamma=1, kernel=rbf;, score=0.979 total time=   0.1s\n",
      "[CV 3/5] END ........C=100, gamma=1, kernel=rbf;, score=0.988 total time=   0.1s\n",
      "[CV 4/5] END ........C=100, gamma=1, kernel=rbf;, score=0.986 total time=   0.1s\n",
      "[CV 5/5] END ........C=100, gamma=1, kernel=rbf;, score=0.986 total time=   0.1s\n",
      "[CV 1/5] END ......C=100, gamma=0.1, kernel=rbf;, score=0.986 total time=   0.1s\n",
      "[CV 2/5] END ......C=100, gamma=0.1, kernel=rbf;, score=0.986 total time=   0.1s\n",
      "[CV 3/5] END ......C=100, gamma=0.1, kernel=rbf;, score=0.994 total time=   0.1s\n",
      "[CV 4/5] END ......C=100, gamma=0.1, kernel=rbf;, score=0.990 total time=   0.1s\n",
      "[CV 5/5] END ......C=100, gamma=0.1, kernel=rbf;, score=0.990 total time=   0.1s\n",
      "[CV 1/5] END .....C=100, gamma=0.01, kernel=rbf;, score=0.984 total time=   0.1s\n",
      "[CV 2/5] END .....C=100, gamma=0.01, kernel=rbf;, score=0.982 total time=   0.1s\n",
      "[CV 3/5] END .....C=100, gamma=0.01, kernel=rbf;, score=0.987 total time=   0.1s\n",
      "[CV 4/5] END .....C=100, gamma=0.01, kernel=rbf;, score=0.990 total time=   0.1s\n",
      "[CV 5/5] END .....C=100, gamma=0.01, kernel=rbf;, score=0.986 total time=   0.1s\n",
      "[CV 1/5] END ....C=100, gamma=0.001, kernel=rbf;, score=0.973 total time=   0.1s\n",
      "[CV 2/5] END ....C=100, gamma=0.001, kernel=rbf;, score=0.976 total time=   0.1s\n",
      "[CV 3/5] END ....C=100, gamma=0.001, kernel=rbf;, score=0.985 total time=   0.1s\n",
      "[CV 4/5] END ....C=100, gamma=0.001, kernel=rbf;, score=0.984 total time=   0.1s\n",
      "[CV 5/5] END ....C=100, gamma=0.001, kernel=rbf;, score=0.980 total time=   0.1s\n",
      "[CV 1/5] END ...C=100, gamma=0.0001, kernel=rbf;, score=0.968 total time=   0.6s\n",
      "[CV 2/5] END ...C=100, gamma=0.0001, kernel=rbf;, score=0.973 total time=   0.6s\n",
      "[CV 3/5] END ...C=100, gamma=0.0001, kernel=rbf;, score=0.988 total time=   0.6s\n",
      "[CV 4/5] END ...C=100, gamma=0.0001, kernel=rbf;, score=0.982 total time=   0.6s\n",
      "[CV 5/5] END ...C=100, gamma=0.0001, kernel=rbf;, score=0.980 total time=   0.6s\n",
      "[CV 1/5] END .......C=1000, gamma=1, kernel=rbf;, score=0.982 total time=   0.1s\n",
      "[CV 2/5] END .......C=1000, gamma=1, kernel=rbf;, score=0.979 total time=   0.1s\n",
      "[CV 3/5] END .......C=1000, gamma=1, kernel=rbf;, score=0.988 total time=   0.1s\n",
      "[CV 4/5] END .......C=1000, gamma=1, kernel=rbf;, score=0.986 total time=   0.1s\n",
      "[CV 5/5] END .......C=1000, gamma=1, kernel=rbf;, score=0.986 total time=   0.1s\n",
      "[CV 1/5] END .....C=1000, gamma=0.1, kernel=rbf;, score=0.986 total time=   0.1s\n",
      "[CV 2/5] END .....C=1000, gamma=0.1, kernel=rbf;, score=0.986 total time=   0.1s\n",
      "[CV 3/5] END .....C=1000, gamma=0.1, kernel=rbf;, score=0.996 total time=   0.1s\n",
      "[CV 4/5] END .....C=1000, gamma=0.1, kernel=rbf;, score=0.990 total time=   0.1s\n",
      "[CV 5/5] END .....C=1000, gamma=0.1, kernel=rbf;, score=0.990 total time=   0.1s\n",
      "[CV 1/5] END ....C=1000, gamma=0.01, kernel=rbf;, score=0.986 total time=   0.0s\n",
      "[CV 2/5] END ....C=1000, gamma=0.01, kernel=rbf;, score=0.986 total time=   0.1s\n",
      "[CV 3/5] END ....C=1000, gamma=0.01, kernel=rbf;, score=0.994 total time=   0.1s\n",
      "[CV 4/5] END ....C=1000, gamma=0.01, kernel=rbf;, score=0.990 total time=   0.1s\n",
      "[CV 5/5] END ....C=1000, gamma=0.01, kernel=rbf;, score=0.992 total time=   0.1s\n",
      "[CV 1/5] END ...C=1000, gamma=0.001, kernel=rbf;, score=0.984 total time=   0.1s\n",
      "[CV 2/5] END ...C=1000, gamma=0.001, kernel=rbf;, score=0.982 total time=   0.1s\n",
      "[CV 3/5] END ...C=1000, gamma=0.001, kernel=rbf;, score=0.987 total time=   0.1s\n",
      "[CV 4/5] END ...C=1000, gamma=0.001, kernel=rbf;, score=0.990 total time=   0.1s\n",
      "[CV 5/5] END ...C=1000, gamma=0.001, kernel=rbf;, score=0.986 total time=   0.1s\n",
      "[CV 1/5] END ..C=1000, gamma=0.0001, kernel=rbf;, score=0.973 total time=   0.1s\n",
      "[CV 2/5] END ..C=1000, gamma=0.0001, kernel=rbf;, score=0.976 total time=   0.1s\n",
      "[CV 3/5] END ..C=1000, gamma=0.0001, kernel=rbf;, score=0.985 total time=   0.1s\n",
      "[CV 4/5] END ..C=1000, gamma=0.0001, kernel=rbf;, score=0.984 total time=   0.1s\n",
      "[CV 5/5] END ..C=1000, gamma=0.0001, kernel=rbf;, score=0.980 total time=   0.1s\n"
     ]
    },
    {
     "data": {
      "text/html": [
       "<style>#sk-container-id-5 {color: black;}#sk-container-id-5 pre{padding: 0;}#sk-container-id-5 div.sk-toggleable {background-color: white;}#sk-container-id-5 label.sk-toggleable__label {cursor: pointer;display: block;width: 100%;margin-bottom: 0;padding: 0.3em;box-sizing: border-box;text-align: center;}#sk-container-id-5 label.sk-toggleable__label-arrow:before {content: \"▸\";float: left;margin-right: 0.25em;color: #696969;}#sk-container-id-5 label.sk-toggleable__label-arrow:hover:before {color: black;}#sk-container-id-5 div.sk-estimator:hover label.sk-toggleable__label-arrow:before {color: black;}#sk-container-id-5 div.sk-toggleable__content {max-height: 0;max-width: 0;overflow: hidden;text-align: left;background-color: #f0f8ff;}#sk-container-id-5 div.sk-toggleable__content pre {margin: 0.2em;color: black;border-radius: 0.25em;background-color: #f0f8ff;}#sk-container-id-5 input.sk-toggleable__control:checked~div.sk-toggleable__content {max-height: 200px;max-width: 100%;overflow: auto;}#sk-container-id-5 input.sk-toggleable__control:checked~label.sk-toggleable__label-arrow:before {content: \"▾\";}#sk-container-id-5 div.sk-estimator input.sk-toggleable__control:checked~label.sk-toggleable__label {background-color: #d4ebff;}#sk-container-id-5 div.sk-label input.sk-toggleable__control:checked~label.sk-toggleable__label {background-color: #d4ebff;}#sk-container-id-5 input.sk-hidden--visually {border: 0;clip: rect(1px 1px 1px 1px);clip: rect(1px, 1px, 1px, 1px);height: 1px;margin: -1px;overflow: hidden;padding: 0;position: absolute;width: 1px;}#sk-container-id-5 div.sk-estimator {font-family: monospace;background-color: #f0f8ff;border: 1px dotted black;border-radius: 0.25em;box-sizing: border-box;margin-bottom: 0.5em;}#sk-container-id-5 div.sk-estimator:hover {background-color: #d4ebff;}#sk-container-id-5 div.sk-parallel-item::after {content: \"\";width: 100%;border-bottom: 1px solid gray;flex-grow: 1;}#sk-container-id-5 div.sk-label:hover label.sk-toggleable__label {background-color: #d4ebff;}#sk-container-id-5 div.sk-serial::before {content: \"\";position: absolute;border-left: 1px solid gray;box-sizing: border-box;top: 0;bottom: 0;left: 50%;z-index: 0;}#sk-container-id-5 div.sk-serial {display: flex;flex-direction: column;align-items: center;background-color: white;padding-right: 0.2em;padding-left: 0.2em;position: relative;}#sk-container-id-5 div.sk-item {position: relative;z-index: 1;}#sk-container-id-5 div.sk-parallel {display: flex;align-items: stretch;justify-content: center;background-color: white;position: relative;}#sk-container-id-5 div.sk-item::before, #sk-container-id-5 div.sk-parallel-item::before {content: \"\";position: absolute;border-left: 1px solid gray;box-sizing: border-box;top: 0;bottom: 0;left: 50%;z-index: -1;}#sk-container-id-5 div.sk-parallel-item {display: flex;flex-direction: column;z-index: 1;position: relative;background-color: white;}#sk-container-id-5 div.sk-parallel-item:first-child::after {align-self: flex-end;width: 50%;}#sk-container-id-5 div.sk-parallel-item:last-child::after {align-self: flex-start;width: 50%;}#sk-container-id-5 div.sk-parallel-item:only-child::after {width: 0;}#sk-container-id-5 div.sk-dashed-wrapped {border: 1px dashed gray;margin: 0 0.4em 0.5em 0.4em;box-sizing: border-box;padding-bottom: 0.4em;background-color: white;}#sk-container-id-5 div.sk-label label {font-family: monospace;font-weight: bold;display: inline-block;line-height: 1.2em;}#sk-container-id-5 div.sk-label-container {text-align: center;}#sk-container-id-5 div.sk-container {/* jupyter's `normalize.less` sets `[hidden] { display: none; }` but bootstrap.min.css set `[hidden] { display: none !important; }` so we also need the `!important` here to be able to override the default hidden behavior on the sphinx rendered scikit-learn.org. See: https://github.com/scikit-learn/scikit-learn/issues/21755 */display: inline-block !important;position: relative;}#sk-container-id-5 div.sk-text-repr-fallback {display: none;}</style><div id=\"sk-container-id-5\" class=\"sk-top-container\"><div class=\"sk-text-repr-fallback\"><pre>GridSearchCV(estimator=SVC(),\n",
       "             param_grid={&#x27;C&#x27;: [0.1, 1, 10, 100, 1000],\n",
       "                         &#x27;gamma&#x27;: [1, 0.1, 0.01, 0.001, 0.0001],\n",
       "                         &#x27;kernel&#x27;: [&#x27;rbf&#x27;]},\n",
       "             verbose=3)</pre><b>In a Jupyter environment, please rerun this cell to show the HTML representation or trust the notebook. <br />On GitHub, the HTML representation is unable to render, please try loading this page with nbviewer.org.</b></div><div class=\"sk-container\" hidden><div class=\"sk-item sk-dashed-wrapped\"><div class=\"sk-label-container\"><div class=\"sk-label sk-toggleable\"><input class=\"sk-toggleable__control sk-hidden--visually\" id=\"sk-estimator-id-7\" type=\"checkbox\" ><label for=\"sk-estimator-id-7\" class=\"sk-toggleable__label sk-toggleable__label-arrow\">GridSearchCV</label><div class=\"sk-toggleable__content\"><pre>GridSearchCV(estimator=SVC(),\n",
       "             param_grid={&#x27;C&#x27;: [0.1, 1, 10, 100, 1000],\n",
       "                         &#x27;gamma&#x27;: [1, 0.1, 0.01, 0.001, 0.0001],\n",
       "                         &#x27;kernel&#x27;: [&#x27;rbf&#x27;]},\n",
       "             verbose=3)</pre></div></div></div><div class=\"sk-parallel\"><div class=\"sk-parallel-item\"><div class=\"sk-item\"><div class=\"sk-label-container\"><div class=\"sk-label sk-toggleable\"><input class=\"sk-toggleable__control sk-hidden--visually\" id=\"sk-estimator-id-8\" type=\"checkbox\" ><label for=\"sk-estimator-id-8\" class=\"sk-toggleable__label sk-toggleable__label-arrow\">estimator: SVC</label><div class=\"sk-toggleable__content\"><pre>SVC()</pre></div></div></div><div class=\"sk-serial\"><div class=\"sk-item\"><div class=\"sk-estimator sk-toggleable\"><input class=\"sk-toggleable__control sk-hidden--visually\" id=\"sk-estimator-id-9\" type=\"checkbox\" ><label for=\"sk-estimator-id-9\" class=\"sk-toggleable__label sk-toggleable__label-arrow\">SVC</label><div class=\"sk-toggleable__content\"><pre>SVC()</pre></div></div></div></div></div></div></div></div></div></div>"
      ],
      "text/plain": [
       "GridSearchCV(estimator=SVC(),\n",
       "             param_grid={'C': [0.1, 1, 10, 100, 1000],\n",
       "                         'gamma': [1, 0.1, 0.01, 0.001, 0.0001],\n",
       "                         'kernel': ['rbf']},\n",
       "             verbose=3)"
      ]
     },
     "execution_count": 75,
     "metadata": {},
     "output_type": "execute_result"
    }
   ],
   "source": [
    "\n",
    "param_grid = {'C': [0.1, 1, 10, 100, 1000],\n",
    "              'gamma': [1, 0.1, 0.01, 0.001, 0.0001],\n",
    "              'kernel': ['rbf']}  \n",
    "grid_SVC = GridSearchCV(SVC(), param_grid, refit = True, verbose = 3)\n",
    "grid_SVC.fit(X_train, y_train)"
   ]
  },
  {
   "cell_type": "code",
   "execution_count": 76,
   "metadata": {},
   "outputs": [],
   "source": [
    "weighted_prediction_SVC = grid_SVC.predict(X_test)"
   ]
  },
  {
   "cell_type": "markdown",
   "metadata": {},
   "source": [
    "# Performance"
   ]
  },
  {
   "cell_type": "code",
   "execution_count": 77,
   "metadata": {
    "colab": {
     "base_uri": "https://localhost:8080/"
    },
    "executionInfo": {
     "elapsed": 31,
     "status": "ok",
     "timestamp": 1641196446082,
     "user": {
      "displayName": "PUNGLIYA VITHIKA",
      "photoUrl": "https://lh3.googleusercontent.com/a-/AOh14Gh1kW9SCW3-ClSjFJuicIgYeSjD8zCIJ6g8DIu_CQ=s64",
      "userId": "10245521390697241014"
     },
     "user_tz": -330
    },
    "id": "Tbmy6B6VXr3P",
    "outputId": "8ac70825-7595-4989-d6e7-7687ba6b2452"
   },
   "outputs": [
    {
     "name": "stdout",
     "output_type": "stream",
     "text": [
      "Accuracy: 0.986271676300578\n",
      "F1 score: 0.9862597549434926\n",
      "Recall: 0.986271676300578\n",
      "Precision: 0.9862997895392668\n"
     ]
    }
   ],
   "source": [
    "print('Accuracy:', accuracy_score(y_test, weighted_prediction_SVC))\n",
    "print('F1 score:', f1_score(y_test, weighted_prediction_SVC,average='weighted'))\n",
    "print('Recall:', recall_score(y_test, weighted_prediction_SVC, average='weighted'))\n",
    "print('Precision:', precision_score(y_test, weighted_prediction_SVC,average='weighted'))"
   ]
  },
  {
   "cell_type": "code",
   "execution_count": 78,
   "metadata": {
    "colab": {
     "base_uri": "https://localhost:8080/"
    },
    "executionInfo": {
     "elapsed": 24,
     "status": "ok",
     "timestamp": 1641196446083,
     "user": {
      "displayName": "PUNGLIYA VITHIKA",
      "photoUrl": "https://lh3.googleusercontent.com/a-/AOh14Gh1kW9SCW3-ClSjFJuicIgYeSjD8zCIJ6g8DIu_CQ=s64",
      "userId": "10245521390697241014"
     },
     "user_tz": -330
    },
    "id": "HwXX0_mKXtlx",
    "outputId": "8f5fc351-c24a-4524-db05-5fdf40c5fd6e"
   },
   "outputs": [
    {
     "name": "stdout",
     "output_type": "stream",
     "text": [
      "Clasification report:\n",
      "               precision    recall  f1-score   support\n",
      "\n",
      "           0       0.99      0.98      0.98       580\n",
      "           1       0.98      0.99      0.99       804\n",
      "\n",
      "    accuracy                           0.99      1384\n",
      "   macro avg       0.99      0.99      0.99      1384\n",
      "weighted avg       0.99      0.99      0.99      1384\n",
      "\n"
     ]
    }
   ],
   "source": [
    "print ('Clasification report:\\n', classification_report(y_test, weighted_prediction_SVC))"
   ]
  },
  {
   "cell_type": "code",
   "execution_count": 79,
   "metadata": {
    "colab": {
     "base_uri": "https://localhost:8080/"
    },
    "executionInfo": {
     "elapsed": 20,
     "status": "ok",
     "timestamp": 1641196446083,
     "user": {
      "displayName": "PUNGLIYA VITHIKA",
      "photoUrl": "https://lh3.googleusercontent.com/a-/AOh14Gh1kW9SCW3-ClSjFJuicIgYeSjD8zCIJ6g8DIu_CQ=s64",
      "userId": "10245521390697241014"
     },
     "user_tz": -330
    },
    "id": "KMMCIM_pXvPS",
    "outputId": "ce8ad99c-6520-472e-8d9a-510305506d19"
   },
   "outputs": [
    {
     "name": "stdout",
     "output_type": "stream",
     "text": [
      "Confusion matrix\n",
      "\n",
      " [[567  13]\n",
      " [  6 798]]\n",
      "\n",
      "True Positives(TP) =  567\n",
      "\n",
      "True Negatives(TN) =  798\n",
      "\n",
      "False Positives(FP) =  13\n",
      "\n",
      "False Negatives(FN) =  6\n"
     ]
    }
   ],
   "source": [
    "from sklearn.metrics import confusion_matrix\n",
    "\n",
    "cm = confusion_matrix(y_test, weighted_prediction_SVC)\n",
    "\n",
    "print('Confusion matrix\\n\\n', cm)\n",
    "\n",
    "print('\\nTrue Positives(TP) = ', cm[0,0])\n",
    "\n",
    "print('\\nTrue Negatives(TN) = ', cm[1,1])\n",
    "\n",
    "print('\\nFalse Positives(FP) = ', cm[0,1])\n",
    "\n",
    "print('\\nFalse Negatives(FN) = ', cm[1,0])"
   ]
  },
  {
   "cell_type": "markdown",
   "metadata": {},
   "source": [
    "# Visualizing Confusion"
   ]
  },
  {
   "cell_type": "code",
   "execution_count": 80,
   "metadata": {
    "colab": {
     "base_uri": "https://localhost:8080/",
     "height": 364
    },
    "executionInfo": {
     "elapsed": 1074,
     "status": "ok",
     "timestamp": 1641196447140,
     "user": {
      "displayName": "PUNGLIYA VITHIKA",
      "photoUrl": "https://lh3.googleusercontent.com/a-/AOh14Gh1kW9SCW3-ClSjFJuicIgYeSjD8zCIJ6g8DIu_CQ=s64",
      "userId": "10245521390697241014"
     },
     "user_tz": -330
    },
    "id": "BFS0kxOFXxGh",
    "outputId": "5143556f-3d18-404a-8ef0-883b8c78e03e"
   },
   "outputs": [
    {
     "data": {
      "text/plain": [
       "<Axes: >"
      ]
     },
     "execution_count": 80,
     "metadata": {},
     "output_type": "execute_result"
    },
    {
     "data": {
      "image/png": "[encoded data removed]",
      "text/plain": [
       "<Figure size 640x480 with 2 Axes>"
      ]
     },
     "metadata": {},
     "output_type": "display_data"
    }
   ],
   "source": [
    "import seaborn as sns\n",
    "cm_matrix = pd.DataFrame(data=cm, columns=['Actual Positive:1', 'Actual Negative:0'], \n",
    "                                 index=['Predict Positive:1', 'Predict Negative:0'])\n",
    "\n",
    "sns.heatmap(cm_matrix, annot=True, fmt='d', cmap='YlGnBu')"
   ]
  },
  {
   "cell_type": "markdown",
   "metadata": {},
   "source": [
    "# ROC Curve for Binary Classification And Visualizing Model Performance"
   ]
  },
  {
   "cell_type": "code",
   "execution_count": 81,
   "metadata": {
    "id": "sIahzcfuXywp"
   },
   "outputs": [],
   "source": [
    "from sklearn.metrics import roc_curve\n",
    "\n",
    "weighted_prediction2 = model.predict(X_test)\n",
    "fprSVC, tprSVC, thresh1 = roc_curve(y_test, weighted_prediction_SVC, pos_label=1)\n",
    "random_probs = [0 for i in range(len(y_test))]\n",
    "p_fpr, p_tpr, _ = roc_curve(y_test, random_probs, pos_label=1)"
   ]
  },
  {
   "cell_type": "code",
   "execution_count": 82,
   "metadata": {
    "colab": {
     "base_uri": "https://localhost:8080/"
    },
    "executionInfo": {
     "elapsed": 55,
     "status": "ok",
     "timestamp": 1641196447142,
     "user": {
      "displayName": "PUNGLIYA VITHIKA",
      "photoUrl": "https://lh3.googleusercontent.com/a-/AOh14Gh1kW9SCW3-ClSjFJuicIgYeSjD8zCIJ6g8DIu_CQ=s64",
      "userId": "10245521390697241014"
     },
     "user_tz": -330
    },
    "id": "v0MOhQqNX0ga",
    "outputId": "a1bf72e0-1bd6-4dde-f0a5-b84b0011594f"
   },
   "outputs": [
    {
     "name": "stdout",
     "output_type": "stream",
     "text": [
      "0.9850617601646937\n"
     ]
    }
   ],
   "source": [
    "from sklearn.metrics import roc_auc_score\n",
    "\n",
    "# auc scores\n",
    "auc_score1 = roc_auc_score(y_test, weighted_prediction_SVC)\n",
    "\n",
    "\n",
    "print(auc_score1)"
   ]
  },
  {
   "cell_type": "code",
   "execution_count": 83,
   "metadata": {
    "colab": {
     "base_uri": "https://localhost:8080/",
     "height": 376
    },
    "executionInfo": {
     "elapsed": 44,
     "status": "ok",
     "timestamp": 1641196447143,
     "user": {
      "displayName": "PUNGLIYA VITHIKA",
      "photoUrl": "https://lh3.googleusercontent.com/a-/AOh14Gh1kW9SCW3-ClSjFJuicIgYeSjD8zCIJ6g8DIu_CQ=s64",
      "userId": "10245521390697241014"
     },
     "user_tz": -330
    },
    "id": "YNgylSKFX2f3",
    "outputId": "b49a82ef-27ed-40f2-c3c5-b1e8be91ced0"
   },
   "outputs": [
    {
     "data": {
      "image/png": "[encoded data removed]",
      "text/plain": [
       "<Figure size 640x480 with 1 Axes>"
      ]
     },
     "metadata": {},
     "output_type": "display_data"
    }
   ],
   "source": [
    "import matplotlib.pyplot as plt\n",
    "import seaborn as sns\n",
    "\n",
    "# Set the seaborn style\n",
    "sns.set_style('darkgrid')\n",
    "\n",
    "# plot roc curves\n",
    "plt.plot(fprSVC, tprSVC, linestyle='--', color='orange')\n",
    "plt.plot(p_fpr, p_tpr, linestyle='--', color='blue')\n",
    "\n",
    "# Title\n",
    "plt.title('ROC curve')\n",
    "\n",
    "# X label\n",
    "plt.xlabel('False Positive Rate')\n",
    "\n",
    "# Y label\n",
    "plt.ylabel('True Positive rate')\n",
    "\n",
    "# Show plot\n",
    "plt.show()"
   ]
  },
  {
   "cell_type": "markdown",
   "metadata": {},
   "source": [
    "# Prediction"
   ]
  },
  {
   "cell_type": "code",
   "execution_count": 84,
   "metadata": {
    "id": "9jMkIAOwX4yj"
   },
   "outputs": [],
   "source": [
    " movie_review_list=['Bad movie, wouldnt recommend'] \n",
    " movie_vector=vectorizer.transform(movie_review_list)\n",
    " pred = model.predict(movie_vector)"
   ]
  },
  {
   "cell_type": "code",
   "execution_count": 85,
   "metadata": {
    "colab": {
     "base_uri": "https://localhost:8080/"
    },
    "executionInfo": {
     "elapsed": 40,
     "status": "ok",
     "timestamp": 1641196447145,
     "user": {
      "displayName": "PUNGLIYA VITHIKA",
      "photoUrl": "https://lh3.googleusercontent.com/a-/AOh14Gh1kW9SCW3-ClSjFJuicIgYeSjD8zCIJ6g8DIu_CQ=s64",
      "userId": "10245521390697241014"
     },
     "user_tz": -330
    },
    "id": "DfwT4KqRX6SG",
    "outputId": "3f6d1b56-2123-4ef2-8e74-02b2acaaabcb"
   },
   "outputs": [
    {
     "data": {
      "text/plain": [
       "array([0], dtype=int64)"
      ]
     },
     "execution_count": 85,
     "metadata": {},
     "output_type": "execute_result"
    }
   ],
   "source": [
    "pred"
   ]
  },
  {
   "cell_type": "markdown",
   "metadata": {
    "id": "qCq03yXMOITJ"
   },
   "source": [
    "AAYUSHI"
   ]
  },
  {
   "cell_type": "markdown",
   "metadata": {},
   "source": [
    "# Comparing Model Accuracy"
   ]
  },
  {
   "cell_type": "code",
   "execution_count": 86,
   "metadata": {
    "colab": {
     "base_uri": "https://localhost:8080/",
     "height": 378
    },
    "executionInfo": {
     "elapsed": 29,
     "status": "ok",
     "timestamp": 1641196447145,
     "user": {
      "displayName": "PUNGLIYA VITHIKA",
      "photoUrl": "https://lh3.googleusercontent.com/a-/AOh14Gh1kW9SCW3-ClSjFJuicIgYeSjD8zCIJ6g8DIu_CQ=s64",
      "userId": "10245521390697241014"
     },
     "user_tz": -330
    },
    "id": "Mi_5XNnJX72C",
    "outputId": "669009f7-b64c-462c-8698-d3cdc1b39dbd"
   },
   "outputs": [
    {
     "data": {
      "text/plain": [
       "<BarContainer object of 2 artists>"
      ]
     },
     "execution_count": 86,
     "metadata": {},
     "output_type": "execute_result"
    },
    {
     "data": {
      "image/png": "[encoded data removed]",
      "text/plain": [
       "<Figure size 640x480 with 1 Axes>"
      ]
     },
     "metadata": {},
     "output_type": "display_data"
    }
   ],
   "source": [
    "x=np.array([\"SVC\",\"Naivebayes\"])\n",
    "y=np.array([accuracy_score(y_test, weighted_prediction_SVC),accuracy_score(y_test, weighted_prediction)])\n",
    "plt.xlabel(\"Models\")\n",
    "plt.ylabel(\"Accuracy Scores\")\n",
    "plt.bar(x,y)"
   ]
  },
  {
   "cell_type": "code",
   "execution_count": 87,
   "metadata": {
    "id": "KAn8s1gBX9yW"
   },
   "outputs": [],
   "source": [
    "MLA = [\n",
    "    grid,\n",
    "    grid_SVC,\n",
    "    ]"
   ]
  },
  {
   "cell_type": "code",
   "execution_count": 88,
   "metadata": {
    "colab": {
     "base_uri": "https://localhost:8080/",
     "height": 112
    },
    "executionInfo": {
     "elapsed": 638,
     "status": "ok",
     "timestamp": 1641196447763,
     "user": {
      "displayName": "PUNGLIYA VITHIKA",
      "photoUrl": "https://lh3.googleusercontent.com/a-/AOh14Gh1kW9SCW3-ClSjFJuicIgYeSjD8zCIJ6g8DIu_CQ=s64",
      "userId": "10245521390697241014"
     },
     "user_tz": -330
    },
    "id": "vdBMSUmdX_Wi",
    "outputId": "e897d1db-3788-4893-8640-551973dfc335"
   },
   "outputs": [
    {
     "data": {
      "text/html": [
       "<div>\n",
       "<style scoped>\n",
       "    .dataframe tbody tr th:only-of-type {\n",
       "        vertical-align: middle;\n",
       "    }\n",
       "\n",
       "    .dataframe tbody tr th {\n",
       "        vertical-align: top;\n",
       "    }\n",
       "\n",
       "    .dataframe thead th {\n",
       "        text-align: right;\n",
       "    }\n",
       "</style>\n",
       "<table border=\"1\" class=\"dataframe\">\n",
       "  <thead>\n",
       "    <tr style=\"text-align: right;\">\n",
       "      <th></th>\n",
       "      <th>Algorithm</th>\n",
       "      <th>Accuracy</th>\n",
       "      <th>Precision</th>\n",
       "      <th>Recall</th>\n",
       "      <th>AUC</th>\n",
       "    </tr>\n",
       "  </thead>\n",
       "  <tbody>\n",
       "    <tr>\n",
       "      <th>0</th>\n",
       "      <td>GridSearchCV(estimator=MultinomialNB(),\\n     ...</td>\n",
       "      <td>0.9733</td>\n",
       "      <td>0.96940</td>\n",
       "      <td>0.985075</td>\n",
       "      <td>0.970986</td>\n",
       "    </tr>\n",
       "    <tr>\n",
       "      <th>1</th>\n",
       "      <td>GridSearchCV(estimator=SVC(),\\n             pa...</td>\n",
       "      <td>0.9863</td>\n",
       "      <td>0.98397</td>\n",
       "      <td>0.992537</td>\n",
       "      <td>0.985062</td>\n",
       "    </tr>\n",
       "  </tbody>\n",
       "</table>\n",
       "</div>"
      ],
      "text/plain": [
       "                                           Algorithm  Accuracy  Precision  \\\n",
       "0  GridSearchCV(estimator=MultinomialNB(),\\n     ...    0.9733    0.96940   \n",
       "1  GridSearchCV(estimator=SVC(),\\n             pa...    0.9863    0.98397   \n",
       "\n",
       "     Recall       AUC  \n",
       "0  0.985075  0.970986  \n",
       "1  0.992537  0.985062  "
      ]
     },
     "execution_count": 88,
     "metadata": {},
     "output_type": "execute_result"
    }
   ],
   "source": [
    "MLA_columns = []\n",
    "MLA_compare = pd.DataFrame(columns = MLA_columns)\n",
    "\n",
    "row_index = 0\n",
    "for alg in MLA:  \n",
    "    \n",
    "    predicted = alg.predict(X_test)\n",
    "    fp, tp, th = roc_curve(y_test, predicted)\n",
    "    MLA_name = alg\n",
    "    MLA_compare.loc[row_index, 'Algorithm'] = MLA_name\n",
    "    MLA_compare.loc[row_index, 'Accuracy'] = round(alg.score(X_test, y_test), 4)\n",
    "    MLA_compare.loc[row_index, 'Precision'] = precision_score(y_test, predicted)\n",
    "    MLA_compare.loc[row_index, 'Recall'] = recall_score(y_test, predicted)\n",
    "    MLA_compare.loc[row_index, 'AUC'] = auc(fp, tp)\n",
    "\n",
    "    row_index+=1\n",
    "    \n",
    "  \n",
    "MLA_compare"
   ]
  },
  {
   "cell_type": "code",
   "execution_count": 89,
   "metadata": {
    "id": "EPLBOnFuYBIw"
   },
   "outputs": [],
   "source": [
    "models = []\n",
    "\n",
    "models.append(('NB', naive_bayes.MultinomialNB()))\n",
    "models.append(('SVM', SVC()))"
   ]
  },
  {
   "cell_type": "markdown",
   "metadata": {},
   "source": [
    "# Algorithm Performance Comparison"
   ]
  },
  {
   "cell_type": "code",
   "execution_count": 90,
   "metadata": {
    "colab": {
     "base_uri": "https://localhost:8080/",
     "height": 421
    },
    "executionInfo": {
     "elapsed": 3460,
     "status": "ok",
     "timestamp": 1641196451211,
     "user": {
      "displayName": "PUNGLIYA VITHIKA",
      "photoUrl": "https://lh3.googleusercontent.com/a-/AOh14Gh1kW9SCW3-ClSjFJuicIgYeSjD8zCIJ6g8DIu_CQ=s64",
      "userId": "10245521390697241014"
     },
     "user_tz": -330
    },
    "id": "uqZgvbt4YC5w",
    "outputId": "76c57f27-f086-4069-fd53-d6b3ff486db8"
   },
   "outputs": [
    {
     "name": "stdout",
     "output_type": "stream",
     "text": [
      "NB: 0.980847 (0.006865)\n",
      "SVM: 0.979401 (0.006816)\n"
     ]
    },
    {
     "data": {
      "image/png": "[encoded data removed]",
      "text/plain": [
       "<Figure size 640x480 with 1 Axes>"
      ]
     },
     "metadata": {},
     "output_type": "display_data"
    }
   ],
   "source": [
    "from sklearn import svm,model_selection\n",
    "results = []\n",
    "names = []\n",
    "scoring = 'accuracy'\n",
    "for name, model in models:\n",
    "\tkfold = model_selection.KFold(n_splits=10)\n",
    "\tcv_results = model_selection.cross_val_score(model, X_train, y_train, cv=kfold, scoring=scoring)\n",
    "\tresults.append(cv_results)\n",
    "\tnames.append(name)\n",
    "\tmsg = \"%s: %f (%f)\" % (name, cv_results.mean(), cv_results.std())\n",
    "\tprint(msg)\n",
    "# boxplot algorithm comparison\n",
    "fig = plt.figure()\n",
    "fig.suptitle('Comparison between different algos')\n",
    "ax = fig.add_subplot(111)\n",
    "plt.boxplot(results)\n",
    "ax.set_xticklabels(names)\n",
    "plt.show()"
   ]
  },
  {
   "cell_type": "code",
   "execution_count": 91,
   "metadata": {
    "colab": {
     "base_uri": "https://localhost:8080/",
     "height": 376
    },
    "executionInfo": {
     "elapsed": 38,
     "status": "ok",
     "timestamp": 1641196451212,
     "user": {
      "displayName": "PUNGLIYA VITHIKA",
      "photoUrl": "https://lh3.googleusercontent.com/a-/AOh14Gh1kW9SCW3-ClSjFJuicIgYeSjD8zCIJ6g8DIu_CQ=s64",
      "userId": "10245521390697241014"
     },
     "user_tz": -330
    },
    "id": "e8bqY9-KYE9u",
    "outputId": "2042224d-c7fe-4ce4-e917-02dc127fbd7f"
   },
   "outputs": [
    {
     "data": {
      "image/png": "[encoded data removed]",
      "text/plain": [
       "<Figure size 640x480 with 1 Axes>"
      ]
     },
     "metadata": {},
     "output_type": "display_data"
    }
   ],
   "source": [
    "import matplotlib.pyplot as plt\n",
    "import seaborn as sns\n",
    "\n",
    "# Set the seaborn style\n",
    "sns.set_style('whitegrid')\n",
    "\n",
    "# plot roc curves\n",
    "plt.plot(fpr1, tpr1, linestyle='--', color='red')\n",
    "plt.plot(fprSVC, tprSVC, linestyle='--', color='orange')\n",
    "plt.plot(p_fpr, p_tpr, linestyle='--', color='blue')\n",
    "\n",
    "# Title\n",
    "plt.title('ROC curve')\n",
    "\n",
    "# X label\n",
    "plt.xlabel('False Positive Rate')\n",
    "\n",
    "# Y label\n",
    "plt.ylabel('True Positive rate')\n",
    "\n",
    "# Add legend\n",
    "plt.legend(['NV', 'SVC'])\n",
    "\n",
    "# Show plot\n",
    "plt.show()"
   ]
  },
  {
   "cell_type": "markdown",
   "metadata": {
    "id": "WQbRMvd-OS9g"
   },
   "source": [
    "ATHARVA"
   ]
  },
  {
   "cell_type": "markdown",
   "metadata": {},
   "source": [
    "# recommend movie by user input"
   ]
  },
  {
   "cell_type": "code",
   "execution_count": 92,
   "metadata": {
    "colab": {
     "base_uri": "https://localhost:8080/"
    },
    "executionInfo": {
     "elapsed": 9577,
     "status": "ok",
     "timestamp": 1641196460763,
     "user": {
      "displayName": "PUNGLIYA VITHIKA",
      "photoUrl": "https://lh3.googleusercontent.com/a-/AOh14Gh1kW9SCW3-ClSjFJuicIgYeSjD8zCIJ6g8DIu_CQ=s64",
      "userId": "10245521390697241014"
     },
     "user_tz": -330
    },
    "id": "Efj80s1RT6Do",
    "outputId": "4cd735b7-2b43-41ca-b023-4c674cf417cc"
   },
   "outputs": [
    {
     "name": "stdout",
     "output_type": "stream",
     "text": [
      "Enter a movie: Avatar\n"
     ]
    }
   ],
   "source": [
    "print(\"Enter a movie:\", end=\" \")\n",
    "movie=input()"
   ]
  },
  {
   "cell_type": "code",
   "execution_count": 93,
   "metadata": {
    "colab": {
     "base_uri": "https://localhost:8080/"
    },
    "executionInfo": {
     "elapsed": 22,
     "status": "ok",
     "timestamp": 1641196460764,
     "user": {
      "displayName": "PUNGLIYA VITHIKA",
      "photoUrl": "https://lh3.googleusercontent.com/a-/AOh14Gh1kW9SCW3-ClSjFJuicIgYeSjD8zCIJ6g8DIu_CQ=s64",
      "userId": "10245521390697241014"
     },
     "user_tz": -330
    },
    "id": "UtmT-D4cT4Ci",
    "outputId": "d01013f4-459e-4796-ddc9-b23bf3e9e97e"
   },
   "outputs": [
    {
     "data": {
      "text/plain": [
       "['Titan A.E.',\n",
       " 'Small Soldiers',\n",
       " \"Ender's Game\",\n",
       " 'Aliens vs Predator: Requiem',\n",
       " 'Independence Day']"
      ]
     },
     "execution_count": 93,
     "metadata": {},
     "output_type": "execute_result"
    }
   ],
   "source": [
    "recommend(movie)"
   ]
  },
  {
   "cell_type": "code",
   "execution_count": 94,
   "metadata": {
    "id": "6w_sFztWpnyI"
   },
   "outputs": [],
   "source": [
    "import requests"
   ]
  },
  {
   "cell_type": "code",
   "execution_count": 95,
   "metadata": {
    "colab": {
     "base_uri": "https://localhost:8080/"
    },
    "executionInfo": {
     "elapsed": 4318,
     "status": "ok",
     "timestamp": 1641196465063,
     "user": {
      "displayName": "PUNGLIYA VITHIKA",
      "photoUrl": "https://lh3.googleusercontent.com/a-/AOh14Gh1kW9SCW3-ClSjFJuicIgYeSjD8zCIJ6g8DIu_CQ=s64",
      "userId": "10245521390697241014"
     },
     "user_tz": -330
    },
    "id": "7eItBTwTNKqw",
    "outputId": "b414f4e0-45a4-4f6b-aa03-67f217f7faee"
   },
   "outputs": [
    {
     "name": "stdout",
     "output_type": "stream",
     "text": [
      "Defaulting to user installation because normal site-packages is not writeable\n",
      "Requirement already satisfied: IMDbPY in c:\\users\\saif\\appdata\\roaming\\python\\python311\\site-packages (2022.7.9)\n",
      "Requirement already satisfied: cinemagoer in c:\\users\\saif\\appdata\\roaming\\python\\python311\\site-packages (from IMDbPY) (2023.5.1)\n",
      "Requirement already satisfied: SQLAlchemy in c:\\programdata\\anaconda3\\lib\\site-packages (from cinemagoer->IMDbPY) (1.4.39)\n",
      "Requirement already satisfied: lxml in c:\\programdata\\anaconda3\\lib\\site-packages (from cinemagoer->IMDbPY) (4.9.3)\n",
      "Requirement already satisfied: greenlet!=0.4.17 in c:\\programdata\\anaconda3\\lib\\site-packages (from SQLAlchemy->cinemagoer->IMDbPY) (2.0.1)\n",
      "Note: you may need to restart the kernel to use updated packages.\n"
     ]
    }
   ],
   "source": [
    "pip install IMDbPY"
   ]
  },
  {
   "cell_type": "markdown",
   "metadata": {},
   "source": [
    "# Fetching IMDb"
   ]
  },
  {
   "cell_type": "code",
   "execution_count": 96,
   "metadata": {
    "id": "WBqhOElzSsnO"
   },
   "outputs": [],
   "source": [
    "import imdb\n",
    "ia = imdb.IMDb()\n",
    "search = ia.search_movie(movie)\n",
    "id = search[0].movieID"
   ]
  },
  {
   "cell_type": "code",
   "execution_count": 97,
   "metadata": {
    "id": "flnn0uqkU5MQ"
   },
   "outputs": [],
   "source": [
    "from bs4 import BeautifulSoup"
   ]
  },
  {
   "cell_type": "code",
   "execution_count": 98,
   "metadata": {
    "id": "0TA1IeWJSygi"
   },
   "outputs": [],
   "source": [
    "page = requests.get('https://www.imdb.com/title/tt{}/reviews?ref_=tt_urv'.format(id))\n",
    "soup = BeautifulSoup(page.content, 'html.parser')"
   ]
  },
  {
   "cell_type": "code",
   "execution_count": 99,
   "metadata": {
    "colab": {
     "base_uri": "https://localhost:8080/"
    },
    "executionInfo": {
     "elapsed": 15,
     "status": "ok",
     "timestamp": 1641196465947,
     "user": {
      "displayName": "PUNGLIYA VITHIKA",
      "photoUrl": "https://lh3.googleusercontent.com/a-/AOh14Gh1kW9SCW3-ClSjFJuicIgYeSjD8zCIJ6g8DIu_CQ=s64",
      "userId": "10245521390697241014"
     },
     "user_tz": -330
    },
    "id": "asF_MOpAVlB3",
    "outputId": "bb154d74-6a10-456e-98ab-dff3ed877cb9"
   },
   "outputs": [
    {
     "name": "stdout",
     "output_type": "stream",
     "text": [
      "https://www.imdb.com/title/tt9018736/reviews?ref_=tt_urv\n"
     ]
    }
   ],
   "source": [
    "print('https://www.imdb.com/title/tt{}/reviews?ref_=tt_urv'.format(id))"
   ]
  },
  {
   "cell_type": "code",
   "execution_count": 100,
   "metadata": {
    "id": "sCaZcD5fEMra"
   },
   "outputs": [],
   "source": [
    "reviews=[]"
   ]
  },
  {
   "cell_type": "code",
   "execution_count": 101,
   "metadata": {
    "id": "9osRqIvYEOR3"
   },
   "outputs": [],
   "source": [
    "movie_data=soup.find_all('div',attrs= {'class': 'lister-item-content'})\n"
   ]
  },
  {
   "cell_type": "code",
   "execution_count": 102,
   "metadata": {
    "id": "5mDvLa3NER7f"
   },
   "outputs": [],
   "source": [
    "for store in movie_data:\n",
    "    review = store.find('a', class_ = 'title').text.replace('\\n', '')\n",
    "    reviews.append(review)"
   ]
  },
  {
   "cell_type": "code",
   "execution_count": 103,
   "metadata": {
    "colab": {
     "base_uri": "https://localhost:8080/"
    },
    "executionInfo": {
     "elapsed": 13,
     "status": "ok",
     "timestamp": 1641196465949,
     "user": {
      "displayName": "PUNGLIYA VITHIKA",
      "photoUrl": "https://lh3.googleusercontent.com/a-/AOh14Gh1kW9SCW3-ClSjFJuicIgYeSjD8zCIJ6g8DIu_CQ=s64",
      "userId": "10245521390697241014"
     },
     "user_tz": -330
    },
    "id": "tW0vgrQdET9_",
    "outputId": "dd5a6988-6151-4145-c0b8-798cb3c109a4"
   },
   "outputs": [
    {
     "data": {
      "text/plain": [
       "[' Entertaining Enough',\n",
       " ' Very good work, but it is darkened by the legacy and weight of the series name',\n",
       " ' Lost Arc of Aang',\n",
       " ' I enjoyed it',\n",
       " ' Surprisingly good',\n",
       " ' I turned it off and watched the original cartoon instead.',\n",
       " ' This Series Is All Bark And No Bite',\n",
       " \" No, it's not that good and don't even compare it to the Netflix One Piece\",\n",
       " ' Never saw the animated series so I had no expectations',\n",
       " ' Amazing CGI and Effects, Bad acting and Script',\n",
       " ' I want more',\n",
       " ' Where is the humour?',\n",
       " ' I can see why the original writers left',\n",
       " ' Weak dialogue and rushed pacing compromise an otherwise well-done adaptation',\n",
       " ' Way better than the last movie, however some criticisms..',\n",
       " ' Excellent VFx but story and writing is lacking.',\n",
       " ' Good, Could Be Great With Tweaks',\n",
       " ' Beautiful visuals',\n",
       " ' Pretty Darn Good',\n",
       " ' Gorgeous effects, failure of characters',\n",
       " ' Great scenary, weird scripting/directing',\n",
       " ' Better than expected but parts of the wood they build is inconsistent',\n",
       " \" This is not Aang's story. This is Zuko's.\",\n",
       " ' I love it',\n",
       " ' I really love the original, this has something missing']"
      ]
     },
     "execution_count": 103,
     "metadata": {},
     "output_type": "execute_result"
    }
   ],
   "source": [
    "reviews"
   ]
  },
  {
   "cell_type": "markdown",
   "metadata": {},
   "source": [
    "# Sentiment Analysis Predictions for Movie Reviews"
   ]
  },
  {
   "cell_type": "code",
   "execution_count": 104,
   "metadata": {
    "colab": {
     "base_uri": "https://localhost:8080/"
    },
    "executionInfo": {
     "elapsed": 645,
     "status": "ok",
     "timestamp": 1641196466586,
     "user": {
      "displayName": "PUNGLIYA VITHIKA",
      "photoUrl": "https://lh3.googleusercontent.com/a-/AOh14Gh1kW9SCW3-ClSjFJuicIgYeSjD8zCIJ6g8DIu_CQ=s64",
      "userId": "10245521390697241014"
     },
     "user_tz": -330
    },
    "id": "dH_8HZniEViu",
    "outputId": "a95dabad-8a01-4dd1-862f-e8d2ec415407"
   },
   "outputs": [
    {
     "name": "stdout",
     "output_type": "stream",
     "text": [
      " Entertaining Enough [1]\n",
      " Very good work, but it is darkened by the legacy and weight of the series name [1]\n",
      " Lost Arc of Aang [1]\n",
      " I enjoyed it [1]\n",
      " Surprisingly good [1]\n",
      " I turned it off and watched the original cartoon instead. [1]\n",
      " This Series Is All Bark And No Bite [1]\n",
      " No, it's not that good and don't even compare it to the Netflix One Piece [0]\n",
      " Never saw the animated series so I had no expectations [1]\n",
      " Amazing CGI and Effects, Bad acting and Script [1]\n",
      " I want more [1]\n",
      " Where is the humour? [1]\n",
      " I can see why the original writers left [0]\n",
      " Weak dialogue and rushed pacing compromise an otherwise well-done adaptation [1]\n",
      " Way better than the last movie, however some criticisms.. [0]\n",
      " Excellent VFx but story and writing is lacking. [1]\n",
      " Good, Could Be Great With Tweaks [1]\n",
      " Beautiful visuals [1]\n",
      " Pretty Darn Good [1]\n",
      " Gorgeous effects, failure of characters [1]\n",
      " Great scenary, weird scripting/directing [0]\n",
      " Better than expected but parts of the wood they build is inconsistent [0]\n",
      " This is not Aang's story. This is Zuko's. [1]\n",
      " I love it [1]\n",
      " I really love the original, this has something missing [1]\n"
     ]
    }
   ],
   "source": [
    "for i in reviews:\n",
    "  movie_vector=vectorizer.transform([i])\n",
    "  pred = grid_SVC.predict(movie_vector)\n",
    "  print(i, pred)\n",
    "   \n",
    "#0- negative\n",
    "#1- positive"
   ]
  },
  {
   "cell_type": "code",
   "execution_count": 105,
   "metadata": {},
   "outputs": [],
   "source": [
    "# Import classifiers\n",
    "from sklearn.model_selection import train_test_split\n",
    "from sklearn.ensemble import BaggingClassifier, RandomForestClassifier\n",
    "from sklearn.tree import DecisionTreeClassifier\n",
    "from sklearn.linear_model import Perceptron\n",
    "from sklearn.svm import SVC\n",
    "# Import Gaussian NB Classification models\n",
    "from sklearn.naive_bayes import GaussianNB\n",
    "# Import Logistic Regression Models\n",
    "from sklearn.linear_model import LogisticRegression\n",
    "from sklearn.ensemble import ExtraTreesClassifier\n",
    "from sklearn.ensemble import GradientBoostingClassifier\n",
    "from sklearn.discriminant_analysis import LinearDiscriminantAnalysis\n",
    "from sklearn.ensemble import AdaBoostClassifier\n",
    "from sklearn.neighbors import KNeighborsClassifier\n",
    "from sklearn.metrics import accuracy_score\n",
    "\n",
    "from sklearn.ensemble import VotingClassifier"
   ]
  },
  {
   "cell_type": "code",
   "execution_count": 106,
   "metadata": {},
   "outputs": [],
   "source": [
    "# Initialize classifiers\n",
    "bagging_clf = BaggingClassifier(base_estimator=DecisionTreeClassifier(), n_estimators=10, random_state=42)\n",
    "rf_clf = RandomForestClassifier(n_estimators=100, random_state=42)\n",
    "dt_clf = DecisionTreeClassifier(random_state=42)\n",
    "perceptron_clf = Perceptron()\n",
    "svc_clf = SVC(probability=True, random_state=42)\n",
    "knn_clf = KNeighborsClassifier()\n",
    "logistic_clf = LogisticRegression(max_iter=1000, random_state=42)\n",
    "GaussianNB_clf = GaussianNB()\n",
    "ExtraTrees_clf = ExtraTreesClassifier(n_estimators=100, random_state=42)\n",
    "GradientBoostingClassifier_clf = GradientBoostingClassifier(n_estimators=100, random_state=42)\n",
    "LinearDiscriminantAnalysis_clf = LinearDiscriminantAnalysis()\n",
    "AdaBoostClassifier_clf = AdaBoostClassifier(random_state=42)"
   ]
  },
  {
   "cell_type": "code",
   "execution_count": 107,
   "metadata": {},
   "outputs": [],
   "source": [
    "# Create a list of classifiers\n",
    "classifiers = [\n",
    "    ('Bagging', bagging_clf),\n",
    "    ('Random Forest', rf_clf),\n",
    "    ('Decision Tree', dt_clf),\n",
    "    ('Perceptron', perceptron_clf),\n",
    "    ('SVC', svc_clf),\n",
    "    ('KNN', knn_clf),\n",
    "    ('logistic Regression', logistic_clf),\n",
    "    ('ExtraTreesClassifier', ExtraTrees_clf),\n",
    "    ('GradientBoostingClassifier', GradientBoostingClassifier_clf),\n",
    "    ('AdaBoostClassifier', AdaBoostClassifier_clf)\n",
    "]"
   ]
  },
  {
   "cell_type": "code",
   "execution_count": 108,
   "metadata": {},
   "outputs": [],
   "source": [
    "dicDataFrame={\n",
    "    'Classifier Name':[],\n",
    "    'Accuracy':[]\n",
    "}\n",
    "Maxaccuracy=20\n",
    "ListMax_accuracy=[]\n",
    "# Train and evaluate each classifier\n",
    "for clf_name, clf in classifiers:\n",
    "    clf.fit(X_train, y_train)\n",
    "    y_pred = clf.predict(X_test)\n",
    "    accuracy = accuracy_score(y_test, y_pred)*100\n",
    "    dicDataFrame['Classifier Name'].append(clf_name)\n",
    "    dicDataFrame['Accuracy'].append(accuracy)\n",
    "    if accuracy > Maxaccuracy :\n",
    "        Maxaccuracy=accuracy\n",
    "        ListMax_accuracy=[(clf_name,clf)]\n",
    "DataFrame=pd.DataFrame(dicDataFrame)\n",
    "DataFrame.loc[-1]=[ListMax_accuracy[0],Maxaccuracy]\n",
    "#display(DataFrame)\n",
    "#print(f\"Max accuracy :{Maxaccuracy} , classifier of max accuracy : {ListMax_accuracy}\")\n",
    "# Sort the DataFrame by accuracy in ascending order\n",
    "DataFrame = DataFrame.sort_values(by='Accuracy')"
   ]
  },
  {
   "cell_type": "code",
   "execution_count": 109,
   "metadata": {},
   "outputs": [
    {
     "data": {
      "text/html": [
       "<style type=\"text/css\">\n",
       "</style>\n",
       "<table id=\"T_3c95c\">\n",
       "  <thead>\n",
       "    <tr>\n",
       "      <th class=\"blank level0\" >&nbsp;</th>\n",
       "      <th id=\"T_3c95c_level0_col0\" class=\"col_heading level0 col0\" >CLASSIFIER NAME</th>\n",
       "      <th id=\"T_3c95c_level0_col1\" class=\"col_heading level0 col1\" >ACCURACY</th>\n",
       "    </tr>\n",
       "  </thead>\n",
       "  <tbody>\n",
       "    <tr>\n",
       "      <th id=\"T_3c95c_level0_row0\" class=\"row_heading level0 row0\" >0</th>\n",
       "      <td id=\"T_3c95c_row0_col0\" class=\"data row0 col0\" >KNN</td>\n",
       "      <td id=\"T_3c95c_row0_col1\" class=\"data row0 col1\" >96,749</td>\n",
       "    </tr>\n",
       "    <tr>\n",
       "      <th id=\"T_3c95c_level0_row1\" class=\"row_heading level0 row1\" >1</th>\n",
       "      <td id=\"T_3c95c_row1_col0\" class=\"data row1 col0\" >SVC</td>\n",
       "      <td id=\"T_3c95c_row1_col1\" class=\"data row1 col1\" >97,399</td>\n",
       "    </tr>\n",
       "    <tr>\n",
       "      <th id=\"T_3c95c_level0_row2\" class=\"row_heading level0 row2\" >2</th>\n",
       "      <td id=\"T_3c95c_row2_col0\" class=\"data row2 col0\" >Bagging</td>\n",
       "      <td id=\"T_3c95c_row2_col1\" class=\"data row2 col1\" >97,977</td>\n",
       "    </tr>\n",
       "    <tr>\n",
       "      <th id=\"T_3c95c_level0_row3\" class=\"row_heading level0 row3\" >3</th>\n",
       "      <td id=\"T_3c95c_row3_col0\" class=\"data row3 col0\" >Decision Tree</td>\n",
       "      <td id=\"T_3c95c_row3_col1\" class=\"data row3 col1\" >97,977</td>\n",
       "    </tr>\n",
       "    <tr>\n",
       "      <th id=\"T_3c95c_level0_row4\" class=\"row_heading level0 row4\" >4</th>\n",
       "      <td id=\"T_3c95c_row4_col0\" class=\"data row4 col0\" >GradientBoostingClassifier</td>\n",
       "      <td id=\"T_3c95c_row4_col1\" class=\"data row4 col1\" >98,266</td>\n",
       "    </tr>\n",
       "    <tr>\n",
       "      <th id=\"T_3c95c_level0_row5\" class=\"row_heading level0 row5\" >5</th>\n",
       "      <td id=\"T_3c95c_row5_col0\" class=\"data row5 col0\" >Perceptron</td>\n",
       "      <td id=\"T_3c95c_row5_col1\" class=\"data row5 col1\" >98,410</td>\n",
       "    </tr>\n",
       "    <tr>\n",
       "      <th id=\"T_3c95c_level0_row6\" class=\"row_heading level0 row6\" >6</th>\n",
       "      <td id=\"T_3c95c_row6_col0\" class=\"data row6 col0\" >logistic Regression</td>\n",
       "      <td id=\"T_3c95c_row6_col1\" class=\"data row6 col1\" >98,410</td>\n",
       "    </tr>\n",
       "    <tr>\n",
       "      <th id=\"T_3c95c_level0_row7\" class=\"row_heading level0 row7\" >7</th>\n",
       "      <td id=\"T_3c95c_row7_col0\" class=\"data row7 col0\" >ExtraTreesClassifier</td>\n",
       "      <td id=\"T_3c95c_row7_col1\" class=\"data row7 col1\" >98,916</td>\n",
       "    </tr>\n",
       "    <tr>\n",
       "      <th id=\"T_3c95c_level0_row8\" class=\"row_heading level0 row8\" >8</th>\n",
       "      <td id=\"T_3c95c_row8_col0\" class=\"data row8 col0\" >Random Forest</td>\n",
       "      <td id=\"T_3c95c_row8_col1\" class=\"data row8 col1\" >98,988</td>\n",
       "    </tr>\n",
       "    <tr>\n",
       "      <th id=\"T_3c95c_level0_row9\" class=\"row_heading level0 row9\" >9</th>\n",
       "      <td id=\"T_3c95c_row9_col0\" class=\"data row9 col0\" >AdaBoostClassifier</td>\n",
       "      <td id=\"T_3c95c_row9_col1\" class=\"data row9 col1\" >99,061</td>\n",
       "    </tr>\n",
       "    <tr>\n",
       "      <th id=\"T_3c95c_level0_row10\" class=\"row_heading level0 row10\" >Max Accuracy</th>\n",
       "      <td id=\"T_3c95c_row10_col0\" class=\"data row10 col0\" >('AdaBoostClassifier', AdaBoostClassifier(random_state=42))</td>\n",
       "      <td id=\"T_3c95c_row10_col1\" class=\"data row10 col1\" >99,061</td>\n",
       "    </tr>\n",
       "  </tbody>\n",
       "</table>\n"
      ],
      "text/plain": [
       "<pandas.io.formats.style.Styler at 0x29c04457090>"
      ]
     },
     "execution_count": 109,
     "metadata": {},
     "output_type": "execute_result"
    }
   ],
   "source": [
    "DataFrame.style \\\n",
    "  .format(precision=3, thousands=\".\", decimal=\",\") \\\n",
    "  .format_index(str.upper, axis=1) \\\n",
    "  .relabel_index([0,1,2,3,4,5,6,7,8,9,'Max Accuracy'], axis=0)"
   ]
  },
  {
   "cell_type": "code",
   "execution_count": 110,
   "metadata": {},
   "outputs": [
    {
     "name": "stdout",
     "output_type": "stream",
     "text": [
      "45\n"
     ]
    }
   ],
   "source": [
    "dicDataFrame_round2_2={\n",
    "    'Classifier Name':[],\n",
    "    'Accuracy':[]\n",
    "}\n",
    "Maxaccuracy_round2_2=Maxaccuracy\n",
    "ListMax_accuracy_round2_2=ListMax_accuracy\n",
    "for num in range(0,10):\n",
    "    for i in range(num+1,10):\n",
    "        list1=[classifiers[i],classifiers[num]]\n",
    "        NameClassifier=classifiers[i][0]+' and '+classifiers[num][0]\n",
    "        ensemble_classifier = VotingClassifier(estimators=list1)\n",
    "        ensemble_classifier.fit(X_train, y_train)\n",
    "        y_pred = ensemble_classifier.predict(X_test)\n",
    "        accuracy = accuracy_score(y_test, y_pred)*100\n",
    "        dicDataFrame_round2_2['Classifier Name'].append(NameClassifier)\n",
    "        dicDataFrame_round2_2['Accuracy'].append(accuracy)\n",
    "        if accuracy> Maxaccuracy_round2_2:\n",
    "            Maxaccuracy_round2_2=accuracy\n",
    "            ListMax_accuracy_round2_2=list1\n",
    "DataFrame_round2_2=pd.DataFrame(dicDataFrame_round2_2)\n",
    "print(DataFrame_round2_2['Classifier Name'].nunique())\n",
    "\n",
    "\n",
    "DataFrame_round2_2.loc[-1]=[ ListMax_accuracy_round2_2,Maxaccuracy_round2_2]\n",
    "#display(DataFrame_round2_2)"
   ]
  },
  {
   "cell_type": "code",
   "execution_count": 111,
   "metadata": {},
   "outputs": [
    {
     "data": {
      "text/html": [
       "<style type=\"text/css\">\n",
       "</style>\n",
       "<table id=\"T_fa704\">\n",
       "  <thead>\n",
       "    <tr>\n",
       "      <th class=\"blank level0\" >&nbsp;</th>\n",
       "      <th id=\"T_fa704_level0_col0\" class=\"col_heading level0 col0\" >CLASSIFIER NAME</th>\n",
       "      <th id=\"T_fa704_level0_col1\" class=\"col_heading level0 col1\" >ACCURACY</th>\n",
       "    </tr>\n",
       "  </thead>\n",
       "  <tbody>\n",
       "    <tr>\n",
       "      <th id=\"T_fa704_level0_row0\" class=\"row_heading level0 row0\" >0</th>\n",
       "      <td id=\"T_fa704_row0_col0\" class=\"data row0 col0\" >Random Forest and Bagging</td>\n",
       "      <td id=\"T_fa704_row0_col1\" class=\"data row0 col1\" >98,483</td>\n",
       "    </tr>\n",
       "    <tr>\n",
       "      <th id=\"T_fa704_level0_row1\" class=\"row_heading level0 row1\" >1</th>\n",
       "      <td id=\"T_fa704_row1_col0\" class=\"data row1 col0\" >Decision Tree and Bagging</td>\n",
       "      <td id=\"T_fa704_row1_col1\" class=\"data row1 col1\" >98,049</td>\n",
       "    </tr>\n",
       "    <tr>\n",
       "      <th id=\"T_fa704_level0_row2\" class=\"row_heading level0 row2\" >2</th>\n",
       "      <td id=\"T_fa704_row2_col0\" class=\"data row2 col0\" >Perceptron and Bagging</td>\n",
       "      <td id=\"T_fa704_row2_col1\" class=\"data row2 col1\" >98,049</td>\n",
       "    </tr>\n",
       "    <tr>\n",
       "      <th id=\"T_fa704_level0_row3\" class=\"row_heading level0 row3\" >3</th>\n",
       "      <td id=\"T_fa704_row3_col0\" class=\"data row3 col0\" >SVC and Bagging</td>\n",
       "      <td id=\"T_fa704_row3_col1\" class=\"data row3 col1\" >97,977</td>\n",
       "    </tr>\n",
       "    <tr>\n",
       "      <th id=\"T_fa704_level0_row4\" class=\"row_heading level0 row4\" >4</th>\n",
       "      <td id=\"T_fa704_row4_col0\" class=\"data row4 col0\" >KNN and Bagging</td>\n",
       "      <td id=\"T_fa704_row4_col1\" class=\"data row4 col1\" >97,543</td>\n",
       "    </tr>\n",
       "    <tr>\n",
       "      <th id=\"T_fa704_level0_row5\" class=\"row_heading level0 row5\" >5</th>\n",
       "      <td id=\"T_fa704_row5_col0\" class=\"data row5 col0\" >logistic Regression and Bagging</td>\n",
       "      <td id=\"T_fa704_row5_col1\" class=\"data row5 col1\" >98,266</td>\n",
       "    </tr>\n",
       "    <tr>\n",
       "      <th id=\"T_fa704_level0_row6\" class=\"row_heading level0 row6\" >6</th>\n",
       "      <td id=\"T_fa704_row6_col0\" class=\"data row6 col0\" >ExtraTreesClassifier and Bagging</td>\n",
       "      <td id=\"T_fa704_row6_col1\" class=\"data row6 col1\" >98,410</td>\n",
       "    </tr>\n",
       "    <tr>\n",
       "      <th id=\"T_fa704_level0_row7\" class=\"row_heading level0 row7\" >7</th>\n",
       "      <td id=\"T_fa704_row7_col0\" class=\"data row7 col0\" >GradientBoostingClassifier and Bagging</td>\n",
       "      <td id=\"T_fa704_row7_col1\" class=\"data row7 col1\" >97,977</td>\n",
       "    </tr>\n",
       "    <tr>\n",
       "      <th id=\"T_fa704_level0_row8\" class=\"row_heading level0 row8\" >8</th>\n",
       "      <td id=\"T_fa704_row8_col0\" class=\"data row8 col0\" >AdaBoostClassifier and Bagging</td>\n",
       "      <td id=\"T_fa704_row8_col1\" class=\"data row8 col1\" >98,483</td>\n",
       "    </tr>\n",
       "    <tr>\n",
       "      <th id=\"T_fa704_level0_row9\" class=\"row_heading level0 row9\" >9</th>\n",
       "      <td id=\"T_fa704_row9_col0\" class=\"data row9 col0\" >Decision Tree and Random Forest</td>\n",
       "      <td id=\"T_fa704_row9_col1\" class=\"data row9 col1\" >98,627</td>\n",
       "    </tr>\n",
       "    <tr>\n",
       "      <th id=\"T_fa704_level0_row10\" class=\"row_heading level0 row10\" >10</th>\n",
       "      <td id=\"T_fa704_row10_col0\" class=\"data row10 col0\" >Perceptron and Random Forest</td>\n",
       "      <td id=\"T_fa704_row10_col1\" class=\"data row10 col1\" >98,916</td>\n",
       "    </tr>\n",
       "    <tr>\n",
       "      <th id=\"T_fa704_level0_row11\" class=\"row_heading level0 row11\" >11</th>\n",
       "      <td id=\"T_fa704_row11_col0\" class=\"data row11 col0\" >SVC and Random Forest</td>\n",
       "      <td id=\"T_fa704_row11_col1\" class=\"data row11 col1\" >98,988</td>\n",
       "    </tr>\n",
       "    <tr>\n",
       "      <th id=\"T_fa704_level0_row12\" class=\"row_heading level0 row12\" >12</th>\n",
       "      <td id=\"T_fa704_row12_col0\" class=\"data row12 col0\" >KNN and Random Forest</td>\n",
       "      <td id=\"T_fa704_row12_col1\" class=\"data row12 col1\" >98,483</td>\n",
       "    </tr>\n",
       "    <tr>\n",
       "      <th id=\"T_fa704_level0_row13\" class=\"row_heading level0 row13\" >13</th>\n",
       "      <td id=\"T_fa704_row13_col0\" class=\"data row13 col0\" >logistic Regression and Random Forest</td>\n",
       "      <td id=\"T_fa704_row13_col1\" class=\"data row13 col1\" >98,916</td>\n",
       "    </tr>\n",
       "    <tr>\n",
       "      <th id=\"T_fa704_level0_row14\" class=\"row_heading level0 row14\" >14</th>\n",
       "      <td id=\"T_fa704_row14_col0\" class=\"data row14 col0\" >ExtraTreesClassifier and Random Forest</td>\n",
       "      <td id=\"T_fa704_row14_col1\" class=\"data row14 col1\" >99,133</td>\n",
       "    </tr>\n",
       "    <tr>\n",
       "      <th id=\"T_fa704_level0_row15\" class=\"row_heading level0 row15\" >15</th>\n",
       "      <td id=\"T_fa704_row15_col0\" class=\"data row15 col0\" >GradientBoostingClassifier and Random Forest</td>\n",
       "      <td id=\"T_fa704_row15_col1\" class=\"data row15 col1\" >98,266</td>\n",
       "    </tr>\n",
       "    <tr>\n",
       "      <th id=\"T_fa704_level0_row16\" class=\"row_heading level0 row16\" >16</th>\n",
       "      <td id=\"T_fa704_row16_col0\" class=\"data row16 col0\" >AdaBoostClassifier and Random Forest</td>\n",
       "      <td id=\"T_fa704_row16_col1\" class=\"data row16 col1\" >98,916</td>\n",
       "    </tr>\n",
       "    <tr>\n",
       "      <th id=\"T_fa704_level0_row17\" class=\"row_heading level0 row17\" >17</th>\n",
       "      <td id=\"T_fa704_row17_col0\" class=\"data row17 col0\" >Perceptron and Decision Tree</td>\n",
       "      <td id=\"T_fa704_row17_col1\" class=\"data row17 col1\" >98,121</td>\n",
       "    </tr>\n",
       "    <tr>\n",
       "      <th id=\"T_fa704_level0_row18\" class=\"row_heading level0 row18\" >18</th>\n",
       "      <td id=\"T_fa704_row18_col0\" class=\"data row18 col0\" >SVC and Decision Tree</td>\n",
       "      <td id=\"T_fa704_row18_col1\" class=\"data row18 col1\" >98,049</td>\n",
       "    </tr>\n",
       "    <tr>\n",
       "      <th id=\"T_fa704_level0_row19\" class=\"row_heading level0 row19\" >19</th>\n",
       "      <td id=\"T_fa704_row19_col0\" class=\"data row19 col0\" >KNN and Decision Tree</td>\n",
       "      <td id=\"T_fa704_row19_col1\" class=\"data row19 col1\" >97,688</td>\n",
       "    </tr>\n",
       "    <tr>\n",
       "      <th id=\"T_fa704_level0_row20\" class=\"row_heading level0 row20\" >20</th>\n",
       "      <td id=\"T_fa704_row20_col0\" class=\"data row20 col0\" >logistic Regression and Decision Tree</td>\n",
       "      <td id=\"T_fa704_row20_col1\" class=\"data row20 col1\" >98,555</td>\n",
       "    </tr>\n",
       "    <tr>\n",
       "      <th id=\"T_fa704_level0_row21\" class=\"row_heading level0 row21\" >21</th>\n",
       "      <td id=\"T_fa704_row21_col0\" class=\"data row21 col0\" >ExtraTreesClassifier and Decision Tree</td>\n",
       "      <td id=\"T_fa704_row21_col1\" class=\"data row21 col1\" >98,699</td>\n",
       "    </tr>\n",
       "    <tr>\n",
       "      <th id=\"T_fa704_level0_row22\" class=\"row_heading level0 row22\" >22</th>\n",
       "      <td id=\"T_fa704_row22_col0\" class=\"data row22 col0\" >GradientBoostingClassifier and Decision Tree</td>\n",
       "      <td id=\"T_fa704_row22_col1\" class=\"data row22 col1\" >98,049</td>\n",
       "    </tr>\n",
       "    <tr>\n",
       "      <th id=\"T_fa704_level0_row23\" class=\"row_heading level0 row23\" >23</th>\n",
       "      <td id=\"T_fa704_row23_col0\" class=\"data row23 col0\" >AdaBoostClassifier and Decision Tree</td>\n",
       "      <td id=\"T_fa704_row23_col1\" class=\"data row23 col1\" >98,483</td>\n",
       "    </tr>\n",
       "    <tr>\n",
       "      <th id=\"T_fa704_level0_row24\" class=\"row_heading level0 row24\" >24</th>\n",
       "      <td id=\"T_fa704_row24_col0\" class=\"data row24 col0\" >SVC and Perceptron</td>\n",
       "      <td id=\"T_fa704_row24_col1\" class=\"data row24 col1\" >98,483</td>\n",
       "    </tr>\n",
       "    <tr>\n",
       "      <th id=\"T_fa704_level0_row25\" class=\"row_heading level0 row25\" >25</th>\n",
       "      <td id=\"T_fa704_row25_col0\" class=\"data row25 col0\" >KNN and Perceptron</td>\n",
       "      <td id=\"T_fa704_row25_col1\" class=\"data row25 col1\" >97,977</td>\n",
       "    </tr>\n",
       "    <tr>\n",
       "      <th id=\"T_fa704_level0_row26\" class=\"row_heading level0 row26\" >26</th>\n",
       "      <td id=\"T_fa704_row26_col0\" class=\"data row26 col0\" >logistic Regression and Perceptron</td>\n",
       "      <td id=\"T_fa704_row26_col1\" class=\"data row26 col1\" >98,699</td>\n",
       "    </tr>\n",
       "    <tr>\n",
       "      <th id=\"T_fa704_level0_row27\" class=\"row_heading level0 row27\" >27</th>\n",
       "      <td id=\"T_fa704_row27_col0\" class=\"data row27 col0\" >ExtraTreesClassifier and Perceptron</td>\n",
       "      <td id=\"T_fa704_row27_col1\" class=\"data row27 col1\" >98,916</td>\n",
       "    </tr>\n",
       "    <tr>\n",
       "      <th id=\"T_fa704_level0_row28\" class=\"row_heading level0 row28\" >28</th>\n",
       "      <td id=\"T_fa704_row28_col0\" class=\"data row28 col0\" >GradientBoostingClassifier and Perceptron</td>\n",
       "      <td id=\"T_fa704_row28_col1\" class=\"data row28 col1\" >98,049</td>\n",
       "    </tr>\n",
       "    <tr>\n",
       "      <th id=\"T_fa704_level0_row29\" class=\"row_heading level0 row29\" >29</th>\n",
       "      <td id=\"T_fa704_row29_col0\" class=\"data row29 col0\" >AdaBoostClassifier and Perceptron</td>\n",
       "      <td id=\"T_fa704_row29_col1\" class=\"data row29 col1\" >98,916</td>\n",
       "    </tr>\n",
       "    <tr>\n",
       "      <th id=\"T_fa704_level0_row30\" class=\"row_heading level0 row30\" >30</th>\n",
       "      <td id=\"T_fa704_row30_col0\" class=\"data row30 col0\" >KNN and SVC</td>\n",
       "      <td id=\"T_fa704_row30_col1\" class=\"data row30 col1\" >97,471</td>\n",
       "    </tr>\n",
       "    <tr>\n",
       "      <th id=\"T_fa704_level0_row31\" class=\"row_heading level0 row31\" >31</th>\n",
       "      <td id=\"T_fa704_row31_col0\" class=\"data row31 col0\" >logistic Regression and SVC</td>\n",
       "      <td id=\"T_fa704_row31_col1\" class=\"data row31 col1\" >98,555</td>\n",
       "    </tr>\n",
       "    <tr>\n",
       "      <th id=\"T_fa704_level0_row32\" class=\"row_heading level0 row32\" >32</th>\n",
       "      <td id=\"T_fa704_row32_col0\" class=\"data row32 col0\" >ExtraTreesClassifier and SVC</td>\n",
       "      <td id=\"T_fa704_row32_col1\" class=\"data row32 col1\" >98,916</td>\n",
       "    </tr>\n",
       "    <tr>\n",
       "      <th id=\"T_fa704_level0_row33\" class=\"row_heading level0 row33\" >33</th>\n",
       "      <td id=\"T_fa704_row33_col0\" class=\"data row33 col0\" >GradientBoostingClassifier and SVC</td>\n",
       "      <td id=\"T_fa704_row33_col1\" class=\"data row33 col1\" >98,121</td>\n",
       "    </tr>\n",
       "    <tr>\n",
       "      <th id=\"T_fa704_level0_row34\" class=\"row_heading level0 row34\" >34</th>\n",
       "      <td id=\"T_fa704_row34_col0\" class=\"data row34 col0\" >AdaBoostClassifier and SVC</td>\n",
       "      <td id=\"T_fa704_row34_col1\" class=\"data row34 col1\" >98,988</td>\n",
       "    </tr>\n",
       "    <tr>\n",
       "      <th id=\"T_fa704_level0_row35\" class=\"row_heading level0 row35\" >35</th>\n",
       "      <td id=\"T_fa704_row35_col0\" class=\"data row35 col0\" >logistic Regression and KNN</td>\n",
       "      <td id=\"T_fa704_row35_col1\" class=\"data row35 col1\" >97,977</td>\n",
       "    </tr>\n",
       "    <tr>\n",
       "      <th id=\"T_fa704_level0_row36\" class=\"row_heading level0 row36\" >36</th>\n",
       "      <td id=\"T_fa704_row36_col0\" class=\"data row36 col0\" >ExtraTreesClassifier and KNN</td>\n",
       "      <td id=\"T_fa704_row36_col1\" class=\"data row36 col1\" >98,410</td>\n",
       "    </tr>\n",
       "    <tr>\n",
       "      <th id=\"T_fa704_level0_row37\" class=\"row_heading level0 row37\" >37</th>\n",
       "      <td id=\"T_fa704_row37_col0\" class=\"data row37 col0\" >GradientBoostingClassifier and KNN</td>\n",
       "      <td id=\"T_fa704_row37_col1\" class=\"data row37 col1\" >97,688</td>\n",
       "    </tr>\n",
       "    <tr>\n",
       "      <th id=\"T_fa704_level0_row38\" class=\"row_heading level0 row38\" >38</th>\n",
       "      <td id=\"T_fa704_row38_col0\" class=\"data row38 col0\" >AdaBoostClassifier and KNN</td>\n",
       "      <td id=\"T_fa704_row38_col1\" class=\"data row38 col1\" >98,483</td>\n",
       "    </tr>\n",
       "    <tr>\n",
       "      <th id=\"T_fa704_level0_row39\" class=\"row_heading level0 row39\" >39</th>\n",
       "      <td id=\"T_fa704_row39_col0\" class=\"data row39 col0\" >ExtraTreesClassifier and logistic Regression</td>\n",
       "      <td id=\"T_fa704_row39_col1\" class=\"data row39 col1\" >98,916</td>\n",
       "    </tr>\n",
       "    <tr>\n",
       "      <th id=\"T_fa704_level0_row40\" class=\"row_heading level0 row40\" >40</th>\n",
       "      <td id=\"T_fa704_row40_col0\" class=\"data row40 col0\" >GradientBoostingClassifier and logistic Regression</td>\n",
       "      <td id=\"T_fa704_row40_col1\" class=\"data row40 col1\" >98,194</td>\n",
       "    </tr>\n",
       "    <tr>\n",
       "      <th id=\"T_fa704_level0_row41\" class=\"row_heading level0 row41\" >41</th>\n",
       "      <td id=\"T_fa704_row41_col0\" class=\"data row41 col0\" >AdaBoostClassifier and logistic Regression</td>\n",
       "      <td id=\"T_fa704_row41_col1\" class=\"data row41 col1\" >98,916</td>\n",
       "    </tr>\n",
       "    <tr>\n",
       "      <th id=\"T_fa704_level0_row42\" class=\"row_heading level0 row42\" >42</th>\n",
       "      <td id=\"T_fa704_row42_col0\" class=\"data row42 col0\" >GradientBoostingClassifier and ExtraTreesClassifier</td>\n",
       "      <td id=\"T_fa704_row42_col1\" class=\"data row42 col1\" >98,266</td>\n",
       "    </tr>\n",
       "    <tr>\n",
       "      <th id=\"T_fa704_level0_row43\" class=\"row_heading level0 row43\" >43</th>\n",
       "      <td id=\"T_fa704_row43_col0\" class=\"data row43 col0\" >AdaBoostClassifier and ExtraTreesClassifier</td>\n",
       "      <td id=\"T_fa704_row43_col1\" class=\"data row43 col1\" >99,205</td>\n",
       "    </tr>\n",
       "    <tr>\n",
       "      <th id=\"T_fa704_level0_row44\" class=\"row_heading level0 row44\" >44</th>\n",
       "      <td id=\"T_fa704_row44_col0\" class=\"data row44 col0\" >AdaBoostClassifier and GradientBoostingClassifier</td>\n",
       "      <td id=\"T_fa704_row44_col1\" class=\"data row44 col1\" >98,194</td>\n",
       "    </tr>\n",
       "    <tr>\n",
       "      <th id=\"T_fa704_level0_row45\" class=\"row_heading level0 row45\" >Max Accuracy</th>\n",
       "      <td id=\"T_fa704_row45_col0\" class=\"data row45 col0\" >[('AdaBoostClassifier', AdaBoostClassifier(random_state=42)), ('ExtraTreesClassifier', ExtraTreesClassifier(random_state=42))]</td>\n",
       "      <td id=\"T_fa704_row45_col1\" class=\"data row45 col1\" >99,205</td>\n",
       "    </tr>\n",
       "  </tbody>\n",
       "</table>\n"
      ],
      "text/plain": [
       "<pandas.io.formats.style.Styler at 0x29c04456bd0>"
      ]
     },
     "execution_count": 111,
     "metadata": {},
     "output_type": "execute_result"
    }
   ],
   "source": [
    "\n",
    "List67=list(range(0,45))\n",
    "List67.append('Max Accuracy')\n",
    "DataFrame_round2_2.style \\\n",
    "  .format(precision=3, thousands=\".\", decimal=\",\") \\\n",
    "  .format_index(str.upper, axis=1) \\\n",
    "  .relabel_index(List67, axis=0)"
   ]
  },
  {
   "cell_type": "code",
   "execution_count": 112,
   "metadata": {},
   "outputs": [
    {
     "name": "stdout",
     "output_type": "stream",
     "text": [
      "120\n"
     ]
    }
   ],
   "source": [
    "dicDataFrame_round3_2={\n",
    "    'Classifier Name':[],\n",
    "    'Accuracy':[]\n",
    "}\n",
    " \n",
    "Maxaccuracy_round3_2=Maxaccuracy_round2_2\n",
    "ListMax_accuracy_round3_2=ListMax_accuracy_round2_2\n",
    "\n",
    "for i in range(0,10):\n",
    "    for j in range(i+1,10):\n",
    "        for x in range(j+1,10):\n",
    "            if classifiers[i] not in [classifiers[j],classifiers[x]] and classifiers[j]!=classifiers[x] :\n",
    "                list2=[classifiers[i],classifiers[j],classifiers[x]]\n",
    "                NameClassifier=classifiers[i][0]+' and '+classifiers[j][0]+' and '+classifiers[x][0]\n",
    "                ensemble_classifier = VotingClassifier(estimators=list2)\n",
    "                ensemble_classifier.fit(X_train, y_train)\n",
    "                y_pred = ensemble_classifier.predict(X_test)\n",
    "                accuracy = accuracy_score(y_test, y_pred)*100\n",
    "                dicDataFrame_round3_2['Classifier Name'].append(NameClassifier)\n",
    "                dicDataFrame_round3_2['Accuracy'].append(accuracy)\n",
    "                if accuracy> Maxaccuracy_round3_2:\n",
    "                    Maxaccuracy_round3_2=accuracy\n",
    "                    ListMax_accuracy_round3_2=list2\n",
    "DataFrame_round3_2=pd.DataFrame(dicDataFrame_round3_2)\n",
    "print(DataFrame_round3_2['Classifier Name'].nunique())\n",
    "DataFrame_round3_2.loc[-1]=[ ListMax_accuracy_round3_2,Maxaccuracy_round3_2]\n",
    "#display(DataFrame_round3_2)"
   ]
  },
  {
   "cell_type": "code",
   "execution_count": 113,
   "metadata": {},
   "outputs": [
    {
     "data": {
      "text/html": [
       "<style type=\"text/css\">\n",
       "</style>\n",
       "<table id=\"T_88344\">\n",
       "  <thead>\n",
       "    <tr>\n",
       "      <th class=\"blank level0\" >&nbsp;</th>\n",
       "      <th id=\"T_88344_level0_col0\" class=\"col_heading level0 col0\" >CLASSIFIER NAME</th>\n",
       "      <th id=\"T_88344_level0_col1\" class=\"col_heading level0 col1\" >ACCURACY</th>\n",
       "    </tr>\n",
       "  </thead>\n",
       "  <tbody>\n",
       "    <tr>\n",
       "      <th id=\"T_88344_level0_row0\" class=\"row_heading level0 row0\" >0</th>\n",
       "      <td id=\"T_88344_row0_col0\" class=\"data row0 col0\" >Bagging and Random Forest and Decision Tree</td>\n",
       "      <td id=\"T_88344_row0_col1\" class=\"data row0 col1\" >98,194</td>\n",
       "    </tr>\n",
       "    <tr>\n",
       "      <th id=\"T_88344_level0_row1\" class=\"row_heading level0 row1\" >1</th>\n",
       "      <td id=\"T_88344_row1_col0\" class=\"data row1 col0\" >Bagging and Random Forest and Perceptron</td>\n",
       "      <td id=\"T_88344_row1_col1\" class=\"data row1 col1\" >98,916</td>\n",
       "    </tr>\n",
       "    <tr>\n",
       "      <th id=\"T_88344_level0_row2\" class=\"row_heading level0 row2\" >2</th>\n",
       "      <td id=\"T_88344_row2_col0\" class=\"data row2 col0\" >Bagging and Random Forest and SVC</td>\n",
       "      <td id=\"T_88344_row2_col1\" class=\"data row2 col1\" >98,772</td>\n",
       "    </tr>\n",
       "    <tr>\n",
       "      <th id=\"T_88344_level0_row3\" class=\"row_heading level0 row3\" >3</th>\n",
       "      <td id=\"T_88344_row3_col0\" class=\"data row3 col0\" >Bagging and Random Forest and KNN</td>\n",
       "      <td id=\"T_88344_row3_col1\" class=\"data row3 col1\" >98,699</td>\n",
       "    </tr>\n",
       "    <tr>\n",
       "      <th id=\"T_88344_level0_row4\" class=\"row_heading level0 row4\" >4</th>\n",
       "      <td id=\"T_88344_row4_col0\" class=\"data row4 col0\" >Bagging and Random Forest and logistic Regression</td>\n",
       "      <td id=\"T_88344_row4_col1\" class=\"data row4 col1\" >98,844</td>\n",
       "    </tr>\n",
       "    <tr>\n",
       "      <th id=\"T_88344_level0_row5\" class=\"row_heading level0 row5\" >5</th>\n",
       "      <td id=\"T_88344_row5_col0\" class=\"data row5 col0\" >Bagging and Random Forest and ExtraTreesClassifier</td>\n",
       "      <td id=\"T_88344_row5_col1\" class=\"data row5 col1\" >99,061</td>\n",
       "    </tr>\n",
       "    <tr>\n",
       "      <th id=\"T_88344_level0_row6\" class=\"row_heading level0 row6\" >6</th>\n",
       "      <td id=\"T_88344_row6_col0\" class=\"data row6 col0\" >Bagging and Random Forest and GradientBoostingClassifier</td>\n",
       "      <td id=\"T_88344_row6_col1\" class=\"data row6 col1\" >98,772</td>\n",
       "    </tr>\n",
       "    <tr>\n",
       "      <th id=\"T_88344_level0_row7\" class=\"row_heading level0 row7\" >7</th>\n",
       "      <td id=\"T_88344_row7_col0\" class=\"data row7 col0\" >Bagging and Random Forest and AdaBoostClassifier</td>\n",
       "      <td id=\"T_88344_row7_col1\" class=\"data row7 col1\" >98,916</td>\n",
       "    </tr>\n",
       "    <tr>\n",
       "      <th id=\"T_88344_level0_row8\" class=\"row_heading level0 row8\" >8</th>\n",
       "      <td id=\"T_88344_row8_col0\" class=\"data row8 col0\" >Bagging and Decision Tree and Perceptron</td>\n",
       "      <td id=\"T_88344_row8_col1\" class=\"data row8 col1\" >98,121</td>\n",
       "    </tr>\n",
       "    <tr>\n",
       "      <th id=\"T_88344_level0_row9\" class=\"row_heading level0 row9\" >9</th>\n",
       "      <td id=\"T_88344_row9_col0\" class=\"data row9 col0\" >Bagging and Decision Tree and SVC</td>\n",
       "      <td id=\"T_88344_row9_col1\" class=\"data row9 col1\" >98,121</td>\n",
       "    </tr>\n",
       "    <tr>\n",
       "      <th id=\"T_88344_level0_row10\" class=\"row_heading level0 row10\" >10</th>\n",
       "      <td id=\"T_88344_row10_col0\" class=\"data row10 col0\" >Bagging and Decision Tree and KNN</td>\n",
       "      <td id=\"T_88344_row10_col1\" class=\"data row10 col1\" >98,049</td>\n",
       "    </tr>\n",
       "    <tr>\n",
       "      <th id=\"T_88344_level0_row11\" class=\"row_heading level0 row11\" >11</th>\n",
       "      <td id=\"T_88344_row11_col0\" class=\"data row11 col0\" >Bagging and Decision Tree and logistic Regression</td>\n",
       "      <td id=\"T_88344_row11_col1\" class=\"data row11 col1\" >98,338</td>\n",
       "    </tr>\n",
       "    <tr>\n",
       "      <th id=\"T_88344_level0_row12\" class=\"row_heading level0 row12\" >12</th>\n",
       "      <td id=\"T_88344_row12_col0\" class=\"data row12 col0\" >Bagging and Decision Tree and ExtraTreesClassifier</td>\n",
       "      <td id=\"T_88344_row12_col1\" class=\"data row12 col1\" >98,338</td>\n",
       "    </tr>\n",
       "    <tr>\n",
       "      <th id=\"T_88344_level0_row13\" class=\"row_heading level0 row13\" >13</th>\n",
       "      <td id=\"T_88344_row13_col0\" class=\"data row13 col0\" >Bagging and Decision Tree and GradientBoostingClassifier</td>\n",
       "      <td id=\"T_88344_row13_col1\" class=\"data row13 col1\" >98,121</td>\n",
       "    </tr>\n",
       "    <tr>\n",
       "      <th id=\"T_88344_level0_row14\" class=\"row_heading level0 row14\" >14</th>\n",
       "      <td id=\"T_88344_row14_col0\" class=\"data row14 col0\" >Bagging and Decision Tree and AdaBoostClassifier</td>\n",
       "      <td id=\"T_88344_row14_col1\" class=\"data row14 col1\" >98,049</td>\n",
       "    </tr>\n",
       "    <tr>\n",
       "      <th id=\"T_88344_level0_row15\" class=\"row_heading level0 row15\" >15</th>\n",
       "      <td id=\"T_88344_row15_col0\" class=\"data row15 col0\" >Bagging and Perceptron and SVC</td>\n",
       "      <td id=\"T_88344_row15_col1\" class=\"data row15 col1\" >98,844</td>\n",
       "    </tr>\n",
       "    <tr>\n",
       "      <th id=\"T_88344_level0_row16\" class=\"row_heading level0 row16\" >16</th>\n",
       "      <td id=\"T_88344_row16_col0\" class=\"data row16 col0\" >Bagging and Perceptron and KNN</td>\n",
       "      <td id=\"T_88344_row16_col1\" class=\"data row16 col1\" >98,772</td>\n",
       "    </tr>\n",
       "    <tr>\n",
       "      <th id=\"T_88344_level0_row17\" class=\"row_heading level0 row17\" >17</th>\n",
       "      <td id=\"T_88344_row17_col0\" class=\"data row17 col0\" >Bagging and Perceptron and logistic Regression</td>\n",
       "      <td id=\"T_88344_row17_col1\" class=\"data row17 col1\" >98,916</td>\n",
       "    </tr>\n",
       "    <tr>\n",
       "      <th id=\"T_88344_level0_row18\" class=\"row_heading level0 row18\" >18</th>\n",
       "      <td id=\"T_88344_row18_col0\" class=\"data row18 col0\" >Bagging and Perceptron and ExtraTreesClassifier</td>\n",
       "      <td id=\"T_88344_row18_col1\" class=\"data row18 col1\" >98,988</td>\n",
       "    </tr>\n",
       "    <tr>\n",
       "      <th id=\"T_88344_level0_row19\" class=\"row_heading level0 row19\" >19</th>\n",
       "      <td id=\"T_88344_row19_col0\" class=\"data row19 col0\" >Bagging and Perceptron and GradientBoostingClassifier</td>\n",
       "      <td id=\"T_88344_row19_col1\" class=\"data row19 col1\" >98,555</td>\n",
       "    </tr>\n",
       "    <tr>\n",
       "      <th id=\"T_88344_level0_row20\" class=\"row_heading level0 row20\" >20</th>\n",
       "      <td id=\"T_88344_row20_col0\" class=\"data row20 col0\" >Bagging and Perceptron and AdaBoostClassifier</td>\n",
       "      <td id=\"T_88344_row20_col1\" class=\"data row20 col1\" >98,916</td>\n",
       "    </tr>\n",
       "    <tr>\n",
       "      <th id=\"T_88344_level0_row21\" class=\"row_heading level0 row21\" >21</th>\n",
       "      <td id=\"T_88344_row21_col0\" class=\"data row21 col0\" >Bagging and SVC and KNN</td>\n",
       "      <td id=\"T_88344_row21_col1\" class=\"data row21 col1\" >97,905</td>\n",
       "    </tr>\n",
       "    <tr>\n",
       "      <th id=\"T_88344_level0_row22\" class=\"row_heading level0 row22\" >22</th>\n",
       "      <td id=\"T_88344_row22_col0\" class=\"data row22 col0\" >Bagging and SVC and logistic Regression</td>\n",
       "      <td id=\"T_88344_row22_col1\" class=\"data row22 col1\" >98,699</td>\n",
       "    </tr>\n",
       "    <tr>\n",
       "      <th id=\"T_88344_level0_row23\" class=\"row_heading level0 row23\" >23</th>\n",
       "      <td id=\"T_88344_row23_col0\" class=\"data row23 col0\" >Bagging and SVC and ExtraTreesClassifier</td>\n",
       "      <td id=\"T_88344_row23_col1\" class=\"data row23 col1\" >98,772</td>\n",
       "    </tr>\n",
       "    <tr>\n",
       "      <th id=\"T_88344_level0_row24\" class=\"row_heading level0 row24\" >24</th>\n",
       "      <td id=\"T_88344_row24_col0\" class=\"data row24 col0\" >Bagging and SVC and GradientBoostingClassifier</td>\n",
       "      <td id=\"T_88344_row24_col1\" class=\"data row24 col1\" >98,410</td>\n",
       "    </tr>\n",
       "    <tr>\n",
       "      <th id=\"T_88344_level0_row25\" class=\"row_heading level0 row25\" >25</th>\n",
       "      <td id=\"T_88344_row25_col0\" class=\"data row25 col0\" >Bagging and SVC and AdaBoostClassifier</td>\n",
       "      <td id=\"T_88344_row25_col1\" class=\"data row25 col1\" >98,772</td>\n",
       "    </tr>\n",
       "    <tr>\n",
       "      <th id=\"T_88344_level0_row26\" class=\"row_heading level0 row26\" >26</th>\n",
       "      <td id=\"T_88344_row26_col0\" class=\"data row26 col0\" >Bagging and KNN and logistic Regression</td>\n",
       "      <td id=\"T_88344_row26_col1\" class=\"data row26 col1\" >98,555</td>\n",
       "    </tr>\n",
       "    <tr>\n",
       "      <th id=\"T_88344_level0_row27\" class=\"row_heading level0 row27\" >27</th>\n",
       "      <td id=\"T_88344_row27_col0\" class=\"data row27 col0\" >Bagging and KNN and ExtraTreesClassifier</td>\n",
       "      <td id=\"T_88344_row27_col1\" class=\"data row27 col1\" >98,699</td>\n",
       "    </tr>\n",
       "    <tr>\n",
       "      <th id=\"T_88344_level0_row28\" class=\"row_heading level0 row28\" >28</th>\n",
       "      <td id=\"T_88344_row28_col0\" class=\"data row28 col0\" >Bagging and KNN and GradientBoostingClassifier</td>\n",
       "      <td id=\"T_88344_row28_col1\" class=\"data row28 col1\" >98,410</td>\n",
       "    </tr>\n",
       "    <tr>\n",
       "      <th id=\"T_88344_level0_row29\" class=\"row_heading level0 row29\" >29</th>\n",
       "      <td id=\"T_88344_row29_col0\" class=\"data row29 col0\" >Bagging and KNN and AdaBoostClassifier</td>\n",
       "      <td id=\"T_88344_row29_col1\" class=\"data row29 col1\" >98,699</td>\n",
       "    </tr>\n",
       "    <tr>\n",
       "      <th id=\"T_88344_level0_row30\" class=\"row_heading level0 row30\" >30</th>\n",
       "      <td id=\"T_88344_row30_col0\" class=\"data row30 col0\" >Bagging and logistic Regression and ExtraTreesClassifier</td>\n",
       "      <td id=\"T_88344_row30_col1\" class=\"data row30 col1\" >98,916</td>\n",
       "    </tr>\n",
       "    <tr>\n",
       "      <th id=\"T_88344_level0_row31\" class=\"row_heading level0 row31\" >31</th>\n",
       "      <td id=\"T_88344_row31_col0\" class=\"data row31 col0\" >Bagging and logistic Regression and GradientBoostingClassifier</td>\n",
       "      <td id=\"T_88344_row31_col1\" class=\"data row31 col1\" >98,627</td>\n",
       "    </tr>\n",
       "    <tr>\n",
       "      <th id=\"T_88344_level0_row32\" class=\"row_heading level0 row32\" >32</th>\n",
       "      <td id=\"T_88344_row32_col0\" class=\"data row32 col0\" >Bagging and logistic Regression and AdaBoostClassifier</td>\n",
       "      <td id=\"T_88344_row32_col1\" class=\"data row32 col1\" >98,844</td>\n",
       "    </tr>\n",
       "    <tr>\n",
       "      <th id=\"T_88344_level0_row33\" class=\"row_heading level0 row33\" >33</th>\n",
       "      <td id=\"T_88344_row33_col0\" class=\"data row33 col0\" >Bagging and ExtraTreesClassifier and GradientBoostingClassifier</td>\n",
       "      <td id=\"T_88344_row33_col1\" class=\"data row33 col1\" >98,699</td>\n",
       "    </tr>\n",
       "    <tr>\n",
       "      <th id=\"T_88344_level0_row34\" class=\"row_heading level0 row34\" >34</th>\n",
       "      <td id=\"T_88344_row34_col0\" class=\"data row34 col0\" >Bagging and ExtraTreesClassifier and AdaBoostClassifier</td>\n",
       "      <td id=\"T_88344_row34_col1\" class=\"data row34 col1\" >99,133</td>\n",
       "    </tr>\n",
       "    <tr>\n",
       "      <th id=\"T_88344_level0_row35\" class=\"row_heading level0 row35\" >35</th>\n",
       "      <td id=\"T_88344_row35_col0\" class=\"data row35 col0\" >Bagging and GradientBoostingClassifier and AdaBoostClassifier</td>\n",
       "      <td id=\"T_88344_row35_col1\" class=\"data row35 col1\" >98,699</td>\n",
       "    </tr>\n",
       "    <tr>\n",
       "      <th id=\"T_88344_level0_row36\" class=\"row_heading level0 row36\" >36</th>\n",
       "      <td id=\"T_88344_row36_col0\" class=\"data row36 col0\" >Random Forest and Decision Tree and Perceptron</td>\n",
       "      <td id=\"T_88344_row36_col1\" class=\"data row36 col1\" >98,844</td>\n",
       "    </tr>\n",
       "    <tr>\n",
       "      <th id=\"T_88344_level0_row37\" class=\"row_heading level0 row37\" >37</th>\n",
       "      <td id=\"T_88344_row37_col0\" class=\"data row37 col0\" >Random Forest and Decision Tree and SVC</td>\n",
       "      <td id=\"T_88344_row37_col1\" class=\"data row37 col1\" >98,699</td>\n",
       "    </tr>\n",
       "    <tr>\n",
       "      <th id=\"T_88344_level0_row38\" class=\"row_heading level0 row38\" >38</th>\n",
       "      <td id=\"T_88344_row38_col0\" class=\"data row38 col0\" >Random Forest and Decision Tree and KNN</td>\n",
       "      <td id=\"T_88344_row38_col1\" class=\"data row38 col1\" >98,699</td>\n",
       "    </tr>\n",
       "    <tr>\n",
       "      <th id=\"T_88344_level0_row39\" class=\"row_heading level0 row39\" >39</th>\n",
       "      <td id=\"T_88344_row39_col0\" class=\"data row39 col0\" >Random Forest and Decision Tree and logistic Regression</td>\n",
       "      <td id=\"T_88344_row39_col1\" class=\"data row39 col1\" >98,988</td>\n",
       "    </tr>\n",
       "    <tr>\n",
       "      <th id=\"T_88344_level0_row40\" class=\"row_heading level0 row40\" >40</th>\n",
       "      <td id=\"T_88344_row40_col0\" class=\"data row40 col0\" >Random Forest and Decision Tree and ExtraTreesClassifier</td>\n",
       "      <td id=\"T_88344_row40_col1\" class=\"data row40 col1\" >99,205</td>\n",
       "    </tr>\n",
       "    <tr>\n",
       "      <th id=\"T_88344_level0_row41\" class=\"row_heading level0 row41\" >41</th>\n",
       "      <td id=\"T_88344_row41_col0\" class=\"data row41 col0\" >Random Forest and Decision Tree and GradientBoostingClassifier</td>\n",
       "      <td id=\"T_88344_row41_col1\" class=\"data row41 col1\" >98,844</td>\n",
       "    </tr>\n",
       "    <tr>\n",
       "      <th id=\"T_88344_level0_row42\" class=\"row_heading level0 row42\" >42</th>\n",
       "      <td id=\"T_88344_row42_col0\" class=\"data row42 col0\" >Random Forest and Decision Tree and AdaBoostClassifier</td>\n",
       "      <td id=\"T_88344_row42_col1\" class=\"data row42 col1\" >99,061</td>\n",
       "    </tr>\n",
       "    <tr>\n",
       "      <th id=\"T_88344_level0_row43\" class=\"row_heading level0 row43\" >43</th>\n",
       "      <td id=\"T_88344_row43_col0\" class=\"data row43 col0\" >Random Forest and Perceptron and SVC</td>\n",
       "      <td id=\"T_88344_row43_col1\" class=\"data row43 col1\" >98,988</td>\n",
       "    </tr>\n",
       "    <tr>\n",
       "      <th id=\"T_88344_level0_row44\" class=\"row_heading level0 row44\" >44</th>\n",
       "      <td id=\"T_88344_row44_col0\" class=\"data row44 col0\" >Random Forest and Perceptron and KNN</td>\n",
       "      <td id=\"T_88344_row44_col1\" class=\"data row44 col1\" >98,844</td>\n",
       "    </tr>\n",
       "    <tr>\n",
       "      <th id=\"T_88344_level0_row45\" class=\"row_heading level0 row45\" >45</th>\n",
       "      <td id=\"T_88344_row45_col0\" class=\"data row45 col0\" >Random Forest and Perceptron and logistic Regression</td>\n",
       "      <td id=\"T_88344_row45_col1\" class=\"data row45 col1\" >98,988</td>\n",
       "    </tr>\n",
       "    <tr>\n",
       "      <th id=\"T_88344_level0_row46\" class=\"row_heading level0 row46\" >46</th>\n",
       "      <td id=\"T_88344_row46_col0\" class=\"data row46 col0\" >Random Forest and Perceptron and ExtraTreesClassifier</td>\n",
       "      <td id=\"T_88344_row46_col1\" class=\"data row46 col1\" >99,133</td>\n",
       "    </tr>\n",
       "    <tr>\n",
       "      <th id=\"T_88344_level0_row47\" class=\"row_heading level0 row47\" >47</th>\n",
       "      <td id=\"T_88344_row47_col0\" class=\"data row47 col0\" >Random Forest and Perceptron and GradientBoostingClassifier</td>\n",
       "      <td id=\"T_88344_row47_col1\" class=\"data row47 col1\" >99,133</td>\n",
       "    </tr>\n",
       "    <tr>\n",
       "      <th id=\"T_88344_level0_row48\" class=\"row_heading level0 row48\" >48</th>\n",
       "      <td id=\"T_88344_row48_col0\" class=\"data row48 col0\" >Random Forest and Perceptron and AdaBoostClassifier</td>\n",
       "      <td id=\"T_88344_row48_col1\" class=\"data row48 col1\" >99,350</td>\n",
       "    </tr>\n",
       "    <tr>\n",
       "      <th id=\"T_88344_level0_row49\" class=\"row_heading level0 row49\" >49</th>\n",
       "      <td id=\"T_88344_row49_col0\" class=\"data row49 col0\" >Random Forest and SVC and KNN</td>\n",
       "      <td id=\"T_88344_row49_col1\" class=\"data row49 col1\" >97,977</td>\n",
       "    </tr>\n",
       "    <tr>\n",
       "      <th id=\"T_88344_level0_row50\" class=\"row_heading level0 row50\" >50</th>\n",
       "      <td id=\"T_88344_row50_col0\" class=\"data row50 col0\" >Random Forest and SVC and logistic Regression</td>\n",
       "      <td id=\"T_88344_row50_col1\" class=\"data row50 col1\" >98,772</td>\n",
       "    </tr>\n",
       "    <tr>\n",
       "      <th id=\"T_88344_level0_row51\" class=\"row_heading level0 row51\" >51</th>\n",
       "      <td id=\"T_88344_row51_col0\" class=\"data row51 col0\" >Random Forest and SVC and ExtraTreesClassifier</td>\n",
       "      <td id=\"T_88344_row51_col1\" class=\"data row51 col1\" >98,916</td>\n",
       "    </tr>\n",
       "    <tr>\n",
       "      <th id=\"T_88344_level0_row52\" class=\"row_heading level0 row52\" >52</th>\n",
       "      <td id=\"T_88344_row52_col0\" class=\"data row52 col0\" >Random Forest and SVC and GradientBoostingClassifier</td>\n",
       "      <td id=\"T_88344_row52_col1\" class=\"data row52 col1\" >99,133</td>\n",
       "    </tr>\n",
       "    <tr>\n",
       "      <th id=\"T_88344_level0_row53\" class=\"row_heading level0 row53\" >53</th>\n",
       "      <td id=\"T_88344_row53_col0\" class=\"data row53 col0\" >Random Forest and SVC and AdaBoostClassifier</td>\n",
       "      <td id=\"T_88344_row53_col1\" class=\"data row53 col1\" >99,205</td>\n",
       "    </tr>\n",
       "    <tr>\n",
       "      <th id=\"T_88344_level0_row54\" class=\"row_heading level0 row54\" >54</th>\n",
       "      <td id=\"T_88344_row54_col0\" class=\"data row54 col0\" >Random Forest and KNN and logistic Regression</td>\n",
       "      <td id=\"T_88344_row54_col1\" class=\"data row54 col1\" >98,699</td>\n",
       "    </tr>\n",
       "    <tr>\n",
       "      <th id=\"T_88344_level0_row55\" class=\"row_heading level0 row55\" >55</th>\n",
       "      <td id=\"T_88344_row55_col0\" class=\"data row55 col0\" >Random Forest and KNN and ExtraTreesClassifier</td>\n",
       "      <td id=\"T_88344_row55_col1\" class=\"data row55 col1\" >98,916</td>\n",
       "    </tr>\n",
       "    <tr>\n",
       "      <th id=\"T_88344_level0_row56\" class=\"row_heading level0 row56\" >56</th>\n",
       "      <td id=\"T_88344_row56_col0\" class=\"data row56 col0\" >Random Forest and KNN and GradientBoostingClassifier</td>\n",
       "      <td id=\"T_88344_row56_col1\" class=\"data row56 col1\" >99,061</td>\n",
       "    </tr>\n",
       "    <tr>\n",
       "      <th id=\"T_88344_level0_row57\" class=\"row_heading level0 row57\" >57</th>\n",
       "      <td id=\"T_88344_row57_col0\" class=\"data row57 col0\" >Random Forest and KNN and AdaBoostClassifier</td>\n",
       "      <td id=\"T_88344_row57_col1\" class=\"data row57 col1\" >99,205</td>\n",
       "    </tr>\n",
       "    <tr>\n",
       "      <th id=\"T_88344_level0_row58\" class=\"row_heading level0 row58\" >58</th>\n",
       "      <td id=\"T_88344_row58_col0\" class=\"data row58 col0\" >Random Forest and logistic Regression and ExtraTreesClassifier</td>\n",
       "      <td id=\"T_88344_row58_col1\" class=\"data row58 col1\" >98,844</td>\n",
       "    </tr>\n",
       "    <tr>\n",
       "      <th id=\"T_88344_level0_row59\" class=\"row_heading level0 row59\" >59</th>\n",
       "      <td id=\"T_88344_row59_col0\" class=\"data row59 col0\" >Random Forest and logistic Regression and GradientBoostingClassifier</td>\n",
       "      <td id=\"T_88344_row59_col1\" class=\"data row59 col1\" >98,988</td>\n",
       "    </tr>\n",
       "    <tr>\n",
       "      <th id=\"T_88344_level0_row60\" class=\"row_heading level0 row60\" >60</th>\n",
       "      <td id=\"T_88344_row60_col0\" class=\"data row60 col0\" >Random Forest and logistic Regression and AdaBoostClassifier</td>\n",
       "      <td id=\"T_88344_row60_col1\" class=\"data row60 col1\" >99,061</td>\n",
       "    </tr>\n",
       "    <tr>\n",
       "      <th id=\"T_88344_level0_row61\" class=\"row_heading level0 row61\" >61</th>\n",
       "      <td id=\"T_88344_row61_col0\" class=\"data row61 col0\" >Random Forest and ExtraTreesClassifier and GradientBoostingClassifier</td>\n",
       "      <td id=\"T_88344_row61_col1\" class=\"data row61 col1\" >99,133</td>\n",
       "    </tr>\n",
       "    <tr>\n",
       "      <th id=\"T_88344_level0_row62\" class=\"row_heading level0 row62\" >62</th>\n",
       "      <td id=\"T_88344_row62_col0\" class=\"data row62 col0\" >Random Forest and ExtraTreesClassifier and AdaBoostClassifier</td>\n",
       "      <td id=\"T_88344_row62_col1\" class=\"data row62 col1\" >99,133</td>\n",
       "    </tr>\n",
       "    <tr>\n",
       "      <th id=\"T_88344_level0_row63\" class=\"row_heading level0 row63\" >63</th>\n",
       "      <td id=\"T_88344_row63_col0\" class=\"data row63 col0\" >Random Forest and GradientBoostingClassifier and AdaBoostClassifier</td>\n",
       "      <td id=\"T_88344_row63_col1\" class=\"data row63 col1\" >98,988</td>\n",
       "    </tr>\n",
       "    <tr>\n",
       "      <th id=\"T_88344_level0_row64\" class=\"row_heading level0 row64\" >64</th>\n",
       "      <td id=\"T_88344_row64_col0\" class=\"data row64 col0\" >Decision Tree and Perceptron and SVC</td>\n",
       "      <td id=\"T_88344_row64_col1\" class=\"data row64 col1\" >98,844</td>\n",
       "    </tr>\n",
       "    <tr>\n",
       "      <th id=\"T_88344_level0_row65\" class=\"row_heading level0 row65\" >65</th>\n",
       "      <td id=\"T_88344_row65_col0\" class=\"data row65 col0\" >Decision Tree and Perceptron and KNN</td>\n",
       "      <td id=\"T_88344_row65_col1\" class=\"data row65 col1\" >98,844</td>\n",
       "    </tr>\n",
       "    <tr>\n",
       "      <th id=\"T_88344_level0_row66\" class=\"row_heading level0 row66\" >66</th>\n",
       "      <td id=\"T_88344_row66_col0\" class=\"data row66 col0\" >Decision Tree and Perceptron and logistic Regression</td>\n",
       "      <td id=\"T_88344_row66_col1\" class=\"data row66 col1\" >98,988</td>\n",
       "    </tr>\n",
       "    <tr>\n",
       "      <th id=\"T_88344_level0_row67\" class=\"row_heading level0 row67\" >67</th>\n",
       "      <td id=\"T_88344_row67_col0\" class=\"data row67 col0\" >Decision Tree and Perceptron and ExtraTreesClassifier</td>\n",
       "      <td id=\"T_88344_row67_col1\" class=\"data row67 col1\" >99,061</td>\n",
       "    </tr>\n",
       "    <tr>\n",
       "      <th id=\"T_88344_level0_row68\" class=\"row_heading level0 row68\" >68</th>\n",
       "      <td id=\"T_88344_row68_col0\" class=\"data row68 col0\" >Decision Tree and Perceptron and GradientBoostingClassifier</td>\n",
       "      <td id=\"T_88344_row68_col1\" class=\"data row68 col1\" >98,555</td>\n",
       "    </tr>\n",
       "    <tr>\n",
       "      <th id=\"T_88344_level0_row69\" class=\"row_heading level0 row69\" >69</th>\n",
       "      <td id=\"T_88344_row69_col0\" class=\"data row69 col0\" >Decision Tree and Perceptron and AdaBoostClassifier</td>\n",
       "      <td id=\"T_88344_row69_col1\" class=\"data row69 col1\" >98,988</td>\n",
       "    </tr>\n",
       "    <tr>\n",
       "      <th id=\"T_88344_level0_row70\" class=\"row_heading level0 row70\" >70</th>\n",
       "      <td id=\"T_88344_row70_col0\" class=\"data row70 col0\" >Decision Tree and SVC and KNN</td>\n",
       "      <td id=\"T_88344_row70_col1\" class=\"data row70 col1\" >97,832</td>\n",
       "    </tr>\n",
       "    <tr>\n",
       "      <th id=\"T_88344_level0_row71\" class=\"row_heading level0 row71\" >71</th>\n",
       "      <td id=\"T_88344_row71_col0\" class=\"data row71 col0\" >Decision Tree and SVC and logistic Regression</td>\n",
       "      <td id=\"T_88344_row71_col1\" class=\"data row71 col1\" >98,483</td>\n",
       "    </tr>\n",
       "    <tr>\n",
       "      <th id=\"T_88344_level0_row72\" class=\"row_heading level0 row72\" >72</th>\n",
       "      <td id=\"T_88344_row72_col0\" class=\"data row72 col0\" >Decision Tree and SVC and ExtraTreesClassifier</td>\n",
       "      <td id=\"T_88344_row72_col1\" class=\"data row72 col1\" >98,555</td>\n",
       "    </tr>\n",
       "    <tr>\n",
       "      <th id=\"T_88344_level0_row73\" class=\"row_heading level0 row73\" >73</th>\n",
       "      <td id=\"T_88344_row73_col0\" class=\"data row73 col0\" >Decision Tree and SVC and GradientBoostingClassifier</td>\n",
       "      <td id=\"T_88344_row73_col1\" class=\"data row73 col1\" >98,410</td>\n",
       "    </tr>\n",
       "    <tr>\n",
       "      <th id=\"T_88344_level0_row74\" class=\"row_heading level0 row74\" >74</th>\n",
       "      <td id=\"T_88344_row74_col0\" class=\"data row74 col0\" >Decision Tree and SVC and AdaBoostClassifier</td>\n",
       "      <td id=\"T_88344_row74_col1\" class=\"data row74 col1\" >98,844</td>\n",
       "    </tr>\n",
       "    <tr>\n",
       "      <th id=\"T_88344_level0_row75\" class=\"row_heading level0 row75\" >75</th>\n",
       "      <td id=\"T_88344_row75_col0\" class=\"data row75 col0\" >Decision Tree and KNN and logistic Regression</td>\n",
       "      <td id=\"T_88344_row75_col1\" class=\"data row75 col1\" >98,410</td>\n",
       "    </tr>\n",
       "    <tr>\n",
       "      <th id=\"T_88344_level0_row76\" class=\"row_heading level0 row76\" >76</th>\n",
       "      <td id=\"T_88344_row76_col0\" class=\"data row76 col0\" >Decision Tree and KNN and ExtraTreesClassifier</td>\n",
       "      <td id=\"T_88344_row76_col1\" class=\"data row76 col1\" >98,555</td>\n",
       "    </tr>\n",
       "    <tr>\n",
       "      <th id=\"T_88344_level0_row77\" class=\"row_heading level0 row77\" >77</th>\n",
       "      <td id=\"T_88344_row77_col0\" class=\"data row77 col0\" >Decision Tree and KNN and GradientBoostingClassifier</td>\n",
       "      <td id=\"T_88344_row77_col1\" class=\"data row77 col1\" >98,483</td>\n",
       "    </tr>\n",
       "    <tr>\n",
       "      <th id=\"T_88344_level0_row78\" class=\"row_heading level0 row78\" >78</th>\n",
       "      <td id=\"T_88344_row78_col0\" class=\"data row78 col0\" >Decision Tree and KNN and AdaBoostClassifier</td>\n",
       "      <td id=\"T_88344_row78_col1\" class=\"data row78 col1\" >98,844</td>\n",
       "    </tr>\n",
       "    <tr>\n",
       "      <th id=\"T_88344_level0_row79\" class=\"row_heading level0 row79\" >79</th>\n",
       "      <td id=\"T_88344_row79_col0\" class=\"data row79 col0\" >Decision Tree and logistic Regression and ExtraTreesClassifier</td>\n",
       "      <td id=\"T_88344_row79_col1\" class=\"data row79 col1\" >98,916</td>\n",
       "    </tr>\n",
       "    <tr>\n",
       "      <th id=\"T_88344_level0_row80\" class=\"row_heading level0 row80\" >80</th>\n",
       "      <td id=\"T_88344_row80_col0\" class=\"data row80 col0\" >Decision Tree and logistic Regression and GradientBoostingClassifier</td>\n",
       "      <td id=\"T_88344_row80_col1\" class=\"data row80 col1\" >98,844</td>\n",
       "    </tr>\n",
       "    <tr>\n",
       "      <th id=\"T_88344_level0_row81\" class=\"row_heading level0 row81\" >81</th>\n",
       "      <td id=\"T_88344_row81_col0\" class=\"data row81 col0\" >Decision Tree and logistic Regression and AdaBoostClassifier</td>\n",
       "      <td id=\"T_88344_row81_col1\" class=\"data row81 col1\" >99,133</td>\n",
       "    </tr>\n",
       "    <tr>\n",
       "      <th id=\"T_88344_level0_row82\" class=\"row_heading level0 row82\" >82</th>\n",
       "      <td id=\"T_88344_row82_col0\" class=\"data row82 col0\" >Decision Tree and ExtraTreesClassifier and GradientBoostingClassifier</td>\n",
       "      <td id=\"T_88344_row82_col1\" class=\"data row82 col1\" >98,916</td>\n",
       "    </tr>\n",
       "    <tr>\n",
       "      <th id=\"T_88344_level0_row83\" class=\"row_heading level0 row83\" >83</th>\n",
       "      <td id=\"T_88344_row83_col0\" class=\"data row83 col0\" >Decision Tree and ExtraTreesClassifier and AdaBoostClassifier</td>\n",
       "      <td id=\"T_88344_row83_col1\" class=\"data row83 col1\" >99,422</td>\n",
       "    </tr>\n",
       "    <tr>\n",
       "      <th id=\"T_88344_level0_row84\" class=\"row_heading level0 row84\" >84</th>\n",
       "      <td id=\"T_88344_row84_col0\" class=\"data row84 col0\" >Decision Tree and GradientBoostingClassifier and AdaBoostClassifier</td>\n",
       "      <td id=\"T_88344_row84_col1\" class=\"data row84 col1\" >98,772</td>\n",
       "    </tr>\n",
       "    <tr>\n",
       "      <th id=\"T_88344_level0_row85\" class=\"row_heading level0 row85\" >85</th>\n",
       "      <td id=\"T_88344_row85_col0\" class=\"data row85 col0\" >Perceptron and SVC and KNN</td>\n",
       "      <td id=\"T_88344_row85_col1\" class=\"data row85 col1\" >98,121</td>\n",
       "    </tr>\n",
       "    <tr>\n",
       "      <th id=\"T_88344_level0_row86\" class=\"row_heading level0 row86\" >86</th>\n",
       "      <td id=\"T_88344_row86_col0\" class=\"data row86 col0\" >Perceptron and SVC and logistic Regression</td>\n",
       "      <td id=\"T_88344_row86_col1\" class=\"data row86 col1\" >98,772</td>\n",
       "    </tr>\n",
       "    <tr>\n",
       "      <th id=\"T_88344_level0_row87\" class=\"row_heading level0 row87\" >87</th>\n",
       "      <td id=\"T_88344_row87_col0\" class=\"data row87 col0\" >Perceptron and SVC and ExtraTreesClassifier</td>\n",
       "      <td id=\"T_88344_row87_col1\" class=\"data row87 col1\" >98,916</td>\n",
       "    </tr>\n",
       "    <tr>\n",
       "      <th id=\"T_88344_level0_row88\" class=\"row_heading level0 row88\" >88</th>\n",
       "      <td id=\"T_88344_row88_col0\" class=\"data row88 col0\" >Perceptron and SVC and GradientBoostingClassifier</td>\n",
       "      <td id=\"T_88344_row88_col1\" class=\"data row88 col1\" >98,988</td>\n",
       "    </tr>\n",
       "    <tr>\n",
       "      <th id=\"T_88344_level0_row89\" class=\"row_heading level0 row89\" >89</th>\n",
       "      <td id=\"T_88344_row89_col0\" class=\"data row89 col0\" >Perceptron and SVC and AdaBoostClassifier</td>\n",
       "      <td id=\"T_88344_row89_col1\" class=\"data row89 col1\" >98,988</td>\n",
       "    </tr>\n",
       "    <tr>\n",
       "      <th id=\"T_88344_level0_row90\" class=\"row_heading level0 row90\" >90</th>\n",
       "      <td id=\"T_88344_row90_col0\" class=\"data row90 col0\" >Perceptron and KNN and logistic Regression</td>\n",
       "      <td id=\"T_88344_row90_col1\" class=\"data row90 col1\" >98,555</td>\n",
       "    </tr>\n",
       "    <tr>\n",
       "      <th id=\"T_88344_level0_row91\" class=\"row_heading level0 row91\" >91</th>\n",
       "      <td id=\"T_88344_row91_col0\" class=\"data row91 col0\" >Perceptron and KNN and ExtraTreesClassifier</td>\n",
       "      <td id=\"T_88344_row91_col1\" class=\"data row91 col1\" >98,916</td>\n",
       "    </tr>\n",
       "    <tr>\n",
       "      <th id=\"T_88344_level0_row92\" class=\"row_heading level0 row92\" >92</th>\n",
       "      <td id=\"T_88344_row92_col0\" class=\"data row92 col0\" >Perceptron and KNN and GradientBoostingClassifier</td>\n",
       "      <td id=\"T_88344_row92_col1\" class=\"data row92 col1\" >98,916</td>\n",
       "    </tr>\n",
       "    <tr>\n",
       "      <th id=\"T_88344_level0_row93\" class=\"row_heading level0 row93\" >93</th>\n",
       "      <td id=\"T_88344_row93_col0\" class=\"data row93 col0\" >Perceptron and KNN and AdaBoostClassifier</td>\n",
       "      <td id=\"T_88344_row93_col1\" class=\"data row93 col1\" >98,988</td>\n",
       "    </tr>\n",
       "    <tr>\n",
       "      <th id=\"T_88344_level0_row94\" class=\"row_heading level0 row94\" >94</th>\n",
       "      <td id=\"T_88344_row94_col0\" class=\"data row94 col0\" >Perceptron and logistic Regression and ExtraTreesClassifier</td>\n",
       "      <td id=\"T_88344_row94_col1\" class=\"data row94 col1\" >99,133</td>\n",
       "    </tr>\n",
       "    <tr>\n",
       "      <th id=\"T_88344_level0_row95\" class=\"row_heading level0 row95\" >95</th>\n",
       "      <td id=\"T_88344_row95_col0\" class=\"data row95 col0\" >Perceptron and logistic Regression and GradientBoostingClassifier</td>\n",
       "      <td id=\"T_88344_row95_col1\" class=\"data row95 col1\" >99,133</td>\n",
       "    </tr>\n",
       "    <tr>\n",
       "      <th id=\"T_88344_level0_row96\" class=\"row_heading level0 row96\" >96</th>\n",
       "      <td id=\"T_88344_row96_col0\" class=\"data row96 col0\" >Perceptron and logistic Regression and AdaBoostClassifier</td>\n",
       "      <td id=\"T_88344_row96_col1\" class=\"data row96 col1\" >99,133</td>\n",
       "    </tr>\n",
       "    <tr>\n",
       "      <th id=\"T_88344_level0_row97\" class=\"row_heading level0 row97\" >97</th>\n",
       "      <td id=\"T_88344_row97_col0\" class=\"data row97 col0\" >Perceptron and ExtraTreesClassifier and GradientBoostingClassifier</td>\n",
       "      <td id=\"T_88344_row97_col1\" class=\"data row97 col1\" >99,133</td>\n",
       "    </tr>\n",
       "    <tr>\n",
       "      <th id=\"T_88344_level0_row98\" class=\"row_heading level0 row98\" >98</th>\n",
       "      <td id=\"T_88344_row98_col0\" class=\"data row98 col0\" >Perceptron and ExtraTreesClassifier and AdaBoostClassifier</td>\n",
       "      <td id=\"T_88344_row98_col1\" class=\"data row98 col1\" >99,205</td>\n",
       "    </tr>\n",
       "    <tr>\n",
       "      <th id=\"T_88344_level0_row99\" class=\"row_heading level0 row99\" >99</th>\n",
       "      <td id=\"T_88344_row99_col0\" class=\"data row99 col0\" >Perceptron and GradientBoostingClassifier and AdaBoostClassifier</td>\n",
       "      <td id=\"T_88344_row99_col1\" class=\"data row99 col1\" >99,205</td>\n",
       "    </tr>\n",
       "    <tr>\n",
       "      <th id=\"T_88344_level0_row100\" class=\"row_heading level0 row100\" >100</th>\n",
       "      <td id=\"T_88344_row100_col0\" class=\"data row100 col0\" >SVC and KNN and logistic Regression</td>\n",
       "      <td id=\"T_88344_row100_col1\" class=\"data row100 col1\" >97,760</td>\n",
       "    </tr>\n",
       "    <tr>\n",
       "      <th id=\"T_88344_level0_row101\" class=\"row_heading level0 row101\" >101</th>\n",
       "      <td id=\"T_88344_row101_col0\" class=\"data row101 col0\" >SVC and KNN and ExtraTreesClassifier</td>\n",
       "      <td id=\"T_88344_row101_col1\" class=\"data row101 col1\" >97,977</td>\n",
       "    </tr>\n",
       "    <tr>\n",
       "      <th id=\"T_88344_level0_row102\" class=\"row_heading level0 row102\" >102</th>\n",
       "      <td id=\"T_88344_row102_col0\" class=\"data row102 col0\" >SVC and KNN and GradientBoostingClassifier</td>\n",
       "      <td id=\"T_88344_row102_col1\" class=\"data row102 col1\" >98,049</td>\n",
       "    </tr>\n",
       "    <tr>\n",
       "      <th id=\"T_88344_level0_row103\" class=\"row_heading level0 row103\" >103</th>\n",
       "      <td id=\"T_88344_row103_col0\" class=\"data row103 col0\" >SVC and KNN and AdaBoostClassifier</td>\n",
       "      <td id=\"T_88344_row103_col1\" class=\"data row103 col1\" >97,977</td>\n",
       "    </tr>\n",
       "    <tr>\n",
       "      <th id=\"T_88344_level0_row104\" class=\"row_heading level0 row104\" >104</th>\n",
       "      <td id=\"T_88344_row104_col0\" class=\"data row104 col0\" >SVC and logistic Regression and ExtraTreesClassifier</td>\n",
       "      <td id=\"T_88344_row104_col1\" class=\"data row104 col1\" >98,699</td>\n",
       "    </tr>\n",
       "    <tr>\n",
       "      <th id=\"T_88344_level0_row105\" class=\"row_heading level0 row105\" >105</th>\n",
       "      <td id=\"T_88344_row105_col0\" class=\"data row105 col0\" >SVC and logistic Regression and GradientBoostingClassifier</td>\n",
       "      <td id=\"T_88344_row105_col1\" class=\"data row105 col1\" >98,916</td>\n",
       "    </tr>\n",
       "    <tr>\n",
       "      <th id=\"T_88344_level0_row106\" class=\"row_heading level0 row106\" >106</th>\n",
       "      <td id=\"T_88344_row106_col0\" class=\"data row106 col0\" >SVC and logistic Regression and AdaBoostClassifier</td>\n",
       "      <td id=\"T_88344_row106_col1\" class=\"data row106 col1\" >98,916</td>\n",
       "    </tr>\n",
       "    <tr>\n",
       "      <th id=\"T_88344_level0_row107\" class=\"row_heading level0 row107\" >107</th>\n",
       "      <td id=\"T_88344_row107_col0\" class=\"data row107 col0\" >SVC and ExtraTreesClassifier and GradientBoostingClassifier</td>\n",
       "      <td id=\"T_88344_row107_col1\" class=\"data row107 col1\" >99,061</td>\n",
       "    </tr>\n",
       "    <tr>\n",
       "      <th id=\"T_88344_level0_row108\" class=\"row_heading level0 row108\" >108</th>\n",
       "      <td id=\"T_88344_row108_col0\" class=\"data row108 col0\" >SVC and ExtraTreesClassifier and AdaBoostClassifier</td>\n",
       "      <td id=\"T_88344_row108_col1\" class=\"data row108 col1\" >98,988</td>\n",
       "    </tr>\n",
       "    <tr>\n",
       "      <th id=\"T_88344_level0_row109\" class=\"row_heading level0 row109\" >109</th>\n",
       "      <td id=\"T_88344_row109_col0\" class=\"data row109 col0\" >SVC and GradientBoostingClassifier and AdaBoostClassifier</td>\n",
       "      <td id=\"T_88344_row109_col1\" class=\"data row109 col1\" >99,205</td>\n",
       "    </tr>\n",
       "    <tr>\n",
       "      <th id=\"T_88344_level0_row110\" class=\"row_heading level0 row110\" >110</th>\n",
       "      <td id=\"T_88344_row110_col0\" class=\"data row110 col0\" >KNN and logistic Regression and ExtraTreesClassifier</td>\n",
       "      <td id=\"T_88344_row110_col1\" class=\"data row110 col1\" >98,627</td>\n",
       "    </tr>\n",
       "    <tr>\n",
       "      <th id=\"T_88344_level0_row111\" class=\"row_heading level0 row111\" >111</th>\n",
       "      <td id=\"T_88344_row111_col0\" class=\"data row111 col0\" >KNN and logistic Regression and GradientBoostingClassifier</td>\n",
       "      <td id=\"T_88344_row111_col1\" class=\"data row111 col1\" >98,772</td>\n",
       "    </tr>\n",
       "    <tr>\n",
       "      <th id=\"T_88344_level0_row112\" class=\"row_heading level0 row112\" >112</th>\n",
       "      <td id=\"T_88344_row112_col0\" class=\"data row112 col0\" >KNN and logistic Regression and AdaBoostClassifier</td>\n",
       "      <td id=\"T_88344_row112_col1\" class=\"data row112 col1\" >98,699</td>\n",
       "    </tr>\n",
       "    <tr>\n",
       "      <th id=\"T_88344_level0_row113\" class=\"row_heading level0 row113\" >113</th>\n",
       "      <td id=\"T_88344_row113_col0\" class=\"data row113 col0\" >KNN and ExtraTreesClassifier and GradientBoostingClassifier</td>\n",
       "      <td id=\"T_88344_row113_col1\" class=\"data row113 col1\" >98,988</td>\n",
       "    </tr>\n",
       "    <tr>\n",
       "      <th id=\"T_88344_level0_row114\" class=\"row_heading level0 row114\" >114</th>\n",
       "      <td id=\"T_88344_row114_col0\" class=\"data row114 col0\" >KNN and ExtraTreesClassifier and AdaBoostClassifier</td>\n",
       "      <td id=\"T_88344_row114_col1\" class=\"data row114 col1\" >98,988</td>\n",
       "    </tr>\n",
       "    <tr>\n",
       "      <th id=\"T_88344_level0_row115\" class=\"row_heading level0 row115\" >115</th>\n",
       "      <td id=\"T_88344_row115_col0\" class=\"data row115 col0\" >KNN and GradientBoostingClassifier and AdaBoostClassifier</td>\n",
       "      <td id=\"T_88344_row115_col1\" class=\"data row115 col1\" >99,133</td>\n",
       "    </tr>\n",
       "    <tr>\n",
       "      <th id=\"T_88344_level0_row116\" class=\"row_heading level0 row116\" >116</th>\n",
       "      <td id=\"T_88344_row116_col0\" class=\"data row116 col0\" >logistic Regression and ExtraTreesClassifier and GradientBoostingClassifier</td>\n",
       "      <td id=\"T_88344_row116_col1\" class=\"data row116 col1\" >98,988</td>\n",
       "    </tr>\n",
       "    <tr>\n",
       "      <th id=\"T_88344_level0_row117\" class=\"row_heading level0 row117\" >117</th>\n",
       "      <td id=\"T_88344_row117_col0\" class=\"data row117 col0\" >logistic Regression and ExtraTreesClassifier and AdaBoostClassifier</td>\n",
       "      <td id=\"T_88344_row117_col1\" class=\"data row117 col1\" >98,916</td>\n",
       "    </tr>\n",
       "    <tr>\n",
       "      <th id=\"T_88344_level0_row118\" class=\"row_heading level0 row118\" >118</th>\n",
       "      <td id=\"T_88344_row118_col0\" class=\"data row118 col0\" >logistic Regression and GradientBoostingClassifier and AdaBoostClassifier</td>\n",
       "      <td id=\"T_88344_row118_col1\" class=\"data row118 col1\" >99,061</td>\n",
       "    </tr>\n",
       "    <tr>\n",
       "      <th id=\"T_88344_level0_row119\" class=\"row_heading level0 row119\" >119</th>\n",
       "      <td id=\"T_88344_row119_col0\" class=\"data row119 col0\" >ExtraTreesClassifier and GradientBoostingClassifier and AdaBoostClassifier</td>\n",
       "      <td id=\"T_88344_row119_col1\" class=\"data row119 col1\" >99,277</td>\n",
       "    </tr>\n",
       "    <tr>\n",
       "      <th id=\"T_88344_level0_row120\" class=\"row_heading level0 row120\" >Max Accuracy</th>\n",
       "      <td id=\"T_88344_row120_col0\" class=\"data row120 col0\" >[('Decision Tree', DecisionTreeClassifier(random_state=42)), ('ExtraTreesClassifier', ExtraTreesClassifier(random_state=42)), ('AdaBoostClassifier', AdaBoostClassifier(random_state=42))]</td>\n",
       "      <td id=\"T_88344_row120_col1\" class=\"data row120 col1\" >99,422</td>\n",
       "    </tr>\n",
       "  </tbody>\n",
       "</table>\n"
      ],
      "text/plain": [
       "<pandas.io.formats.style.Styler at 0x29c0494be10>"
      ]
     },
     "execution_count": 113,
     "metadata": {},
     "output_type": "execute_result"
    }
   ],
   "source": [
    "List221=list(range(0,120))\n",
    "List221.append('Max Accuracy')\n",
    "DataFrame_round3_2.style \\\n",
    "  .format(precision=3, thousands=\".\", decimal=\",\") \\\n",
    "  .format_index(str.upper, axis=1) \\\n",
    "  .relabel_index(List221, axis=0)"
   ]
  },
  {
   "cell_type": "markdown",
   "metadata": {},
   "source": [
    "## Conclusion\n",
    "\n",
    "This paper presents a comprehensive exploration into two major components: Movie Recommendation System and Sentiment Analysis. The Movie Recommendation System utilizes the Cosine Similarity algorithm to provide accurate movie suggestions based on various factors such as genre, overview, cast, and ratings. The algorithm demonstrates consistent and reliable results through multiple tests, affirming its effectiveness.\n",
    "\n",
    "In the realm of sentiment analysis, two algorithms, Naïve Bayes (NB) and Support Vector Machine (SVM) Classifier, are employed to classify reviews as positive or negative. The goal is to identify the most suitable algorithm for diverse reviews. Experimental results reveal that SVM outperforms NB, albeit by a small margin, emphasizing its superiority in sentiment analysis.\n",
    "\n",
    "The study identifies potential areas for future improvement, including enhancing the accuracy of sentiment analysis for classifying sarcastic or ironic reviews, extending sentiment analysis to languages beyond English, and refining movie recommendations based on users' preferences.\n",
    "\n",
    "Despite the system's high accuracy, certain limitations exist. The system may falter when the user inputs a movie not present in the dataset or enters the name differently. Additionally, the linguistic barrier in sentiment analysis is acknowledged, as only English reviews are currently analyzed, and sarcasm or irony can lead to misclassification.\n"
   ]
  }
 ],
 "metadata": {
  "colab": {
   "collapsed_sections": [],
   "name": "Movie_Recommendationfinal.ipynb",
   "provenance": []
  },
  "kernelspec": {
   "display_name": "Python 3 (ipykernel)",
   "language": "python",
   "name": "python3"
  },
  "language_info": {
   "codemirror_mode": {
    "name": "ipython",
    "version": 3
   },
   "file_extension": ".py",
   "mimetype": "text/x-python",
   "name": "python",
   "nbconvert_exporter": "python",
   "pygments_lexer": "ipython3",
   "version": "3.11.5"
  }
 },
 "nbformat": 4,
 "nbformat_minor": 1
}
